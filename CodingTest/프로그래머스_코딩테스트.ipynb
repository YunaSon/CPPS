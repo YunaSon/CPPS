{
 "cells": [
  {
   "cell_type": "code",
   "execution_count": null,
   "metadata": {},
   "outputs": [],
   "source": []
  },
  {
   "cell_type": "code",
   "execution_count": 1,
   "metadata": {},
   "outputs": [],
   "source": [
    "def solution(participant, completion):\n",
    "    p = set(participant)\n",
    "    s = set(completion)\n",
    "    \n",
    "    answer = p.differnt(s)\n",
    "    \n",
    "    answer = ''\n",
    "    return answer"
   ]
  },
  {
   "cell_type": "code",
   "execution_count": 2,
   "metadata": {},
   "outputs": [],
   "source": [
    "a = ['hi','hello','good']\n",
    "b = ['hi','good']"
   ]
  },
  {
   "cell_type": "code",
   "execution_count": 3,
   "metadata": {},
   "outputs": [
    {
     "data": {
      "text/plain": [
       "{'good', 'hello', 'hi'}"
      ]
     },
     "execution_count": 3,
     "metadata": {},
     "output_type": "execute_result"
    }
   ],
   "source": [
    "a = set(a)\n",
    "a"
   ]
  },
  {
   "cell_type": "code",
   "execution_count": 5,
   "metadata": {},
   "outputs": [
    {
     "data": {
      "text/plain": [
       "{'good', 'hi'}"
      ]
     },
     "execution_count": 5,
     "metadata": {},
     "output_type": "execute_result"
    }
   ],
   "source": [
    "b = set(b)\n",
    "b"
   ]
  },
  {
   "cell_type": "code",
   "execution_count": 8,
   "metadata": {},
   "outputs": [],
   "source": [
    "def solution(participant, completion):\n",
    "    p = set(participant)\n",
    "    s = set(completion)\n",
    "    \n",
    "    answer = p.difference(s)\n",
    "    i = ''\n",
    "    for i in answer:\n",
    "        print(i)\n",
    "    \n",
    "    return i"
   ]
  },
  {
   "cell_type": "code",
   "execution_count": 9,
   "metadata": {},
   "outputs": [],
   "source": [
    "participant = ['god','jy','son','yuna','hj','jk','kim','jy']\n",
    "completion = ['god','jy','jy']"
   ]
  },
  {
   "cell_type": "code",
   "execution_count": 10,
   "metadata": {},
   "outputs": [
    {
     "name": "stdout",
     "output_type": "stream",
     "text": [
      "jk\n",
      "hj\n",
      "yuna\n",
      "son\n",
      "kim\n"
     ]
    },
    {
     "data": {
      "text/plain": [
       "'kim'"
      ]
     },
     "execution_count": 10,
     "metadata": {},
     "output_type": "execute_result"
    }
   ],
   "source": [
    "solution(participant, completion)"
   ]
  },
  {
   "cell_type": "code",
   "execution_count": 18,
   "metadata": {},
   "outputs": [
    {
     "data": {
      "text/plain": [
       "[]"
      ]
     },
     "execution_count": 18,
     "metadata": {},
     "output_type": "execute_result"
    }
   ],
   "source": [
    "participant = [\"mislav\", \"stanko\", \"mislav\", \"ana\"]\n",
    "completion = [\"stanko\", \"ana\", \"mislav\"]\n",
    "\n",
    "p = set(participant)\n",
    "s = set(completion)\n",
    "    \n",
    "answer = p.difference(s)\n",
    "answer = list(answer)\n",
    "answer"
   ]
  },
  {
   "cell_type": "code",
   "execution_count": 19,
   "metadata": {},
   "outputs": [],
   "source": [
    "def solution(participant, completion):\n",
    "    p = set(participant)\n",
    "    s = set(completion)\n",
    "    \n",
    "    answer = p.difference(s)\n",
    "    answer = list(answer)\n",
    "    if len(answer) >= 1:\n",
    "        return answer[0]\n",
    "    else:\n",
    "        return None"
   ]
  },
  {
   "cell_type": "code",
   "execution_count": 21,
   "metadata": {},
   "outputs": [],
   "source": [
    "a = solution(participant, completion)"
   ]
  },
  {
   "cell_type": "code",
   "execution_count": 22,
   "metadata": {},
   "outputs": [
    {
     "name": "stdout",
     "output_type": "stream",
     "text": [
      "None\n"
     ]
    }
   ],
   "source": [
    "print(a)"
   ]
  },
  {
   "cell_type": "code",
   "execution_count": 24,
   "metadata": {},
   "outputs": [],
   "source": [
    "mydict = {\"h\":1, \"j\":3, \"c\":1}"
   ]
  },
  {
   "cell_type": "code",
   "execution_count": null,
   "metadata": {},
   "outputs": [],
   "source": []
  },
  {
   "cell_type": "code",
   "execution_count": null,
   "metadata": {},
   "outputs": [],
   "source": []
  },
  {
   "cell_type": "code",
   "execution_count": null,
   "metadata": {},
   "outputs": [],
   "source": []
  },
  {
   "cell_type": "code",
   "execution_count": null,
   "metadata": {},
   "outputs": [],
   "source": []
  },
  {
   "cell_type": "code",
   "execution_count": null,
   "metadata": {},
   "outputs": [],
   "source": []
  },
  {
   "cell_type": "code",
   "execution_count": null,
   "metadata": {},
   "outputs": [],
   "source": []
  },
  {
   "cell_type": "code",
   "execution_count": 51,
   "metadata": {},
   "outputs": [],
   "source": [
    "clothes = [['yellow_hat', 'headgear'], \n",
    "           ['blue_sunglasses', 'eyewear'], \n",
    "           ['green_turban', 'headgear'],\n",
    "           ['blue_gean', 'bottom'],\n",
    "           ['red_gean', 'bottom']]\n",
    "\n",
    "dic = {}\n",
    "for i in clothes:\n",
    "    if i[1] not in dic.keys():\n",
    "        dic[i[1]] = [i[0]]\n",
    "    else:\n",
    "        dic[i[1]].append(i[0]) \n",
    "answer = len(dic)"
   ]
  },
  {
   "cell_type": "code",
   "execution_count": 52,
   "metadata": {},
   "outputs": [
    {
     "data": {
      "text/plain": [
       "{'headgear': ['yellow_hat', 'green_turban'],\n",
       " 'eyewear': ['blue_sunglasses'],\n",
       " 'bottom': ['blue_gean', 'red_gean']}"
      ]
     },
     "execution_count": 52,
     "metadata": {},
     "output_type": "execute_result"
    }
   ],
   "source": [
    "dic"
   ]
  },
  {
   "cell_type": "code",
   "execution_count": 41,
   "metadata": {},
   "outputs": [],
   "source": [
    "a = dic['eyewear']"
   ]
  },
  {
   "cell_type": "code",
   "execution_count": 38,
   "metadata": {},
   "outputs": [
    {
     "data": {
      "text/plain": [
       "['blue_sunglasses']"
      ]
     },
     "execution_count": 38,
     "metadata": {},
     "output_type": "execute_result"
    }
   ],
   "source": [
    "a"
   ]
  },
  {
   "cell_type": "code",
   "execution_count": 58,
   "metadata": {},
   "outputs": [],
   "source": [
    "dic = {}\n",
    "for i in clothes:\n",
    "    if i[1] not in dic.keys():\n",
    "        dic[i[1]] = [i[0]]\n",
    "    else:\n",
    "        dic[i[1]].append(i[0]) "
   ]
  },
  {
   "cell_type": "code",
   "execution_count": 59,
   "metadata": {},
   "outputs": [
    {
     "data": {
      "text/plain": [
       "{'headgear': ['yellow_hat', 'green_turban'],\n",
       " 'eyewear': ['blue_sunglasses'],\n",
       " 'bottom': ['blue_gean', 'red_gean']}"
      ]
     },
     "execution_count": 59,
     "metadata": {},
     "output_type": "execute_result"
    }
   ],
   "source": [
    "dic"
   ]
  },
  {
   "cell_type": "code",
   "execution_count": 60,
   "metadata": {},
   "outputs": [],
   "source": [
    "del dic['bottom']"
   ]
  },
  {
   "cell_type": "code",
   "execution_count": 87,
   "metadata": {},
   "outputs": [
    {
     "data": {
      "text/plain": [
       "{'headgear': ['yellow_hat', 'green_turban'], 'eyewear': ['blue_sunglasses']}"
      ]
     },
     "execution_count": 87,
     "metadata": {},
     "output_type": "execute_result"
    }
   ],
   "source": [
    "dic"
   ]
  },
  {
   "cell_type": "code",
   "execution_count": 90,
   "metadata": {},
   "outputs": [
    {
     "data": {
      "text/plain": [
       "1"
      ]
     },
     "execution_count": 90,
     "metadata": {},
     "output_type": "execute_result"
    }
   ],
   "source": [
    "len(dic['eyewear'])"
   ]
  },
  {
   "cell_type": "code",
   "execution_count": 91,
   "metadata": {},
   "outputs": [
    {
     "data": {
      "text/plain": [
       "list"
      ]
     },
     "execution_count": 91,
     "metadata": {},
     "output_type": "execute_result"
    }
   ],
   "source": [
    "type(dic['eyewear'])"
   ]
  },
  {
   "cell_type": "code",
   "execution_count": null,
   "metadata": {},
   "outputs": [],
   "source": [
    "answer = len(clothes)\n",
    "for i in dic.values():\n",
    "    if len(i) >= 2:\n",
    "        answer += len(i)"
   ]
  },
  {
   "cell_type": "code",
   "execution_count": 50,
   "metadata": {},
   "outputs": [
    {
     "data": {
      "text/plain": [
       "3"
      ]
     },
     "execution_count": 50,
     "metadata": {},
     "output_type": "execute_result"
    }
   ],
   "source": [
    "a = [['crow_mask', 'face'], ['blue_sunglasses', 'face'], ['smoky_makeup', 'face']]\n",
    "len(a)"
   ]
  },
  {
   "cell_type": "code",
   "execution_count": 84,
   "metadata": {},
   "outputs": [],
   "source": [
    "def solution(clothes):\n",
    "    answer = len(clothes)\n",
    "    dic = {}\n",
    "    for i in clothes:\n",
    "        if i[1] not in dic.keys():\n",
    "            dic[i[1]] = [i[0]]\n",
    "        else:\n",
    "            dic[i[1]].append(i[0]) \n",
    "    for i,j in dic.items():\n",
    "        if len(j) >= 2:\n",
    "            for k in dic:\n",
    "                if i not in dic.keys():\n",
    "                    answer += len(i) * len(dic[j])\n",
    "    return answer"
   ]
  },
  {
   "cell_type": "code",
   "execution_count": 139,
   "metadata": {},
   "outputs": [
    {
     "data": {
      "text/plain": [
       "23"
      ]
     },
     "execution_count": 139,
     "metadata": {},
     "output_type": "execute_result"
    }
   ],
   "source": [
    "clothes = [['yellow_hat', 'headgear'], \n",
    "           ['blue_sunglasses', 'eyewear'], \n",
    "           ['green_turban', 'headgear'],\n",
    "           ['crow_mask', 'face'], \n",
    "           ['blue_sunglasses', 'face'], \n",
    "           ['smoky_makeup', 'face']]"
   ]
  },
  {
   "cell_type": "code",
   "execution_count": 140,
   "metadata": {},
   "outputs": [
    {
     "data": {
      "text/plain": [
       "(23,\n",
       " {'headgear': ['yellow_hat', 'green_turban'],\n",
       "  'eyewear': ['blue_sunglasses'],\n",
       "  'face': ['crow_mask', 'blue_sunglasses', 'smoky_makeup']})"
      ]
     },
     "execution_count": 140,
     "metadata": {},
     "output_type": "execute_result"
    }
   ],
   "source": [
    "solution(clothes)"
   ]
  },
  {
   "cell_type": "code",
   "execution_count": 136,
   "metadata": {},
   "outputs": [],
   "source": [
    "def solution(clothes):\n",
    "    answer = len(clothes)\n",
    "    dic = {}\n",
    "    for i in clothes:\n",
    "        if i[1] not in dic.keys():\n",
    "            dic[i[1]] = [i[0]]\n",
    "        else:\n",
    "            dic[i[1]].append(i[0]) \n",
    "    for i,j in dic.items():\n",
    "        if len(j) >= 2:\n",
    "            for k in dic:\n",
    "                if i != k:\n",
    "                    answer *= len(j) * len(dic[k])\n",
    "    return answer"
   ]
  },
  {
   "cell_type": "code",
   "execution_count": 160,
   "metadata": {},
   "outputs": [],
   "source": [
    "def solution(clothes):\n",
    "    answer = 0\n",
    "    hsh = {}\n",
    "    for val, key in clothes:\n",
    "        if key not in hsh:\n",
    "            hsh[key] = 1\n",
    "        else:\n",
    "            hsh[key] += 1\n",
    "    vals = list(hsh.values())\n",
    "    num_cases = 1\n",
    "    for n in vals:\n",
    "        num_cases *= (n+1)\n",
    "    answer = num_cases - 1\n",
    "    return answer, vals"
   ]
  },
  {
   "cell_type": "code",
   "execution_count": 161,
   "metadata": {},
   "outputs": [
    {
     "data": {
      "text/plain": [
       "{'headgear': ['yellow_hat', 'green_turban'], 'eyewear': ['blue_sunglasses']}"
      ]
     },
     "execution_count": 161,
     "metadata": {},
     "output_type": "execute_result"
    }
   ],
   "source": [
    "dic"
   ]
  },
  {
   "cell_type": "code",
   "execution_count": 162,
   "metadata": {},
   "outputs": [
    {
     "data": {
      "text/plain": [
       "5"
      ]
     },
     "execution_count": 162,
     "metadata": {},
     "output_type": "execute_result"
    }
   ],
   "source": [
    "answer"
   ]
  },
  {
   "cell_type": "code",
   "execution_count": 163,
   "metadata": {},
   "outputs": [],
   "source": [
    "def solution(clothes):\n",
    "    from collections import Counter\n",
    "    from functools import reduce\n",
    "    cnt = Counter([kind for name, kind in clothes])\n",
    "    answer = reduce(lambda x, y: x*(y+1), cnt.values(), 1) - 1\n",
    "    return answer"
   ]
  },
  {
   "cell_type": "code",
   "execution_count": 164,
   "metadata": {},
   "outputs": [
    {
     "data": {
      "text/plain": [
       "23"
      ]
     },
     "execution_count": 164,
     "metadata": {},
     "output_type": "execute_result"
    }
   ],
   "source": [
    "solution(clothes)"
   ]
  },
  {
   "cell_type": "code",
   "execution_count": 165,
   "metadata": {},
   "outputs": [],
   "source": [
    "from collections import defaultdict\n",
    "from functools import reduce\n",
    "from operator import mul\n",
    "\n",
    "def solution(clothes):\n",
    "    num_clothes_kind = defaultdict(int)\n",
    "    for name, kind in clothes:\n",
    "        num_clothes_kind[kind] += 1\n",
    "    tmp = [num + 1 for num in num_clothes_kind.values()]\n",
    "    answer = reduce(mul, tmp)\n",
    "    answer = answer -1\n",
    "    return answer"
   ]
  },
  {
   "cell_type": "code",
   "execution_count": 166,
   "metadata": {},
   "outputs": [
    {
     "data": {
      "text/plain": [
       "23"
      ]
     },
     "execution_count": 166,
     "metadata": {},
     "output_type": "execute_result"
    }
   ],
   "source": [
    "solution(clothes)"
   ]
  },
  {
   "cell_type": "code",
   "execution_count": 167,
   "metadata": {},
   "outputs": [],
   "source": [
    "def solution(clothes):\n",
    "    cl_dict = dict()\n",
    "    for _ , categori in clothes:\n",
    "        if categori in cl_dict:\n",
    "            cl_dict[categori] += 1\n",
    "        else:\n",
    "            cl_dict[categori] = 2\n",
    "    answer = 1\n",
    "    for cate in cl_dict:\n",
    "        answer *= cl_dict[cate]\n",
    "    return answer - 1"
   ]
  },
  {
   "cell_type": "code",
   "execution_count": 168,
   "metadata": {},
   "outputs": [
    {
     "data": {
      "text/plain": [
       "23"
      ]
     },
     "execution_count": 168,
     "metadata": {},
     "output_type": "execute_result"
    }
   ],
   "source": [
    "solution(clothes)"
   ]
  },
  {
   "cell_type": "code",
   "execution_count": 169,
   "metadata": {},
   "outputs": [],
   "source": [
    "def solution(clothes):\n",
    "    answer = 0\n",
    "    hsh = {}\n",
    "    for val, key in clothes:\n",
    "        if key not in hsh:\n",
    "            hsh[key] = 1\n",
    "        else:\n",
    "            hsh[key] += 1\n",
    "    vals = list(hsh.values())\n",
    "    num_cases = 1\n",
    "    for n in vals:\n",
    "        num_cases *= (n+1)\n",
    "    answer = num_cases - 1\n",
    "    return answer, hsh"
   ]
  },
  {
   "cell_type": "code",
   "execution_count": null,
   "metadata": {},
   "outputs": [],
   "source": []
  },
  {
   "cell_type": "code",
   "execution_count": null,
   "metadata": {},
   "outputs": [],
   "source": []
  }
 ],
 "metadata": {
  "kernelspec": {
   "display_name": "Python 3",
   "language": "python",
   "name": "python3"
  },
  "language_info": {
   "codemirror_mode": {
    "name": "ipython",
    "version": 3
   },
   "file_extension": ".py",
   "mimetype": "text/x-python",
   "name": "python",
   "nbconvert_exporter": "python",
   "pygments_lexer": "ipython3",
   "version": "3.7.6"
  }
 },
 "nbformat": 4,
 "nbformat_minor": 4
}
