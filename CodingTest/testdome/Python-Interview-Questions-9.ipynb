{
 "nbformat": 4,
 "nbformat_minor": 2,
 "metadata": {
  "language_info": {
   "name": "python",
   "codemirror_mode": {
    "name": "ipython",
    "version": 3
   },
   "version": "3.7.4-final"
  },
  "orig_nbformat": 2,
  "file_extension": ".py",
  "mimetype": "text/x-python",
  "name": "python",
  "npconvert_exporter": "python",
  "pygments_lexer": "ipython3",
  "version": 3,
  "kernelspec": {
   "name": "python37464bitpythondstutorialmasterconda2e680860d8e64dd5a02b60e1b1455fa7",
   "display_name": "Python 3.7.4 64-bit ('python-ds-tutorial-master': conda)"
  }
 },
 "cells": [
  {
   "cell_type": "markdown",
   "metadata": {},
   "source": [
    "# testdome : python-interview-questions9\n",
    "\n",
    "https://www.testdome.com/d/python-interview-questions/9"
   ]
  },
  {
   "cell_type": "markdown",
   "metadata": {},
   "source": [
    "## 1. File Owners\n",
    "\n",
    "Implement a group_by_owners function that:\n",
    "\n",
    "- Accepts a dictionary containing the file owner name for each file name.\n",
    "- Returns a dictionary containing a list of file names for each owner name, in any order.\n",
    "\n",
    "\n",
    "For example, for dictionary {'Input.txt': 'Randy', 'Code.py': 'Stan', 'Output.txt': 'Randy'} the group_by_owners function should return {'Randy': ['Input.txt', 'Output.txt'], 'Stan': ['Code.py']}."
   ]
  },
  {
   "cell_type": "code",
   "execution_count": 21,
   "metadata": {},
   "outputs": [
    {
     "name": "stdout",
     "output_type": "stream",
     "text": "None\n"
    }
   ],
   "source": [
    "def group_by_owners(files):\n",
    "    return None\n",
    "\n",
    "if __name__ == \"__main__\":    \n",
    "    files = {\n",
    "        'Input.txt': 'Randy',\n",
    "        'Code.py': 'Stan',\n",
    "        'Output.txt': 'Randy'\n",
    "    }   \n",
    "    print(group_by_owners(files))"
   ]
  },
  {
   "cell_type": "markdown",
   "metadata": {},
   "source": [
    "### 나의 풀이 - "
   ]
  },
  {
   "cell_type": "code",
   "execution_count": 29,
   "metadata": {},
   "outputs": [
    {
     "name": "stdout",
     "output_type": "stream",
     "text": "['Randy', 'd']\n"
    }
   ],
   "source": [
    "def group_by_owners(files):\n",
    "    result = {}\n",
    "    result_l = []\n",
    "    for i in range(len(files.values())):\n",
    "        if list(files.values())[i] not in result.keys():\n",
    "            result_l.append(list(files.values())[i])\n",
    "            result_l.append(str(files.keys())[i])\n",
    "        else:\n",
    "            result_l.append(str(files.keys())[i])\n",
    "        return result_l\n",
    "    \n",
    "\n",
    "if __name__ == \"__main__\":    \n",
    "    files = {\n",
    "        'Input.txt': 'Randy',\n",
    "        'Code.py': 'Stan',\n",
    "        'Output.txt': 'Randy'\n",
    "    }   \n",
    "    print(group_by_owners(files))"
   ]
  },
  {
   "cell_type": "markdown",
   "metadata": {},
   "source": [
    "### 정답 "
   ]
  },
  {
   "cell_type": "code",
   "execution_count": 30,
   "metadata": {},
   "outputs": [
    {
     "name": "stdout",
     "output_type": "stream",
     "text": "{'Randy': ['Input.txt', 'Output.txt'], 'Stan': ['Code.py']}\n"
    }
   ],
   "source": [
    "def group_by_owners(files):\n",
    "    result = {}\n",
    "    for key, value in files.items():\n",
    "        if value not in result.keys():\n",
    "            # Insert the values into the resulting dictionary\n",
    "            # by interchanging the key, values.\n",
    "            result[value] = [key]\n",
    "        else:\n",
    "            # Append the othet file name if the owner is same.\n",
    "            result[value].append(key)\n",
    "    return result\n",
    "if __name__ == \"__main__\":\n",
    "    files = {\n",
    "        'Input.txt': 'Randy',\n",
    "        'Code.py': 'Stan',\n",
    "        'Output.txt': 'Randy'\n",
    "    }\n",
    "    print(group_by_owners(files))\n"
   ]
  },
  {
   "cell_type": "markdown",
   "metadata": {},
   "source": [
    "## 2. Quadratic Equation\n",
    "\n",
    "Implement the function find_roots to find the roots of the quadratic equation: ax2 + bx + c = 0. The function should return a tuple containing roots in any order. If the equation has only one solution, the function should return that solution as both elements of the tuple. The equation will always have at least one solution.\n",
    "\n",
    "The roots of the quadratic equation can be found with the following formula: A quadratic equation.\n",
    "\n",
    "For example, find_roots(2, 10, 8) should return (-1, -4) or (-4, -1) as the roots of the equation 2x2 + 10x + 8 = 0 are -1 and -4."
   ]
  },
  {
   "cell_type": "code",
   "execution_count": 23,
   "metadata": {},
   "outputs": [
    {
     "name": "stdout",
     "output_type": "stream",
     "text": "None\n"
    }
   ],
   "source": [
    "def find_roots(a, b, c):\n",
    "    return None\n",
    "\n",
    "print(find_roots(2, 10, 8))"
   ]
  },
  {
   "cell_type": "code",
   "execution_count": null,
   "metadata": {},
   "outputs": [],
   "source": []
  },
  {
   "cell_type": "markdown",
   "metadata": {},
   "source": [
    "## 3. Binary Search Tree\n",
    "\n",
    "Binary search tree (BST) is a binary tree where the value of each node is larger or equal to the values in all the nodes in that node's left subtree and is smaller than the values in all the nodes in that node's right subtree.\n",
    "\n",
    "Write a function that, efficiently with respect to time used, checks if a given binary search tree contains a given value.\n",
    "\n",
    "For example, for the following tree:\n",
    "\n",
    "- n1 (Value: 1, Left: null, Right: null)\n",
    "- n2 (Value: 2, Left: n1, Right: n3)\n",
    "- n3 (Value: 3, Left: null, Right: null)\n",
    "\n",
    "\n",
    "Call to contains(n2, 3) should return True since a tree with root at n2 contains number 3."
   ]
  },
  {
   "cell_type": "code",
   "execution_count": 22,
   "metadata": {},
   "outputs": [
    {
     "name": "stdout",
     "output_type": "stream",
     "text": "None\n"
    }
   ],
   "source": [
    "import collections\n",
    "\n",
    "Node = collections.namedtuple('Node', ['left', 'right', 'value'])\n",
    "\n",
    "def contains(root, value):\n",
    "    pass\n",
    "        \n",
    "n1 = Node(value=1, left=None, right=None)\n",
    "n3 = Node(value=3, left=None, right=None)\n",
    "n2 = Node(value=2, left=n1, right=n3)\n",
    "        \n",
    "print(contains(n2, 3))"
   ]
  },
  {
   "cell_type": "markdown",
   "metadata": {},
   "source": [
    "### 나의 풀이 - 정답률 : 1/3"
   ]
  },
  {
   "cell_type": "code",
   "execution_count": 31,
   "metadata": {},
   "outputs": [
    {
     "name": "stdout",
     "output_type": "stream",
     "text": "True\n"
    }
   ],
   "source": [
    "import collections\n",
    "Node = collections.namedtuple('Node', ['left', 'right', 'value'])\n",
    "\n",
    "def contains(root, value):\n",
    "    if value == root.value:\n",
    "        return True\n",
    "    elif value > root.value:\n",
    "        if root.right != None:\n",
    "            return contains(root.right, value)\n",
    "    elif value < root.value:\n",
    "        if root.left != None:\n",
    "            return contains(root.right, value)\n",
    "\n",
    "\n",
    "n1 = Node(value=1, left=None, right=None)\n",
    "n3 = Node(value=3, left=None, right=None)\n",
    "n2 = Node(value=2, left=n1, right=n3)\n",
    "\n",
    "print(contains(n2, 2))"
   ]
  },
  {
   "cell_type": "markdown",
   "metadata": {},
   "source": [
    "## 4. Song\n",
    "#### AlgorithmicThingking, LinkedList, Set\n",
    "\n",
    "A playlist is considered a repeating playlist if any of the songs contain a reference to a previous song in the playlist. Otherwise, the playlist will end with the last song which points to None.\n",
    "\n",
    "Implement a function is_repeating_playlist that, efficiently with respect to time used, returns true if a playlist is repeating or false if it is not.\n",
    "\n",
    "For example, the following code prints \"True\" as both songs point to each other."
   ]
  },
  {
   "cell_type": "markdown",
   "metadata": {},
   "source": [
    "### 나의 풀이 - (정답률 : 1/4)"
   ]
  },
  {
   "cell_type": "code",
   "execution_count": null,
   "metadata": {},
   "outputs": [],
   "source": [
    "class Song:\n",
    "    def __init__(self, name):\n",
    "        self.name = name\n",
    "\n",
    "    def next_song(self, song):\n",
    "        self.next = song.name\n",
    "\n",
    "    def is_repeating_playlist(self):\n",
    "        if self.name == self.next:\n",
    "            return False\n",
    "        else:\n",
    "            return True\n",
    "\n",
    "\n",
    "first = Song(\"Hello\")\n",
    "second = Song(\"eye\")\n",
    "\n",
    "print(second.name)\n",
    "\n",
    "first.next_song(second)\n",
    "second.next_song(first)\n",
    "\n",
    "print(first.is_repeating_playlist())"
   ]
  },
  {
   "cell_type": "markdown",
   "metadata": {},
   "source": [
    "### 정답"
   ]
  },
  {
   "cell_type": "code",
   "execution_count": 1,
   "metadata": {},
   "outputs": [
    {
     "name": "stdout",
     "output_type": "stream",
     "text": "False\n"
    }
   ],
   "source": [
    "class Song:\n",
    "    def __init__(self, name):\n",
    "        self.name = name\n",
    "        self.next = None\n",
    "\n",
    "    def next_song(self, song):\n",
    "        self.next = song \n",
    "\n",
    "    def is_repeating_playlist(self):\n",
    "        songs = set()\n",
    "        next_song = self\n",
    "        while next_song:\n",
    "            if next_song.name in songs:\n",
    "                return True\n",
    "            else:\n",
    "                songs.add(next_song.name)\n",
    "                next_song = next_song.next or None\n",
    "\n",
    "        return False\n",
    "\n",
    "first = Song(\"Anam Nesis - Contemplare\")\n",
    "second = Song(\"Petre Inspirescu - Anima\")\n",
    "third = Song(\"VOLK - Cântul Ielelor\")\n",
    "\n",
    "first.next_song(second)\n",
    "second.next_song(third)\n",
    "\n",
    "\n",
    "print(first.is_repeating_playlist())"
   ]
  },
  {
   "cell_type": "markdown",
   "metadata": {},
   "source": [
    "## 5. Two Sum\n",
    "#### AlgorithmicThinking, Dictionary\n",
    "\n",
    "Write a function that, when passed a list and a target sum, returns, efficiently with respect to time used, two distinct zero-based indices of any two of the numbers, whose sum is equal to the target sum. If there are no two numbers, the function should return None.\n",
    "\n",
    "For example, find_two_sum([3, 1, 5, 7, 5, 9], 10) should return a single tuple containing any of the following pairs of indices:\n",
    "\n",
    "- 0 and 3 (or 3 and 0) as 3 + 7 = 10\n",
    "- 1 and 5 (or 5 and 1) as 1 + 9 = 10\n",
    "- 2 and 4 (or 4 and 2) as 5 + 5 = 10\n"
   ]
  },
  {
   "cell_type": "markdown",
   "metadata": {},
   "source": [
    "### 나의 풀이 - (정답률 : 0/4), (정답률: 2/4)"
   ]
  },
  {
   "cell_type": "code",
   "execution_count": 9,
   "metadata": {},
   "outputs": [
    {
     "name": "stdout",
     "output_type": "stream",
     "text": "((3, 7), 10)\n"
    }
   ],
   "source": [
    "def find_two_sum(numbers, target_sum):\n",
    "    while target_sum:\n",
    "        for i in numbers:\n",
    "            t = target_sum - i \n",
    "            r = i \n",
    "            numbers.remove(i)\n",
    "            for j in numbers:\n",
    "                if t == j:\n",
    "                    return (i, j), target_sum\n",
    "            target_sum = False\n",
    "\n",
    "print(find_two_sum([3, 1, 5, 7, 5, 9], 10))"
   ]
  },
  {
   "cell_type": "code",
   "execution_count": 10,
   "metadata": {},
   "outputs": [
    {
     "name": "stdout",
     "output_type": "stream",
     "text": "(0, 3)\n"
    }
   ],
   "source": [
    "def find_two_sum(numbers, target_sum):\n",
    "    for i in range(len(numbers)-1):\n",
    "        for j in range(1, len(numbers)):\n",
    "            if numbers[i] + numbers[j] == target_sum:\n",
    "                return (i, j), target_sum\n",
    "    return None\n",
    "\n",
    "print(find_two_sum([3, 1, 5, 7, 5, 9], 10))"
   ]
  },
  {
   "cell_type": "markdown",
   "metadata": {},
   "source": [
    "### 정답"
   ]
  },
  {
   "cell_type": "code",
   "execution_count": 11,
   "metadata": {},
   "outputs": [
    {
     "name": "stdout",
     "output_type": "stream",
     "text": "(0, 3)\n"
    }
   ],
   "source": [
    "def find_two_sum(numbers, target_sum):\n",
    "    lookup = {}\n",
    "    for cnt, num in enumerate(numbers):\n",
    "        if target_sum - num in lookup:\n",
    "            return lookup[target_sum - num], cnt\n",
    "        lookup[num] = cnt\n",
    "        \n",
    "print(find_two_sum([3, 1, 5, 7, 5, 9], 10))"
   ]
  },
  {
   "cell_type": "markdown",
   "metadata": {},
   "source": [
    "## 6. League Table\n",
    "\n",
    "The LeagueTable class tracks the score of each player in a league. After each game, the player records their score with the record_result function. \n",
    "\n",
    "The player's rank in the league is calculated using the following logic:\n",
    "\n",
    "The player with the highest score is ranked first (rank 1). The player with the lowest score is ranked last.\n",
    "If two players are tied on score, then the player who has played the fewest games is ranked higher.\n",
    "If two players are tied on score and number of games played, then the player who was first in the list of players is ranked higher.\n",
    "Implement the player_rank function that returns the player at the given rank.\n",
    "\n",
    "For example:\n",
    "\n",
    "```\n",
    "table = LeagueTable(['Mike', 'Chris', 'Arnold'])\n",
    "table.record_result('Mike', 2)\n",
    "table.record_result('Mike', 3)\n",
    "table.record_result('Arnold', 5)\n",
    "table.record_result('Chris', 5)\n",
    "print(table.player_rank(1))\n",
    "```\n",
    "All players have the same score. However, Arnold and Chris have played fewer games than Mike, and as Chris is before Arnold in the list of players, he is ranked first. Therefore, the code above should display \"Chris\"."
   ]
  },
  {
   "cell_type": "code",
   "execution_count": 12,
   "metadata": {},
   "outputs": [
    {
     "name": "stdout",
     "output_type": "stream",
     "text": "None\n"
    }
   ],
   "source": [
    "from collections import Counter\n",
    "from collections import OrderedDict\n",
    "\n",
    "class LeagueTable:\n",
    "    def __init__(self, players):\n",
    "        self.standings = OrderedDict([(player, Counter()) for player in players])\n",
    "       \n",
    "    def record_result(self, player, score):\n",
    "        self.standings[player]['games_played'] += 1\n",
    "        self.standings[player]['score'] += score\n",
    "      \n",
    "    def player_rank(self, rank):\n",
    "        return None\n",
    "      \n",
    "table = LeagueTable(['Mike', 'Chris', 'Arnold'])\n",
    "table.record_result('Mike', 2)\n",
    "table.record_result('Mike', 3)\n",
    "table.record_result('Arnold', 5)\n",
    "table.record_result('Chris', 5)\n",
    "print(table.player_rank(1))"
   ]
  },
  {
   "cell_type": "code",
   "execution_count": null,
   "metadata": {},
   "outputs": [],
   "source": []
  },
  {
   "cell_type": "code",
   "execution_count": null,
   "metadata": {},
   "outputs": [],
   "source": []
  },
  {
   "cell_type": "code",
   "execution_count": null,
   "metadata": {},
   "outputs": [],
   "source": []
  },
  {
   "cell_type": "markdown",
   "metadata": {},
   "source": [
    "## 7. ICE Cream Machine\n",
    "\n",
    "Implement the IceCreamMachine's scoops method so that it returns all combinations of one ingredient and one topping. If there are no ingredients or toppings, the method should return an empty list.\n",
    "\n",
    "For example, IceCreamMachine([\"vanilla\", \"chocolate\"], [\"chocolate sauce\"]).scoops() \n",
    "\n",
    "should return [['vanilla', 'chocolate sauce'], ['chocolate', 'chocolate sauce']]"
   ]
  },
  {
   "cell_type": "code",
   "execution_count": 17,
   "metadata": {},
   "outputs": [
    {
     "name": "stdout",
     "output_type": "stream",
     "text": "None\n"
    }
   ],
   "source": [
    "class IceCreamMachine:\n",
    "    \n",
    "    def __init__(self, ingredients, toppings):\n",
    "        self.ingredients = ingredients\n",
    "        self.toppings = toppings\n",
    "        \n",
    "    def scoops(self):\n",
    "        pass\n",
    "\n",
    "machine = IceCreamMachine([\"vanilla\", \"chocolate\"], [\"chocolate sauce\"])\n",
    "print(machine.scoops()) #should print[['vanilla', 'chocolate sauce'], ['chocolate', 'chocolate sauce']]"
   ]
  },
  {
   "cell_type": "markdown",
   "metadata": {},
   "source": [
    "### 나의 풀이 - (정답률: 3/4)"
   ]
  },
  {
   "cell_type": "code",
   "execution_count": 18,
   "metadata": {},
   "outputs": [
    {
     "name": "stdout",
     "output_type": "stream",
     "text": "[('vanilla', 'chocolate sauce'), ('chocolate', 'chocolate sauce')]\n"
    }
   ],
   "source": [
    "class IceCreamMachine:\n",
    "    \n",
    "    def __init__(self, ingredients, toppings):\n",
    "        self.ingredients = ingredients\n",
    "        self.toppings = toppings\n",
    "        \n",
    "    def scoops(self):\n",
    "        self.result = []\n",
    "        self.pair = ()\n",
    "        for i in self.ingredients:\n",
    "            for j in self.toppings:\n",
    "                self.pair = i, j\n",
    "            self.result.append(self.pair)\n",
    "        return self.result\n",
    "\n",
    "machine = IceCreamMachine([\"vanilla\", \"chocolate\"], [\"chocolate sauce\"])\n",
    "print(machine.scoops()) #should print[['vanilla', 'chocolate sauce'], ['chocolate', 'chocolate sauce']]"
   ]
  },
  {
   "cell_type": "code",
   "execution_count": null,
   "metadata": {},
   "outputs": [],
   "source": []
  },
  {
   "cell_type": "code",
   "execution_count": null,
   "metadata": {},
   "outputs": [],
   "source": []
  },
  {
   "cell_type": "code",
   "execution_count": null,
   "metadata": {},
   "outputs": [],
   "source": []
  },
  {
   "cell_type": "markdown",
   "metadata": {},
   "source": [
    "## 8. Merge Name\n",
    "\n",
    "Implement the unique_names method. When passed two lists of names, it will return a list containing the names that appear in either or both lists. The returned list should have no duplicates.\n",
    "\n",
    "For example, calling unique_names(['Ava', 'Emma', 'Olivia'], ['Olivia', 'Sophia', 'Emma']) should return a list containing Ava, Emma, Olivia, and Sophia in any order."
   ]
  },
  {
   "cell_type": "code",
   "execution_count": 19,
   "metadata": {},
   "outputs": [
    {
     "name": "stdout",
     "output_type": "stream",
     "text": "None\n"
    }
   ],
   "source": [
    "def unique_names(names1, names2):\n",
    "    return None\n",
    "\n",
    "names1 = [\"Ava\", \"Emma\", \"Olivia\"]\n",
    "names2 = [\"Olivia\", \"Sophia\", \"Emma\"]\n",
    "print(unique_names(names1, names2)) # should print Ava, Emma, Olivia, Sophia"
   ]
  },
  {
   "cell_type": "markdown",
   "metadata": {},
   "source": [
    "### 나의 풀이 : 정답률 - 4/4"
   ]
  },
  {
   "cell_type": "code",
   "execution_count": 20,
   "metadata": {},
   "outputs": [
    {
     "name": "stdout",
     "output_type": "stream",
     "text": "['Emma', 'Sophia', 'Ava', 'Olivia']\n"
    }
   ],
   "source": [
    "def unique_names(names1, names2):\n",
    "    n1 = set(names1)\n",
    "    n2 = set(names2)\n",
    "    result = n1.union(n2)\n",
    "    r = list(result)\n",
    "    return r\n",
    "\n",
    "names1 = [\"Ava\", \"Emma\", \"Olivia\"]\n",
    "names2 = [\"Olivia\", \"Sophia\", \"Emma\"]\n",
    "print(unique_names(names1, names2)) # should print Ava, Emma, Olivia, Sophia"
   ]
  },
  {
   "cell_type": "markdown",
   "metadata": {},
   "source": [
    "## 9. Pipeline\n",
    "\n",
    "As part of a data processing pipeline, complete the implementation of the pipeline method:\n",
    "\n",
    "- The method should accept a variable number of functions, and it should return a new function that accepts one parameter arg.\n",
    "- The returned function should call the first function in the pipeline with the parameter arg, and call the second function with the result of the first function.\n",
    "- The returned function should continue calling each function in the pipeline in order, following the same pattern, and return the value from the last function.\n",
    "\n",
    "\n",
    "For example, pipeline(lambda x: x * 3, lambda x: x + 1, lambda x: x / 2) then calling the returned function with 3 should return 5.0."
   ]
  },
  {
   "cell_type": "code",
   "execution_count": 24,
   "metadata": {},
   "outputs": [
    {
     "name": "stdout",
     "output_type": "stream",
     "text": "None\n"
    }
   ],
   "source": [
    "def pipeline(*funcs):\n",
    "    def helper(arg):\n",
    "        pass\n",
    "    return helper\n",
    "            \n",
    "fun = pipeline(lambda x: x * 3, lambda x: x + 1, lambda x: x / 2)\n",
    "print(fun(3)) #should print 5.0"
   ]
  },
  {
   "cell_type": "code",
   "execution_count": null,
   "metadata": {},
   "outputs": [],
   "source": []
  }
 ]
}