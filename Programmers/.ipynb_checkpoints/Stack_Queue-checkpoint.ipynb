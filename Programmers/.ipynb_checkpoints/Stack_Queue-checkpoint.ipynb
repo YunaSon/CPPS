{
 "cells": [
  {
   "cell_type": "markdown",
   "metadata": {},
   "source": [
    "## 1. 주식가격"
   ]
  },
  {
   "cell_type": "code",
   "execution_count": null,
   "metadata": {},
   "outputs": [],
   "source": [
    "def solution(prices):\n",
    "    answer = []\n",
    "    size = len(prices)\n",
    "    for i in range(size):\n",
    "        count = 0\n",
    "        # 다음날과 비교\n",
    "        for j in range(i+1, size):\n",
    "            count += 1\n",
    "            if prices[i] > prices[j]: # 가격이 더 작은 경우 for문 break\n",
    "                break \n",
    "        answer.append(count)\n",
    "    return answer"
   ]
  },
  {
   "cell_type": "markdown",
   "metadata": {},
   "source": [
    "## 2. 기능개발"
   ]
  },
  {
   "cell_type": "code",
   "execution_count": 21,
   "metadata": {},
   "outputs": [],
   "source": [
    "import math\n",
    "\n",
    "def solution(progresses, speeds):\n",
    "    answer = [1]\n",
    "    remain = [] # 남은 작업\n",
    "    date_cal = [] # 소요 시간 (날짜)\n",
    "    size = len(speeds)\n",
    "    \n",
    "    for i in range(size):\n",
    "        r = 100 - progresses[i]\n",
    "        remain.append(r)\n",
    "        d= math.ceil(r / speeds[i])\n",
    "        date_cal.append(d)\n",
    "    \n",
    "    for i in range(size):\n",
    "        for j in range(i+1, size):\n",
    "            if date_cal[i] >= date_cal[j]:    \n",
    "                answer[-1] += 1\n",
    "                break\n",
    "            else:\n",
    "                answer.append(1)\n",
    "                break\n",
    "    print(date_cal)\n",
    "    \n",
    "    return answer"
   ]
  },
  {
   "cell_type": "code",
   "execution_count": 22,
   "metadata": {},
   "outputs": [],
   "source": [
    "progresses = [93,30,55]\n",
    "speeds = [1,30,5]\n",
    "answer = [2,1]\n",
    "\n",
    "# 7, 3, 9\n",
    "# 2, 1"
   ]
  },
  {
   "cell_type": "code",
   "execution_count": 23,
   "metadata": {},
   "outputs": [
    {
     "name": "stdout",
     "output_type": "stream",
     "text": [
      "[7, 3, 9]\n"
     ]
    },
    {
     "data": {
      "text/plain": [
       "[2, 1]"
      ]
     },
     "execution_count": 23,
     "metadata": {},
     "output_type": "execute_result"
    }
   ],
   "source": [
    "solution(progresses, speeds)"
   ]
  },
  {
   "cell_type": "markdown",
   "metadata": {},
   "source": [
    "틀림...: test case 10개중 3개만 통과..."
   ]
  },
  {
   "cell_type": "code",
   "execution_count": 52,
   "metadata": {},
   "outputs": [],
   "source": [
    "import math\n",
    "\n",
    "def solution(progresses, speeds):\n",
    "    answer = []\n",
    "    remain = [] # 남은 작업\n",
    "    date_cal = [] # 남은 소요 시간 계산 (날짜)\n",
    "    func = [] # 배포할 때 완성되는 기능의 수\n",
    "    size = len(speeds)\n",
    "    \n",
    "    for i in range(size):\n",
    "        r = 100 - progresses[i]\n",
    "        remain.append(r)\n",
    "        d= math.ceil(r / speeds[i])\n",
    "        date_cal.append(d)\n",
    "    \n",
    "    \n",
    "    # funcsize = 한번 배포할 때 완성되는 기능의 수\n",
    "    while date_cal:\n",
    "        if func==[]:\n",
    "            func.append(date_cal.pop(0))\n",
    "        else:\n",
    "            # 날짜가 산된 남은 날짜보다 크면 추가...\n",
    "            if date_cal[0] <= func[0]:\n",
    "                func.append(date_cal.pop(0))\n",
    "            # 날짜가 계산한 남은 날짜보다 작으면 초기화...\n",
    "            else:\n",
    "                answer.append(len(func))\n",
    "                func = []\n",
    "    #순서대로 정답에 추가\n",
    "    answer.append(len(func))\n",
    "    \n",
    "    return answer"
   ]
  },
  {
   "cell_type": "code",
   "execution_count": 51,
   "metadata": {},
   "outputs": [
    {
     "data": {
      "text/plain": [
       "[2, 1]"
      ]
     },
     "execution_count": 51,
     "metadata": {},
     "output_type": "execute_result"
    }
   ],
   "source": [
    "progresses = [93,30,55]\n",
    "speeds = [1,30,5]\n",
    "answer = [2,1]\n",
    "\n",
    "# 7, 3, 9\n",
    "# 2, 1\n",
    "solution(progresses, speeds)"
   ]
  },
  {
   "cell_type": "markdown",
   "metadata": {},
   "source": [
    "## 4. 프린터"
   ]
  },
  {
   "cell_type": "code",
   "execution_count": 54,
   "metadata": {},
   "outputs": [],
   "source": [
    "def solution(priorities, location):\n",
    "    answer = 0\n",
    "    m = max(priorities)\n",
    "    \n",
    "    while True:\n",
    "        v = priorities.pop(0)\n",
    "        if m == v:\n",
    "            answer += 1\n",
    "            if location == 0:\n",
    "                break #정답\n",
    "            else:\n",
    "                location -= 1\n",
    "            m = max(priorities)\n",
    "        else:\n",
    "            # 맨 뒤에 요소를 추가\n",
    "            priorities.append(v)\n",
    "            if location == 0:\n",
    "                location = len(priorities)-1\n",
    "            else:\n",
    "                location -= 1\n",
    "    return answer"
   ]
  },
  {
   "cell_type": "code",
   "execution_count": null,
   "metadata": {},
   "outputs": [],
   "source": []
  }
 ],
 "metadata": {
  "kernelspec": {
   "display_name": "Python 3",
   "language": "python",
   "name": "python3"
  },
  "language_info": {
   "codemirror_mode": {
    "name": "ipython",
    "version": 3
   },
   "file_extension": ".py",
   "mimetype": "text/x-python",
   "name": "python",
   "nbconvert_exporter": "python",
   "pygments_lexer": "ipython3",
   "version": "3.7.6"
  }
 },
 "nbformat": 4,
 "nbformat_minor": 4
}
