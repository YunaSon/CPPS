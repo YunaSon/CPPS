{
 "cells": [
  {
   "cell_type": "markdown",
   "metadata": {},
   "source": [
    "## Q 완주하지 못한 선수"
   ]
  },
  {
   "cell_type": "markdown",
   "metadata": {},
   "source": [
    "문제 설명\n",
    "수많은 마라톤 선수들이 마라톤에 참여하였습니다. 단 한 명의 선수를 제외하고는 모든 선수가 마라톤을 완주하였습니다.\n",
    "\n",
    "마라톤에 참여한 선수들의 이름이 담긴 배열 participant와 완주한 선수들의 이름이 담긴 배열 completion이 주어질 때, 완주하지 못한 선수의 이름을 return 하도록 solution 함수를 작성해주세요.\n",
    "\n",
    "제한사항\n",
    "마라톤 경기에 참여한 선수의 수는 1명 이상 100,000명 이하입니다.\n",
    "completion의 길이는 participant의 길이보다 1 작습니다.\n",
    "참가자의 이름은 1개 이상 20개 이하의 알파벳 소문자로 이루어져 있습니다.\n",
    "참가자 중에는 동명이인이 있을 수 있습니다.\n",
    "\n",
    "입출력 예\n",
    "participant\tcompletion\treturn\n",
    "[leo, kiki, eden]\t[eden, kiki]\tleo\n",
    "[marina, josipa, nikola, vinko, filipa]\t[josipa, filipa, marina, nikola]\tvinko\n",
    "[mislav, stanko, mislav, ana]\t[stanko, ana, mislav]\tmislav\n",
    "\n",
    "입출력 예 설명\n",
    "\n",
    "예제 #1\n",
    "leo는 참여자 명단에는 있지만, 완주자 명단에는 없기 때문에 완주하지 못했습니다.\n",
    "\n",
    "예제 #2\n",
    "vinko는 참여자 명단에는 있지만, 완주자 명단에는 없기 때문에 완주하지 못했습니다.\n",
    "\n",
    "예제 #3\n",
    "mislav는 참여자 명단에는 두 명이 있지만, 완주자 명단에는 한 명밖에 없기 때문에 한명은 완주하지 못했습니다."
   ]
  },
  {
   "cell_type": "markdown",
   "metadata": {},
   "source": [
    "### 풀이1: 효율성 에러..."
   ]
  },
  {
   "cell_type": "code",
   "execution_count": 107,
   "metadata": {},
   "outputs": [],
   "source": [
    "def solution(participant, completion):\n",
    "    for i in completion:\n",
    "        participant.remove(i)\n",
    "    if len(participant) == 1:\n",
    "        answer = participant[0]\n",
    "    elif len(participant) == 0:\n",
    "        answer = None\n",
    "    else:\n",
    "        for answer in participant:\n",
    "            answer\n",
    "    return answer"
   ]
  },
  {
   "cell_type": "code",
   "execution_count": 108,
   "metadata": {},
   "outputs": [],
   "source": [
    "participant = ['leo', 'kiki', 'eden'] \n",
    "completion = ['eden', 'kiki'] \n",
    "\n",
    "participant = ['mislav', 'stanko', 'mislav', 'ana'] \n",
    "completion = ['stanko', 'ana', 'mislav']"
   ]
  },
  {
   "cell_type": "code",
   "execution_count": 109,
   "metadata": {},
   "outputs": [
    {
     "data": {
      "text/plain": [
       "'mislav'"
      ]
     },
     "execution_count": 109,
     "metadata": {},
     "output_type": "execute_result"
    }
   ],
   "source": [
    "solution(participant, completion)"
   ]
  },
  {
   "cell_type": "markdown",
   "metadata": {},
   "source": [
    "### 풀이2: 정답"
   ]
  },
  {
   "cell_type": "code",
   "execution_count": 113,
   "metadata": {},
   "outputs": [],
   "source": [
    "def solution(participant, completion):\n",
    "    answer_ = {}\n",
    "    answer = {}\n",
    "    for i in participant:\n",
    "        if i not in answer_.keys():\n",
    "            answer_[i] = 1\n",
    "        else:\n",
    "            answer_[i] += 1\n",
    "    for i in completion:\n",
    "        if i not in answer.keys():\n",
    "            answer[i] = 1\n",
    "        else:\n",
    "            answer[i] += 1\n",
    "    ans = ''\n",
    "    for i in answer_:\n",
    "        if i not in answer:\n",
    "            ans = i\n",
    "        else:\n",
    "            if answer_[i] > answer[i]:\n",
    "                ans = i\n",
    "    return ans"
   ]
  },
  {
   "cell_type": "code",
   "execution_count": 105,
   "metadata": {},
   "outputs": [],
   "source": [
    "participant = ['mislav', 'stanko', 'mislav', 'ana'] \n",
    "completion = ['stanko', 'ana', 'mislav']"
   ]
  },
  {
   "cell_type": "code",
   "execution_count": 106,
   "metadata": {},
   "outputs": [
    {
     "data": {
      "text/plain": [
       "'mislav'"
      ]
     },
     "execution_count": 106,
     "metadata": {},
     "output_type": "execute_result"
    }
   ],
   "source": [
    "solution(participant,completion)"
   ]
  },
  {
   "cell_type": "markdown",
   "metadata": {},
   "source": [
    "### 다른사람 풀이"
   ]
  },
  {
   "cell_type": "code",
   "execution_count": 114,
   "metadata": {},
   "outputs": [],
   "source": [
    "def solution(participant, completion):\n",
    "    answer = ''\n",
    "    participant.sort()\n",
    "    completion.sort()\n",
    "    for p,c in zip(participant,completion):\n",
    "        if p!=c:\n",
    "            return p\n",
    "\n",
    "    return participant[-1]"
   ]
  },
  {
   "cell_type": "markdown",
   "metadata": {},
   "source": [
    "## Q. 전화번호부"
   ]
  },
  {
   "cell_type": "code",
   "execution_count": 124,
   "metadata": {},
   "outputs": [],
   "source": [
    "phone_book = [119, 97674223, 1195524421, 11]"
   ]
  },
  {
   "cell_type": "code",
   "execution_count": 129,
   "metadata": {},
   "outputs": [],
   "source": [
    "def solution(phone_book):\n",
    "    phone_book = sorted(phone_book)\n",
    "    k = phone_book[0]\n",
    "    s = len(k)\n",
    "\n",
    "    for i in phone_book[1:]:\n",
    "        if k in i[:s]:\n",
    "            return False\n",
    "        else:\n",
    "            return True"
   ]
  },
  {
   "cell_type": "code",
   "execution_count": 130,
   "metadata": {},
   "outputs": [],
   "source": [
    "def solution(phone_book):\n",
    "    phoneBook = sorted(phone_book)\n",
    "\n",
    "    for p1, p2 in zip(phoneBook, phoneBook[1:]):\n",
    "        if p2.startswith(p1):\n",
    "            return False\n",
    "    return True"
   ]
  },
  {
   "cell_type": "code",
   "execution_count": null,
   "metadata": {},
   "outputs": [],
   "source": []
  },
  {
   "cell_type": "code",
   "execution_count": 161,
   "metadata": {},
   "outputs": [],
   "source": [
    "cloth = {'H':3, 'B':2, 'f':3}\n",
    "answer = 0"
   ]
  },
  {
   "cell_type": "code",
   "execution_count": 162,
   "metadata": {},
   "outputs": [],
   "source": [
    "answer += sum(cloth.values())"
   ]
  },
  {
   "cell_type": "code",
   "execution_count": 163,
   "metadata": {},
   "outputs": [],
   "source": [
    "ans2 =[]\n",
    "for i in cloth:\n",
    "    for k in cloth:\n",
    "        if i != j:\n",
    "            ans2.append(cloth[j]*cloth[k])\n",
    "\n",
    "idx = int(len(ans2)/2)\n",
    "answer += sum(ans2[:idx])"
   ]
  },
  {
   "cell_type": "code",
   "execution_count": 165,
   "metadata": {},
   "outputs": [
    {
     "data": {
      "text/plain": [
       "18"
      ]
     },
     "execution_count": 165,
     "metadata": {},
     "output_type": "execute_result"
    }
   ],
   "source": [
    "ans3 = 1\n",
    "for i in cloth:\n",
    "    ans3 *=cloth[i]\n",
    "ans3"
   ]
  },
  {
   "cell_type": "code",
   "execution_count": 166,
   "metadata": {},
   "outputs": [],
   "source": [
    "answer += ans3"
   ]
  },
  {
   "cell_type": "code",
   "execution_count": 167,
   "metadata": {},
   "outputs": [
    {
     "data": {
      "text/plain": [
       "50"
      ]
     },
     "execution_count": 167,
     "metadata": {},
     "output_type": "execute_result"
    }
   ],
   "source": [
    "answer"
   ]
  },
  {
   "cell_type": "markdown",
   "metadata": {},
   "source": [
    "## 위장"
   ]
  },
  {
   "cell_type": "code",
   "execution_count": 169,
   "metadata": {},
   "outputs": [],
   "source": [
    "def solution(clothes):\n",
    "    cloth = {}\n",
    "    for i in clothes:\n",
    "        if clothes[i][-1] not in cloth:\n",
    "            cloth[clothes[i][-1]] = 1\n",
    "        else:\n",
    "            cloth[clothes[i][-1]] += 1\n",
    "    answer = 0\n",
    "    def ans1():\n",
    "        answer = sum(cloth.values)\n",
    "        return answer\n",
    "    def ans2():\n",
    "        ans2 =[]\n",
    "        for i in cloth:\n",
    "            for k in cloth:\n",
    "                if i != j:\n",
    "                    ans2.append(cloth[j]*cloth[k])\n",
    "        idx = int(len(ans2)/2)\n",
    "        answer += sum(ans2[:idx])\n",
    "        return answer\n",
    "    def ansn():\n",
    "        ansn = 1\n",
    "        for i in cloth:\n",
    "            ansn *=cloth[i]\n",
    "        answer += ansn\n",
    "    return answer"
   ]
  },
  {
   "cell_type": "code",
   "execution_count": 171,
   "metadata": {},
   "outputs": [],
   "source": [
    "def solution(clothes):\n",
    "    answer = 1\n",
    "    cloth = {}\n",
    "    for i in clothes:\n",
    "        if i[1] in cloth:\n",
    "            cloth[i[1]] += 1\n",
    "        else:\n",
    "            cloth[i[1]] = 1\n",
    "    for i in cloth.keys():\n",
    "        answer *= cloth[i] +1\n",
    "    answer -= 1\n",
    "    return answer"
   ]
  },
  {
   "cell_type": "markdown",
   "metadata": {},
   "source": [
    "## 베스트앨범"
   ]
  },
  {
   "cell_type": "markdown",
   "metadata": {},
   "source": [
    "문제 설명\n",
    "스트리밍 사이트에서 장르 별로 가장 많이 재생된 노래를 두 개씩 모아 베스트 앨범을 출시하려 합니다. \n",
    "노래는 고유 번호로 구분하며, 노래를 수록하는 기준은 다음과 같습니다.\n",
    "\n",
    "속한 노래가 많이 재생된 장르를 먼저 수록합니다.\n",
    "장르 내에서 많이 재생된 노래를 먼저 수록합니다.\n",
    "장르 내에서 재생 횟수가 같은 노래 중에서는 고유 번호가 낮은 노래를 먼저 수록합니다.\n",
    "노래의 장르를 나타내는 문자열 배열 genres와 노래별 재생 횟수를 나타내는 정수 배열 plays가 주어질 때, 베스트 앨범에 들어갈 노래의 고유 번호를 순서대로 return 하도록 solution 함수를 완성하세요.\n",
    "\n",
    "제한사항\n",
    "genres[i]는 고유번호가 i인 노래의 장르입니다.\n",
    "plays[i]는 고유번호가 i인 노래가 재생된 횟수입니다.\n",
    "genres와 plays의 길이는 같으며, 이는 1 이상 10,000 이하입니다.\n",
    "장르 종류는 100개 미만입니다.\n",
    "장르에 속한 곡이 하나라면, 하나의 곡만 선택합니다.\n",
    "모든 장르는 재생된 횟수가 다릅니다.\n",
    "\n",
    "**입출력 예**\n",
    "\n",
    "genres\tplays\treturn\n",
    "[classic, pop, classic, classic, pop]\t[500, 600, 150, 800, 2500]\t[4, 1, 3, 0]\n",
    "\n",
    "**입출력 예 설명**\n",
    "\n",
    "classic 장르는 1,450회 재생되었으며, classic 노래는 다음과 같습니다.\n",
    "\n",
    "고유 번호 3: 800회 재생\n",
    "\n",
    "고유 번호 0: 500회 재생\n",
    "\n",
    "고유 번호 2: 150회 재생\n",
    "\n",
    "pop 장르는 3,100회 재생되었으며, pop 노래는 다음과 같습니다.\n",
    "\n",
    "고유 번호 4: 2,500회 재생\n",
    "\n",
    "고유 번호 1: 600회 재생\n",
    "\n",
    "따라서 pop 장르의 [4, 1]번 노래를 먼저, classic 장르의 [3, 0]번 노래를 그다음에 수록합니다."
   ]
  },
  {
   "cell_type": "code",
   "execution_count": 339,
   "metadata": {},
   "outputs": [
    {
     "data": {
      "text/plain": [
       "['pop', 'classic']"
      ]
     },
     "execution_count": 339,
     "metadata": {},
     "output_type": "execute_result"
    }
   ],
   "source": [
    "answer = {'pop':3000, 'classic':1000}\n",
    "sorted(answer,reverse=True)"
   ]
  },
  {
   "cell_type": "code",
   "execution_count": 334,
   "metadata": {},
   "outputs": [],
   "source": [
    "plays = [500, 600, 150, 800, 2500, 3000, 1450]\n",
    "genres = ['classic', 'pop', 'classic', 'classic', 'pop','pop','k-pop']"
   ]
  },
  {
   "cell_type": "code",
   "execution_count": 335,
   "metadata": {},
   "outputs": [],
   "source": [
    "def solution(genres, plays):\n",
    "    answer = {}\n",
    "    ans = set(genres)\n",
    "    for i in ans:\n",
    "        answer[i] = 0\n",
    "    for i,j in enumerate(genres):\n",
    "        answer[j] += plays[i]\n",
    "    answer = {k:v for k, v in sorted(answer.items(), key=lambda item:item[1], reverse=True)}\n",
    "    for key in answer:\n",
    "        play_list = answer[key[0]]\n",
    "        play_list = sorted()\n",
    "    answer_ = list(answer.keys())\n",
    "    sum_ = list(zip(plays, range(len(genres)), genres))\n",
    "    sum_.sort(reverse=True)\n",
    "    A = []\n",
    "    for i in range(len(answer_)):\n",
    "        c = 0\n",
    "        for j in sum_:\n",
    "            if answer_[i] in j:\n",
    "                if c == 2:\n",
    "                    break\n",
    "                c +=1\n",
    "                A.append(j[1])    \n",
    "    return A"
   ]
  },
  {
   "cell_type": "markdown",
   "metadata": {},
   "source": [
    "## 부족한 부분\n",
    "\n",
    "- sorted(key=lmabda 이용)\n",
    "- reduce\n",
    "- counter\n",
    "- mul"
   ]
  },
  {
   "cell_type": "code",
   "execution_count": null,
   "metadata": {},
   "outputs": [],
   "source": []
  }
 ],
 "metadata": {
  "kernelspec": {
   "display_name": "Python 3",
   "language": "python",
   "name": "python3"
  },
  "language_info": {
   "codemirror_mode": {
    "name": "ipython",
    "version": 3
   },
   "file_extension": ".py",
   "mimetype": "text/x-python",
   "name": "python",
   "nbconvert_exporter": "python",
   "pygments_lexer": "ipython3",
   "version": "3.7.7"
  }
 },
 "nbformat": 4,
 "nbformat_minor": 4
}
