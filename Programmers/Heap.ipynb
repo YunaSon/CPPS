{
 "cells": [
  {
   "cell_type": "markdown",
   "metadata": {},
   "source": [
    "# 1. 더맵게"
   ]
  },
  {
   "cell_type": "markdown",
   "metadata": {},
   "source": [
    "### 1) 풀이1"
   ]
  },
  {
   "cell_type": "code",
   "execution_count": 1,
   "metadata": {},
   "outputs": [],
   "source": [
    "def solution(scoville, K):\n",
    "    answer = 0\n",
    "    scoville.sort()\n",
    "    \n",
    "    while min(scoville) <= K:\n",
    "        e = scoville[0] + (scoville[1]*2)\n",
    "        scoville.pop(0)\n",
    "        scoville.pop(0)\n",
    "        scoville.insert(0,e)\n",
    "        scoville.sort()\n",
    "        answer += 1\n",
    "        \n",
    "    return answer"
   ]
  },
  {
   "cell_type": "code",
   "execution_count": 41,
   "metadata": {},
   "outputs": [],
   "source": [
    "scoville = [1, 2, 3, 9, 10, 12]\n",
    "K = 7\n",
    "#answer = 2"
   ]
  },
  {
   "cell_type": "code",
   "execution_count": 3,
   "metadata": {},
   "outputs": [
    {
     "data": {
      "text/plain": [
       "2"
      ]
     },
     "execution_count": 3,
     "metadata": {},
     "output_type": "execute_result"
    }
   ],
   "source": [
    "solution(scoville, K)"
   ]
  },
  {
   "cell_type": "markdown",
   "metadata": {},
   "source": [
    "**채점결과**\n",
    "\n",
    "정확성: 57.1\n",
    "\n",
    "효율성: 0.0\n",
    "\n",
    "합계: 57.1 / 100.0"
   ]
  },
  {
   "cell_type": "markdown",
   "metadata": {},
   "source": [
    "### 2) 풀이2"
   ]
  },
  {
   "cell_type": "code",
   "execution_count": 8,
   "metadata": {},
   "outputs": [],
   "source": [
    "from collections import deque\n",
    "\n",
    "def solution(scoville, K):\n",
    "    answer = 0\n",
    "    scoville.sort()\n",
    "    scoville = deque(scoville)\n",
    "    \n",
    "    while min(scoville) <= K:\n",
    "        e = scoville[0] + (scoville[1]*2)\n",
    "        scoville.popleft()\n",
    "        scoville.popleft()\n",
    "        scoville.appendleft(e)\n",
    "        scoville = deque(sorted(scoville))\n",
    "        answer += 1\n",
    "        \n",
    "    return answer"
   ]
  },
  {
   "cell_type": "markdown",
   "metadata": {},
   "source": [
    "**채점결과**\n",
    "\n",
    "정확성: 57.1\n",
    "\n",
    "효율성: 0.0\n",
    "\n",
    "합계: 57.1 / 100.0"
   ]
  },
  {
   "cell_type": "code",
   "execution_count": 62,
   "metadata": {},
   "outputs": [],
   "source": [
    "scoville = [1, 2, 3, 9, 10, 12]\n",
    "K = 7\n",
    "answer = 2"
   ]
  },
  {
   "cell_type": "markdown",
   "metadata": {},
   "source": [
    "### 3) 풀이3"
   ]
  },
  {
   "cell_type": "code",
   "execution_count": 67,
   "metadata": {},
   "outputs": [],
   "source": [
    "# heap을 사용한다. \n",
    "import heapq\n",
    "\n",
    "def solution(scoville, K):\n",
    "    answer = 0\n",
    "    heapq.heapify(scoville)\n",
    "\n",
    "    while scoville[0] <K and len(scoville)>1:\n",
    "        answer += 1\n",
    "        mixed = heapq.heappop(scoville) + heapq.heappop(scoville)*2\n",
    "        heapq.heappush(scoville, mixed)\n",
    "\n",
    "    # K 이상으로 만들 수 없는 경우\n",
    "    if scoville[0] < K:\n",
    "        answer = -1\n",
    "\n",
    "    return answer"
   ]
  },
  {
   "cell_type": "markdown",
   "metadata": {},
   "source": [
    "## 디스크 컨트롤러"
   ]
  },
  {
   "cell_type": "code",
   "execution_count": 21,
   "metadata": {},
   "outputs": [
    {
     "data": {
      "text/plain": [
       "[9, 6]"
      ]
     },
     "execution_count": 21,
     "metadata": {},
     "output_type": "execute_result"
    }
   ],
   "source": [
    "jobs = [[0, 3], [1, 9], [2, 6]]\n",
    "# 3, 3+9= 12 , 12+6 = 18\n",
    "# 3, 3+6= 9, 9+9 = 18\n",
    "requests = [i[0] for i in jobs]\n",
    "durations = [i[1] for i in jobs[1:]]\n",
    "durations"
   ]
  },
  {
   "cell_type": "code",
   "execution_count": 22,
   "metadata": {},
   "outputs": [],
   "source": [
    "heapq.heapify(durations)"
   ]
  },
  {
   "cell_type": "code",
   "execution_count": 23,
   "metadata": {},
   "outputs": [
    {
     "data": {
      "text/plain": [
       "list"
      ]
     },
     "execution_count": 23,
     "metadata": {},
     "output_type": "execute_result"
    }
   ],
   "source": [
    "type(durations)"
   ]
  },
  {
   "cell_type": "markdown",
   "metadata": {},
   "source": [
    "### 1) 풀이1"
   ]
  },
  {
   "cell_type": "code",
   "execution_count": 56,
   "metadata": {},
   "outputs": [],
   "source": [
    "import heapq, math\n",
    "\n",
    "def solution(jobs):\n",
    "    answer = [jobs[0][1]]\n",
    "    end = jobs[0][1]\n",
    "    requests = [i[0] for i in jobs]\n",
    "    durations = [i[1] for i in jobs[1:]]\n",
    "    if max(requests) <= end:\n",
    "        heapq.heapify(durations)\n",
    "        heapq.heapify(requests)\n",
    "        while durations:\n",
    "            end += heapq.heappop(durations)\n",
    "            end -= heapq.heappop(requests)\n",
    "            answer.append(end)\n",
    "            end += heapq.heappop(durations)\n",
    "            end -= heapq.heappop(requests)\n",
    "            answer.append(end)\n",
    "    answer = math.floor(sum(answer)/ len(answer))\n",
    "    return answer"
   ]
  },
  {
   "cell_type": "code",
   "execution_count": 57,
   "metadata": {},
   "outputs": [
    {
     "data": {
      "text/plain": [
       "9"
      ]
     },
     "execution_count": 57,
     "metadata": {},
     "output_type": "execute_result"
    }
   ],
   "source": [
    "solution(jobs)"
   ]
  },
  {
   "cell_type": "markdown",
   "metadata": {},
   "source": [
    "**채점 결과**\n",
    "\n",
    "정확성: 5.0\n",
    "\n",
    "합계: 5.0 / 100.0"
   ]
  },
  {
   "cell_type": "markdown",
   "metadata": {},
   "source": [
    "### 풀이2)"
   ]
  },
  {
   "cell_type": "code",
   "execution_count": 160,
   "metadata": {},
   "outputs": [],
   "source": [
    "jobs = [[0, 3], [1, 9], [2, 6]]\n",
    "\n",
    "import math\n",
    "\n",
    "def solution(jobs):\n",
    "    answer = [jobs[0][1]] # 총 소요시간 : 대기시간 + 수행시간 (시작시간 + 수행시간 - 투입시간)\n",
    "    end = jobs[0][1] #\"현재 시각!!!\"\n",
    "    jobs.pop(0) #jobs = [[1,9], [2,6]]\n",
    "    while jobs:\n",
    "        #다음 task는...?\n",
    "        task = [i for i in enumerate(jobs) if i[1][0] <= end]\n",
    "        task = sorted(task, key=lambda x:x[1][1], reverse=False)\n",
    "        end += task[0][1][1]\n",
    "        end -= task[0][1][0]\n",
    "        answer.append(end)\n",
    "        end += task[0][1][0]\n",
    "        jobs.pop(task[0][0])\n",
    "        \n",
    "    answer = math.floor(sum(answer)/len(answer))\n",
    "    return answer"
   ]
  },
  {
   "cell_type": "markdown",
   "metadata": {},
   "source": [
    "**채점 결과**\n",
    "\n",
    "정확성: 15.0\n",
    "\n",
    "합계: 15.0 / 100.0"
   ]
  },
  {
   "cell_type": "markdown",
   "metadata": {},
   "source": [
    "### 풀이3)"
   ]
  },
  {
   "cell_type": "code",
   "execution_count": null,
   "metadata": {},
   "outputs": [],
   "source": []
  },
  {
   "cell_type": "code",
   "execution_count": null,
   "metadata": {},
   "outputs": [],
   "source": []
  },
  {
   "cell_type": "markdown",
   "metadata": {},
   "source": [
    "## 3. 우선순위 큐"
   ]
  },
  {
   "cell_type": "code",
   "execution_count": 244,
   "metadata": {},
   "outputs": [],
   "source": [
    "def solution(operations):\n",
    "    answer = []\n",
    "    for i in operations:\n",
    "        if i.startswith(\"I\"):\n",
    "            answer.append(int(i[2:]))\n",
    "        if answer:\n",
    "            if i.startswith(\"D\") and (\"-\" not in i):\n",
    "                r = max(answer)\n",
    "                answer.remove(r)\n",
    "            if i.startswith(\"D\") and (\"-\" in i):\n",
    "                r = min(answer)\n",
    "                answer.remove(r)\n",
    "    if answer == []:\n",
    "        return [0,0]\n",
    "    else:\n",
    "        ans = []\n",
    "        ans.append(max(answer))\n",
    "        ans.append(min(answer))\n",
    "        return ans"
   ]
  },
  {
   "cell_type": "code",
   "execution_count": 245,
   "metadata": {},
   "outputs": [
    {
     "data": {
      "text/plain": [
       "[7, 5]"
      ]
     },
     "execution_count": 245,
     "metadata": {},
     "output_type": "execute_result"
    }
   ],
   "source": [
    "operations = [\"I 7\",\"I 5\",\"I -5\",\"D -1\"]\n",
    "solution(operations)"
   ]
  },
  {
   "cell_type": "code",
   "execution_count": 246,
   "metadata": {},
   "outputs": [
    {
     "data": {
      "text/plain": [
       "[0, 0]"
      ]
     },
     "execution_count": 246,
     "metadata": {},
     "output_type": "execute_result"
    }
   ],
   "source": [
    "operations = [\"I 16\",\"D 1\"]\n",
    "solution(operations)"
   ]
  },
  {
   "cell_type": "code",
   "execution_count": 247,
   "metadata": {},
   "outputs": [
    {
     "data": {
      "text/plain": [
       "[333, -45]"
      ]
     },
     "execution_count": 247,
     "metadata": {},
     "output_type": "execute_result"
    }
   ],
   "source": [
    "operations = [\"I -45\", \"I 653\", \"D 1\", \"I -642\", \"I 45\", \"I 97\", \"D 1\", \"D -1\", \"I 333\"]\n",
    "solution(operations)"
   ]
  },
  {
   "cell_type": "code",
   "execution_count": null,
   "metadata": {},
   "outputs": [],
   "source": []
  }
 ],
 "metadata": {
  "kernelspec": {
   "display_name": "Python 3",
   "language": "python",
   "name": "python3"
  },
  "language_info": {
   "codemirror_mode": {
    "name": "ipython",
    "version": 3
   },
   "file_extension": ".py",
   "mimetype": "text/x-python",
   "name": "python",
   "nbconvert_exporter": "python",
   "pygments_lexer": "ipython3",
   "version": "3.7.6"
  }
 },
 "nbformat": 4,
 "nbformat_minor": 4
}
