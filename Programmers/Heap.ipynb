{
 "cells": [
  {
   "cell_type": "markdown",
   "metadata": {},
   "source": [
    "## 1. 더맵게"
   ]
  },
  {
   "cell_type": "code",
   "execution_count": 1,
   "metadata": {},
   "outputs": [],
   "source": [
    "def solution(scoville, K):\n",
    "    answer = 0\n",
    "    scoville.sort()\n",
    "    \n",
    "    while min(scoville) <= K:\n",
    "        e = scoville[0] + (scoville[1]*2)\n",
    "        scoville.pop(0)\n",
    "        scoville.pop(0)\n",
    "        scoville.insert(0,e)\n",
    "        scoville.sort()\n",
    "        answer += 1\n",
    "        \n",
    "    return answer"
   ]
  },
  {
   "cell_type": "code",
   "execution_count": 2,
   "metadata": {},
   "outputs": [],
   "source": [
    "scoville = [1, 2, 3, 9, 10, 12]\n",
    "K = 7\n",
    "#answer = 2"
   ]
  },
  {
   "cell_type": "code",
   "execution_count": 3,
   "metadata": {},
   "outputs": [
    {
     "data": {
      "text/plain": [
       "2"
      ]
     },
     "execution_count": 3,
     "metadata": {},
     "output_type": "execute_result"
    }
   ],
   "source": [
    "solution(scoville, K)"
   ]
  },
  {
   "cell_type": "markdown",
   "metadata": {},
   "source": [
    "### 채점결과\n",
    "\n",
    "정확성: 57.1\n",
    "\n",
    "효율성: 0.0\n",
    "\n",
    "합계: 57.1 / 100.0"
   ]
  },
  {
   "cell_type": "code",
   "execution_count": 8,
   "metadata": {},
   "outputs": [],
   "source": [
    "from collections import deque\n",
    "\n",
    "def solution(scoville, K):\n",
    "    answer = 0\n",
    "    scoville.sort()\n",
    "    scoville = deque(scoville)\n",
    "    \n",
    "    while min(scoville) <= K:\n",
    "        e = scoville[0] + (scoville[1]*2)\n",
    "        scoville.popleft()\n",
    "        scoville.popleft()\n",
    "        scoville.appendleft(e)\n",
    "        scoville = deque(sorted(scoville))\n",
    "        answer += 1\n",
    "        \n",
    "    return answer"
   ]
  },
  {
   "cell_type": "markdown",
   "metadata": {},
   "source": [
    "### 채점결과\n",
    "\n",
    "정확성: 57.1\n",
    "\n",
    "효율성: 0.0\n",
    "\n",
    "합계: 57.1 / 100.0"
   ]
  },
  {
   "cell_type": "code",
   "execution_count": null,
   "metadata": {},
   "outputs": [],
   "source": [
    "from collections import deque\n",
    "\n",
    "def solution(scoville, K):\n",
    "    answer = 0\n",
    "    scoville.sort()\n",
    "    scoville = deque(scoville)\n",
    "    \n",
    "    for i in range(len(scoville)):\n",
    "        if min(scoville) <=:\n",
    "            e = scoville[0] + (scoville[1]*2)\n",
    "            scoville.popleft()\n",
    "            scoville.popleft()\n",
    "            scoville.appendleft(e)\n",
    "            scoville = deque(sorted(scoville))\n",
    "            answer += 1\n",
    "        \n",
    "    return answer"
   ]
  }
 ],
 "metadata": {
  "kernelspec": {
   "display_name": "Python 3",
   "language": "python",
   "name": "python3"
  },
  "language_info": {
   "codemirror_mode": {
    "name": "ipython",
    "version": 3
   },
   "file_extension": ".py",
   "mimetype": "text/x-python",
   "name": "python",
   "nbconvert_exporter": "python",
   "pygments_lexer": "ipython3",
   "version": "3.7.6"
  }
 },
 "nbformat": 4,
 "nbformat_minor": 4
}
