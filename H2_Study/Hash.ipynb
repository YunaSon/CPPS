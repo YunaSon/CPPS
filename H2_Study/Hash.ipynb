{
 "cells": [
  {
   "cell_type": "markdown",
   "metadata": {},
   "source": [
    "## 1. Two Sum"
   ]
  },
  {
   "cell_type": "markdown",
   "metadata": {},
   "source": [
    "### 문제\n",
    "- Given nums = [2, 7, 11, 15]\n",
    "- target = 9\n",
    "- Because nums[0] + nums[1] = 2 + 7 = 9\n",
    "- return [0, 1]"
   ]
  },
  {
   "cell_type": "code",
   "execution_count": 21,
   "metadata": {},
   "outputs": [],
   "source": [
    "class Solution:\n",
    "    def twoSum(self, nums, target):\n",
    "        seen = {} # 빈 딕셔너리를 만든다. \n",
    "        for i, v in enumerate(nums):\n",
    "            remaining = target - v #나머지 숫자 찾기\n",
    "            if remaining in seen:\n",
    "                return [seen[remaining], i]\n",
    "            seen[v] = i # 키가 정수, 값이 인덱스인 딕셔너리를 만든다. \n",
    "            # seen = {2:0, 7:1, 11:2, 15:3}\n",
    "        return []"
   ]
  },
  {
   "cell_type": "code",
   "execution_count": 25,
   "metadata": {},
   "outputs": [
    {
     "name": "stdout",
     "output_type": "stream",
     "text": [
      "remaining 7 seen {}\n",
      "remaining 2 seen {2: 0}\n",
      "remaining -2 seen {2: 0, 7: 1}\n",
      "remaining -6 seen {2: 0, 7: 1, 11: 2}\n"
     ]
    }
   ],
   "source": [
    "seen = {} # 빈 딕셔너리를 만든다. \n",
    "result = []\n",
    "for i, v in enumerate(nums):\n",
    "    remaining = target - v #나머지 숫자 찾기\n",
    "    print(\"remaining\", remaining, \"seen\", seen)\n",
    "    if remaining in seen:\n",
    "        result = [seen[remaining], i]\n",
    "    seen[v] = i # 키가 정수, 값이 인덱스인 딕셔너리를 만든다.\n",
    "    # seen = {2:0, 7:1, 11:2, 15:3}"
   ]
  },
  {
   "cell_type": "code",
   "execution_count": 26,
   "metadata": {},
   "outputs": [
    {
     "name": "stdout",
     "output_type": "stream",
     "text": [
      "[0, 1]\n"
     ]
    }
   ],
   "source": [
    "print(result)"
   ]
  },
  {
   "cell_type": "code",
   "execution_count": 27,
   "metadata": {},
   "outputs": [
    {
     "name": "stdout",
     "output_type": "stream",
     "text": [
      "{2: 0, 7: 1, 11: 2, 15: 3}\n"
     ]
    }
   ],
   "source": [
    "print(seen)"
   ]
  },
  {
   "cell_type": "code",
   "execution_count": 28,
   "metadata": {},
   "outputs": [
    {
     "data": {
      "text/plain": [
       "[0, 1]"
      ]
     },
     "execution_count": 28,
     "metadata": {},
     "output_type": "execute_result"
    }
   ],
   "source": [
    "answer = Solution()\n",
    "nums = [2, 7, 11, 15]\n",
    "target = 9\n",
    "answer.twoSum(nums, target)"
   ]
  },
  {
   "cell_type": "markdown",
   "metadata": {},
   "source": [
    "## 2. Valid Sudoku"
   ]
  },
  {
   "cell_type": "code",
   "execution_count": 69,
   "metadata": {},
   "outputs": [],
   "source": [
    "class Solution:\n",
    "    def isValidSudoku(self, board):\n",
    "        checked = []\n",
    "        \n",
    "        # 행 검사\n",
    "        for i in range(9):\n",
    "            for j in board[i]:\n",
    "                if j not in checked:\n",
    "                    checked.append(j)\n",
    "                else:\n",
    "                    return False\n",
    "                checked = []\n",
    "        \n",
    "        # 열 검사\n",
    "        for k in board:\n",
    "            for i in range(9):\n",
    "                if k[i] not in checked:\n",
    "                    checked.append(k[i])\n",
    "                else:\n",
    "                    return False\n",
    "                checked = []\n",
    "        return True"
   ]
  },
  {
   "cell_type": "code",
   "execution_count": 68,
   "metadata": {
    "collapsed": true
   },
   "outputs": [],
   "source": [
    "test = Solution()"
   ]
  },
  {
   "cell_type": "markdown",
   "metadata": {},
   "source": [
    "- 0:3\n",
    "- 3:6\n",
    "- 6:9"
   ]
  },
  {
   "cell_type": "code",
   "execution_count": 63,
   "metadata": {},
   "outputs": [
    {
     "data": {
      "text/plain": [
       "10"
      ]
     },
     "execution_count": 63,
     "metadata": {},
     "output_type": "execute_result"
    }
   ],
   "source": [
    "board = [0,1,2,3,4,5,6,7,8,9]\n",
    "len(board)"
   ]
  },
  {
   "cell_type": "code",
   "execution_count": 64,
   "metadata": {},
   "outputs": [
    {
     "data": {
      "text/plain": [
       "[0, 1, 2]"
      ]
     },
     "execution_count": 64,
     "metadata": {},
     "output_type": "execute_result"
    }
   ],
   "source": [
    "board[0:3]"
   ]
  },
  {
   "cell_type": "code",
   "execution_count": 65,
   "metadata": {},
   "outputs": [
    {
     "data": {
      "text/plain": [
       "[3, 4, 5]"
      ]
     },
     "execution_count": 65,
     "metadata": {},
     "output_type": "execute_result"
    }
   ],
   "source": [
    "board[3:6]"
   ]
  },
  {
   "cell_type": "code",
   "execution_count": 62,
   "metadata": {},
   "outputs": [
    {
     "data": {
      "text/plain": [
       "[7, 8]"
      ]
     },
     "execution_count": 62,
     "metadata": {},
     "output_type": "execute_result"
    }
   ],
   "source": [
    "board[6:9]"
   ]
  },
  {
   "cell_type": "code",
   "execution_count": null,
   "metadata": {
    "collapsed": true
   },
   "outputs": [],
   "source": [
    "0, 3, 6"
   ]
  }
 ],
 "metadata": {
  "kernelspec": {
   "display_name": "aiffel",
   "language": "python",
   "name": "aiffel"
  },
  "language_info": {
   "codemirror_mode": {
    "name": "ipython",
    "version": 3
   },
   "file_extension": ".py",
   "mimetype": "text/x-python",
   "name": "python",
   "nbconvert_exporter": "python",
   "pygments_lexer": "ipython3",
   "version": "3.6.10"
  }
 },
 "nbformat": 4,
 "nbformat_minor": 2
}
