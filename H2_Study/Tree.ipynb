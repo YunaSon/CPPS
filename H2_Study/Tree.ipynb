{
 "cells": [
  {
   "cell_type": "markdown",
   "metadata": {},
   "source": [
    "## Invert Tree"
   ]
  },
  {
   "cell_type": "code",
   "execution_count": 1,
   "metadata": {
    "collapsed": true
   },
   "outputs": [],
   "source": [
    "class TreeNode:\n",
    "    def __init__(self, val=0, left=None, right=None):\n",
    "        self.val = val\n",
    "        self.left = left\n",
    "        self.right = right\n",
    "        \n",
    "class Solution:\n",
    "    def invertTree(self, root):\n",
    "        if root:\n",
    "            root.left, root.right = self.invertTree(root.right), self.invertTree(root.left)\n",
    "        return root"
   ]
  },
  {
   "cell_type": "markdown",
   "metadata": {
    "collapsed": true
   },
   "source": [
    "## Friend Circles"
   ]
  },
  {
   "cell_type": "markdown",
   "metadata": {},
   "source": [
    "There are N students in a class. \n",
    "Some of them are friends, while some are not. \n",
    "Their friendship is transitive in nature. \n",
    "For example, if A is a direct friend of B, and B is a direct friend of C, then A is an indirect friend of C. \n",
    "And we defined a friend circle is a group of students who are direct or indirect friends.\n",
    "\n",
    "Given a N*N matrix M representing the friend relationship between students in the class. \n",
    "If M[i][j] = 1, then the ith and jth students are direct friends with each other, otherwise not. \n",
    "And you have to output the total number of friend circles among all the students.\n",
    "\n",
    "Example 1:\n",
    "\n",
    "```\n",
    "    Input: \n",
    "[[1,1,0],\n",
    " [1,1,0],\n",
    " [0,0,1]]\n",
    "```\n",
    "\n",
    "Output: 2\n",
    "\n",
    "Explanation:The 0th and 1st students are direct friends, so they are in a friend circle. \n",
    "The 2nd student himself is in a friend circle. So return 2.\n",
    "\n",
    "Example 2:\n",
    "```\n",
    "Input: \n",
    "[[1,1,0],\n",
    " [1,1,1],\n",
    " [0,1,1]]\n",
    "```\n",
    "\n",
    "Output: 1\n",
    "\n",
    "Explanation:The 0th and 1st students are direct friends, the 1st and 2nd students are direct friends, \n",
    "so the 0th and 2nd students are indirect friends. All of them are in the same friend circle, so return 1.\n",
    "\n",
    "Note:\n",
    "- N is in range [1,200].\n",
    "- M[i][i] = 1 for all students.\n",
    "- If M[i][j] = 1, then M[j][i] = 1."
   ]
  },
  {
   "cell_type": "code",
   "execution_count": 3,
   "metadata": {
    "collapsed": true
   },
   "outputs": [],
   "source": [
    "class UnionFind:\n",
    "    def __init__(self, size):\n",
    "        self.rank = [1] * size\n",
    "        self.parent = list(range(size))\n",
    "        self.components = size\n",
    "        \n",
    "    def find(self, node):\n",
    "        if self.parent[node] != node:\n",
    "            self.parent[node] = self.find(self.parent[node])\n",
    "        return self.parent[node]\n",
    "    \n",
    "    def union(self, s1, s2):\n",
    "        parent1, parent2 = self.find(s1), self.find(s2)\n",
    "        if parent1 == parent2: return\n",
    "        \n",
    "        if self.rank[parent1] > self.rank[parent2]:\n",
    "            self.parent[parent2] = parent1\n",
    "        else:\n",
    "            self.parent[parent1] = parent2\n",
    "            if self.rank[parent1] == self.rank[parent2]:\n",
    "                self.rank[parent2] = self.rank[parent2] + 1\n",
    "                \n",
    "        self.components -= 1\n",
    "\n",
    "        \n",
    "class Solution:\n",
    "    def findCircleNum(self, M) -> int:\n",
    "        n = len(M)\n",
    "        union_find = UnionFind(n)\n",
    "        visited = set()\n",
    "        \n",
    "        for node in range(n):\n",
    "            for neighbor in range(n):\n",
    "                MIN = min(node, neighbor)\n",
    "                MAX = max(node, neighbor)\n",
    "                \n",
    "                if M[node][neighbor] and (MIN, MAX) not in visited:\n",
    "                    visited.add((MIN, MAX))\n",
    "                    union_find.union(node, neighbor)\n",
    "                \n",
    "        return union_find.components"
   ]
  },
  {
   "cell_type": "markdown",
   "metadata": {},
   "source": [
    "## 692. Top K Frequent Words"
   ]
  },
  {
   "cell_type": "markdown",
   "metadata": {},
   "source": [
    "Given a non-empty list of words, return the k most frequent elements.\n",
    "\n",
    "Your answer should be sorted by frequency from highest to lowest. \n",
    "If two words have the same frequency, then the word with the lower alphabetical order comes first.\n",
    "\n",
    "Example 1:\n",
    "\n",
    "```\n",
    "Input: [\"i\", \"love\", \"leetcode\", \"i\", \"love\", \"coding\"], k = 2\n",
    "Output: [\"i\", \"love\"]\n",
    "Explanation: \"i\" and \"love\" are the two most frequent words.\n",
    "    Note that \"i\" comes before \"love\" due to a lower alphabetical order.\n",
    "```\n",
    "\n",
    "Example 2:\n",
    "\n",
    "```\n",
    "Input: [\"the\", \"day\", \"is\", \"sunny\", \"the\", \"the\", \"the\", \"sunny\", \"is\", \"is\"], k = 4\n",
    "Output: [\"the\", \"is\", \"sunny\", \"day\"]\n",
    "Explanation: \"the\", \"is\", \"sunny\" and \"day\" are the four most frequent words,\n",
    "    with the number of occurrence being 4, 3, 2 and 1 respectively.\n",
    "```\n",
    "\n",
    "Note:\n",
    "\n",
    "You may assume k is always valid, 1 ≤ k ≤ number of unique elements.\n",
    "\n",
    "Input words contain only lowercase letters.\n",
    "\n",
    "Follow up: Try to solve it in O(n log k) time and O(n) extra space."
   ]
  },
  {
   "cell_type": "markdown",
   "metadata": {},
   "source": [
    "**Sorted()함수 이용**"
   ]
  },
  {
   "cell_type": "code",
   "execution_count": 14,
   "metadata": {},
   "outputs": [
    {
     "data": {
      "text/plain": [
       "['love', 'i', 'leetcode', 'coding']"
      ]
     },
     "execution_count": 14,
     "metadata": {},
     "output_type": "execute_result"
    }
   ],
   "source": [
    "word = [\"i\", \"love\", \"leetcode\", \"i\", \"love\", \"coding\"]\n",
    "word_set = set(word)\n",
    "sorted(word_set, key=word.count, reverse=True)"
   ]
  },
  {
   "cell_type": "code",
   "execution_count": 26,
   "metadata": {},
   "outputs": [],
   "source": [
    "class Solution:\n",
    "    def __init__(self, words, k):\n",
    "        self.words = words\n",
    "        self.k = int(k)\n",
    "        self.words_set = set(self.words)\n",
    "        self.answer = []\n",
    "        self.ordered_word = []\n",
    "    \n",
    "    def order(self):\n",
    "        self.ordered_word = sorted(self.words_set, key=self.words.count, reverse=True)\n",
    "        return self.ordered_word\n",
    "    \n",
    "    def find(self):\n",
    "        for i in range(self.k):\n",
    "            self.answer.append(self.ordered_word[i])\n",
    "        return self.answer"
   ]
  },
  {
   "cell_type": "code",
   "execution_count": 27,
   "metadata": {
    "collapsed": true
   },
   "outputs": [],
   "source": [
    "a = Solution(word,2)"
   ]
  },
  {
   "cell_type": "code",
   "execution_count": 28,
   "metadata": {},
   "outputs": [
    {
     "data": {
      "text/plain": [
       "['love', 'i', 'leetcode', 'coding']"
      ]
     },
     "execution_count": 28,
     "metadata": {},
     "output_type": "execute_result"
    }
   ],
   "source": [
    "a.order()"
   ]
  },
  {
   "cell_type": "code",
   "execution_count": 29,
   "metadata": {},
   "outputs": [
    {
     "data": {
      "text/plain": [
       "['love', 'i']"
      ]
     },
     "execution_count": 29,
     "metadata": {},
     "output_type": "execute_result"
    }
   ],
   "source": [
    "a.find()"
   ]
  },
  {
   "cell_type": "markdown",
   "metadata": {},
   "source": [
    "**리트코드 제출용**"
   ]
  },
  {
   "cell_type": "code",
   "execution_count": null,
   "metadata": {
    "collapsed": true
   },
   "outputs": [],
   "source": [
    "class Solution:\n",
    "    def __init__(self):\n",
    "        self.answer = []\n",
    "        self.ordered_word = []\n",
    "    \n",
    "    def topKFrequent(self, words, k):\n",
    "        self.words = words\n",
    "        self.k = k    \n",
    "        self.words_set = set(self.words)\n",
    "        self.ordered_word = sorted(self.words_set, key=self.words.count, reverse=True)\n",
    "        for i in range(self.k):\n",
    "            self.answer.append(self.ordered_word[i])\n",
    "        return self.answer"
   ]
  },
  {
   "cell_type": "markdown",
   "metadata": {},
   "source": [
    "알파벳순 못하겠음..."
   ]
  },
  {
   "cell_type": "markdown",
   "metadata": {},
   "source": [
    "## 128. Longest Consecutive Sequence"
   ]
  },
  {
   "cell_type": "markdown",
   "metadata": {},
   "source": [
    "Given an unsorted array of integers, find the length of the longest consecutive elements sequence.\n",
    "\n",
    "Your algorithm should run in O(n) complexity.\n",
    "\n",
    "Example:\n",
    "\n",
    "```\n",
    "Input: [100, 4, 200, 1, 3, 2]\n",
    "Output: 4\n",
    "\n",
    "Explanation: The longest consecutive elements sequence is [1, 2, 3, 4]. Therefore its length is 4.\n",
    "```"
   ]
  },
  {
   "cell_type": "code",
   "execution_count": 35,
   "metadata": {
    "collapsed": true
   },
   "outputs": [],
   "source": [
    "nums = [100, 4, 200, 1, 3, 2]"
   ]
  },
  {
   "cell_type": "code",
   "execution_count": 45,
   "metadata": {},
   "outputs": [],
   "source": [
    "class Solution:\n",
    "    def longestConsecutive(self, nums) -> int:\n",
    "        if not nums:\n",
    "            return 0\n",
    "\n",
    "        nums=list(dict.fromkeys(nums))\n",
    "        if len(nums)==1:\n",
    "            return 1\n",
    "        nums.sort()\n",
    "        i=0\n",
    "        ans=[]\n",
    "        reslis=[]\n",
    "        while i<=len(nums)-2:\n",
    "            reslis=[nums[i]]\n",
    "\n",
    "            while i<=len(nums)-2 and nums[i+1]==nums[i]+1:\n",
    "                reslis.append(nums[i+1])\n",
    "                i+=1\n",
    "                continue\n",
    "            else:\n",
    "                i+=1\n",
    "            if len(ans)<len(reslis):\n",
    "                ans=reslis.copy()\n",
    "        return(len(ans))    "
   ]
  },
  {
   "cell_type": "code",
   "execution_count": 46,
   "metadata": {},
   "outputs": [
    {
     "data": {
      "text/plain": [
       "4"
      ]
     },
     "execution_count": 46,
     "metadata": {},
     "output_type": "execute_result"
    }
   ],
   "source": [
    "a = Solution()\n",
    "a.longestConsecutive(nums)"
   ]
  },
  {
   "cell_type": "code",
   "execution_count": null,
   "metadata": {
    "collapsed": true
   },
   "outputs": [],
   "source": []
  }
 ],
 "metadata": {
  "kernelspec": {
   "display_name": "Python 3",
   "language": "python",
   "name": "python3"
  },
  "language_info": {
   "codemirror_mode": {
    "name": "ipython",
    "version": 3
   },
   "file_extension": ".py",
   "mimetype": "text/x-python",
   "name": "python",
   "nbconvert_exporter": "python",
   "pygments_lexer": "ipython3",
   "version": "3.7.6"
  }
 },
 "nbformat": 4,
 "nbformat_minor": 2
}
