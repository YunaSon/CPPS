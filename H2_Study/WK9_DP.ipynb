{
 "metadata": {
  "language_info": {
   "codemirror_mode": {
    "name": "ipython",
    "version": 3
   },
   "file_extension": ".py",
   "mimetype": "text/x-python",
   "name": "python",
   "nbconvert_exporter": "python",
   "pygments_lexer": "ipython3",
   "version": "3.7.9-final"
  },
  "orig_nbformat": 2,
  "kernelspec": {
   "name": "python_defaultSpec_1599803934768",
   "display_name": "Python 3.7.9 64-bit"
  }
 },
 "nbformat": 4,
 "nbformat_minor": 2,
 "cells": [
  {
   "cell_type": "markdown",
   "metadata": {},
   "source": [
    "## 전체 문제 링크\n",
    "\n",
    "https://leetcode.com/list/55g7s1i5/"
   ]
  },
  {
   "cell_type": "markdown",
   "metadata": {},
   "source": [
    "## 139. Word Break\n",
    "\n",
    "https://leetcode.com/problems/word-break/"
   ]
  },
  {
   "cell_type": "code",
   "execution_count": 43,
   "metadata": {},
   "outputs": [],
   "source": [
    "class Solution:        \n",
    "    def wordBreak(self, s, wordDict) -> bool:\n",
    "        dp=[False for i in range(len(s)+1)]\n",
    "        dp[0]=True\n",
    "        for i in range(len(s)): #처음부터 - s끝까지\n",
    "            for j in range(i,len(s)): #중간부터 S끝까지\n",
    "                print(\"({},{})\".format(i, j))\n",
    "                if dp[i] and s[i:j+1] in wordDict: #에러 안남. 파이썬 슬라이스장점, \n",
    "                    # seperate하고 다음 문자열의 인덱스 (슬라이스)\n",
    "                    dp[j+1]=True\n",
    "                    print(s[i:j+1])\n",
    "                    print(dp)\n",
    "        return dp[-1]"
   ]
  },
  {
   "cell_type": "code",
   "execution_count": 41,
   "metadata": {},
   "outputs": [],
   "source": [
    "s = \"applepenapple\"\n",
    "wordDict = [\"apple\", \"pen\"]"
   ]
  },
  {
   "cell_type": "code",
   "execution_count": 42,
   "metadata": {
    "tags": []
   },
   "outputs": [
    {
     "output_type": "stream",
     "name": "stdout",
     "text": "(0,0)\n(0,1)\n(0,2)\n(0,3)\n(0,4)\napple\n[True, False, False, False, False, True, False, False, False, False, False, False, False, False]\n(0,5)\n(0,6)\n(0,7)\n(0,8)\n(0,9)\n(0,10)\n(0,11)\n(0,12)\n(1,1)\n(1,2)\n(1,3)\n(1,4)\n(1,5)\n(1,6)\n(1,7)\n(1,8)\n(1,9)\n(1,10)\n(1,11)\n(1,12)\n(2,2)\n(2,3)\n(2,4)\n(2,5)\n(2,6)\n(2,7)\n(2,8)\n(2,9)\n(2,10)\n(2,11)\n(2,12)\n(3,3)\n(3,4)\n(3,5)\n(3,6)\n(3,7)\n(3,8)\n(3,9)\n(3,10)\n(3,11)\n(3,12)\n(4,4)\n(4,5)\n(4,6)\n(4,7)\n(4,8)\n(4,9)\n(4,10)\n(4,11)\n(4,12)\n(5,5)\n(5,6)\n(5,7)\npen\n[True, False, False, False, False, True, False, False, True, False, False, False, False, False]\n(5,8)\n(5,9)\n(5,10)\n(5,11)\n(5,12)\n(6,6)\n(6,7)\n(6,8)\n(6,9)\n(6,10)\n(6,11)\n(6,12)\n(7,7)\n(7,8)\n(7,9)\n(7,10)\n(7,11)\n(7,12)\n(8,8)\n(8,9)\n(8,10)\n(8,11)\n(8,12)\napple\n[True, False, False, False, False, True, False, False, True, False, False, False, False, True]\n(9,9)\n(9,10)\n(9,11)\n(9,12)\n(10,10)\n(10,11)\n(10,12)\n(11,11)\n(11,12)\n(12,12)\n"
    },
    {
     "output_type": "execute_result",
     "data": {
      "text/plain": "True"
     },
     "metadata": {},
     "execution_count": 42
    }
   ],
   "source": [
    "a = Solution()\n",
    "a.wordBreak(s, wordDict)"
   ]
  },
  {
   "cell_type": "markdown",
   "metadata": {},
   "source": [
    "## 121. Best Time to Buy and Sell Stock\n",
    "\n",
    "https://leetcode.com/problems/best-time-to-buy-and-sell-stock/"
   ]
  },
  {
   "cell_type": "code",
   "execution_count": 75,
   "metadata": {},
   "outputs": [],
   "source": [
    "def maxProfit(prices) -> int:\n",
    "    result = 0\n",
    "    for i in range(len(prices)-1):\n",
    "        for j in range(len(prices)):\n",
    "            if j > i:\n",
    "                print(\"({},{}): ({},{})\".format(i,j, prices[i], prices[j]))\n",
    "                if prices[j] - prices[i] >= result:\n",
    "                    result = prices[j] - prices[i]\n",
    "    return result"
   ]
  },
  {
   "cell_type": "code",
   "execution_count": 77,
   "metadata": {
    "tags": []
   },
   "outputs": [
    {
     "output_type": "stream",
     "name": "stdout",
     "text": "(0,1): (7,6)\n(0,2): (7,4)\n(0,3): (7,3)\n(0,4): (7,1)\n(1,2): (6,4)\n(1,3): (6,3)\n(1,4): (6,1)\n(2,3): (4,3)\n(2,4): (4,1)\n(3,4): (3,1)\n"
    },
    {
     "output_type": "execute_result",
     "data": {
      "text/plain": "0"
     },
     "metadata": {},
     "execution_count": 77
    }
   ],
   "source": [
    "prices = [7,1,5,3,6,4]\n",
    "prices = [7,6,4,3,1]\n",
    "maxProfit(prices)"
   ]
  },
  {
   "cell_type": "markdown",
   "metadata": {},
   "source": [
    "Time Limit Exceeded 에러..."
   ]
  },
  {
   "cell_type": "code",
   "execution_count": null,
   "metadata": {},
   "outputs": [],
   "source": [
    "def maxProfit(prices) -> int:\n",
    "    result = 0\n",
    "    for i,j in enumerate(prices):\n",
    "        current = min([i for i in prices[i+1]])\n",
    "        if j - current > result:\n",
    "            result = j - current\n",
    "    return result"
   ]
  },
  {
   "cell_type": "code",
   "execution_count": 80,
   "metadata": {},
   "outputs": [],
   "source": [
    "def maxProfit(self, prices):    \n",
    "    import math\n",
    "    min_price_so_far = math.inf\n",
    "    max_profit = 0\n",
    "        \n",
    "    for price in prices:       \n",
    "        min_price_so_far = min(price, min_price_so_far)\n",
    "        current_profit = price - min_price_so_far\n",
    "        max_profit = max(current_profit, max_profit)\n",
    "        \n",
    "    return max_profit"
   ]
  },
  {
   "cell_type": "code",
   "execution_count": 84,
   "metadata": {},
   "outputs": [
    {
     "output_type": "execute_result",
     "data": {
      "text/plain": "1"
     },
     "metadata": {},
     "execution_count": 84
    }
   ],
   "source": [
    "prices = [7,1,5,3,6,4]\n",
    "min(prices)"
   ]
  },
  {
   "cell_type": "code",
   "execution_count": 102,
   "metadata": {
    "tags": []
   },
   "outputs": [
    {
     "output_type": "stream",
     "name": "stdout",
     "text": "5\n"
    }
   ],
   "source": [
    "result = 0\n",
    "for i,j in enumerate(prices):\n",
    "    current = max([k for k in prices[i:]])\n",
    "    if current - j > result:\n",
    "        result = current - j\n",
    "print(result)"
   ]
  },
  {
   "cell_type": "code",
   "execution_count": 108,
   "metadata": {},
   "outputs": [],
   "source": [
    "class Solution:      \n",
    "    def maxProfit(self, prices) -> int:\n",
    "        profit = 0\n",
    "        for i in range(len(prices)):\n",
    "            if i == 0:\n",
    "                mini = prices[i]\n",
    "                continue\n",
    "            if prices[i] < mini:\n",
    "                mini = prices[i]\n",
    "            else:\n",
    "                if prices[i] - mini > profit:\n",
    "                    profit = prices[i] - mini\n",
    "        return profit"
   ]
  },
  {
   "cell_type": "markdown",
   "metadata": {},
   "source": [
    "## 96. Unique Binary Search Trees\n",
    "\n",
    "https://leetcode.com/problems/unique-binary-search-trees/"
   ]
  },
  {
   "cell_type": "code",
   "execution_count": 113,
   "metadata": {},
   "outputs": [],
   "source": [
    "class Solution:\n",
    "    def numTrees(self, n):\n",
    "        dp = [0 for i in range(n+1)]\n",
    "        if n <= 2:\n",
    "            return n\n",
    "        if n == 3:\n",
    "            return 5\n",
    "        \n",
    "    #BST의 가짓수는 순열을 이용해 일반화 가능하다. C=4부터 일반화 식이 성립된다.  \n",
    "    #Cn = i0~n시그마 Ci*Cn-i-1\n",
    "    #ex) n = 4\n",
    "    #ex) C0*C3 + C1*C2, C2*C1, C3*C0\n",
    "    \n",
    "        dp[0] = 1\n",
    "        dp[1] = 1\n",
    "        dp[2] = 2\n",
    "        dp[3] = 5\n",
    "        for i in range(4, n+1):\n",
    "            for j in range(1, i+1):\n",
    "                dp[i] = dp[i] + dp[i-j]*dp[j-1]\n",
    "        return dp[n]"
   ]
  },
  {
   "cell_type": "code",
   "execution_count": 112,
   "metadata": {},
   "outputs": [],
   "source": []
  },
  {
   "cell_type": "code",
   "execution_count": null,
   "metadata": {},
   "outputs": [],
   "source": []
  }
 ]
}