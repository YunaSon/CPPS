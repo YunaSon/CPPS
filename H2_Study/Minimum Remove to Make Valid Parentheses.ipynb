{
 "cells": [
  {
   "cell_type": "markdown",
   "metadata": {},
   "source": [
    "## Q Minimum Remove to Make Valid Parentheses\n",
    "\n",
    "Given a string s of '(' , ')' and lowercase English characters. \n",
    "\n",
    "Your task is to remove the minimum number of parentheses ( '(' or ')', in any positions ) so that the resulting parentheses string is valid and return any valid string.\n",
    "\n",
    "Formally, a parentheses string is valid if and only if:\n",
    "\n",
    "It is the empty string, contains only lowercase characters, or\n",
    "It can be written as AB (A concatenated with B), where A and B are valid strings, or\n",
    "It can be written as (A), where A is a valid string.\n",
    " \n",
    "\n",
    "## Example\n",
    "\n",
    "Example 1:\n",
    "\n",
    "Input: s = \"lee(t(c)o)de)\"\n",
    "Output: \"lee(t(c)o)de\"\n",
    "Explanation: \"lee(t(co)de)\" , \"lee(t(c)ode)\" would also be accepted.\n",
    "Example 2:\n",
    "\n",
    "Input: s = \"a)b(c)d\"\n",
    "Output: \"ab(c)d\"\n",
    "Example 3:\n",
    "\n",
    "Input: s = \"))((\"\n",
    "Output: \"\"\n",
    "Explanation: An empty string is also valid.\n",
    "Example 4:\n",
    "\n",
    "Input: s = \"(a(b(c)d)\"\n",
    "Output: \"a(b(c)d)\"\n",
    " "
   ]
  },
  {
   "cell_type": "markdown",
   "metadata": {},
   "source": [
    "https://www.google.com/search?sxsrf=ALeKk03Hy62idaUkqmq1kuxQZ8myUGN1oQ%3A1596116328039&ei=aM0iX4aAApCD0wTOmb2wDw&q=1249.+minimum+remove+to+make+valid+parentheses+python&oq=1249.+minimum+remove+to+make+valid+parentheses+&gs_lcp=CgZwc3ktYWIQAxgAMgIIADIGCAAQFhAeOgcIABBHELADUO0IWO0IYK0TaAFwAHgAgAFqiAFqkgEDMC4xmAEAoAEBqgEHZ3dzLXdpesABAQ&sclient=psy-ab#kpvalbx=_eM0iX5_RNIS2mAXPw7TIDA14"
   ]
  },
  {
   "cell_type": "code",
   "execution_count": null,
   "metadata": {},
   "outputs": [],
   "source": []
  }
 ],
 "metadata": {
  "kernelspec": {
   "display_name": "Python 3",
   "language": "python",
   "name": "python3"
  },
  "language_info": {
   "codemirror_mode": {
    "name": "ipython",
    "version": 3
   },
   "file_extension": ".py",
   "mimetype": "text/x-python",
   "name": "python",
   "nbconvert_exporter": "python",
   "pygments_lexer": "ipython3",
   "version": "3.7.6"
  }
 },
 "nbformat": 4,
 "nbformat_minor": 4
}
