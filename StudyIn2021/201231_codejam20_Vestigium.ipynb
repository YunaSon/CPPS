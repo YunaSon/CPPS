{
 "metadata": {
  "language_info": {
   "codemirror_mode": {
    "name": "ipython",
    "version": 3
   },
   "file_extension": ".py",
   "mimetype": "text/x-python",
   "name": "python",
   "nbconvert_exporter": "python",
   "pygments_lexer": "ipython3",
   "version": "3.7.9-final"
  },
  "orig_nbformat": 2,
  "kernelspec": {
   "name": "python3",
   "display_name": "Python 3",
   "language": "python"
  }
 },
 "nbformat": 4,
 "nbformat_minor": 2,
 "cells": [
  {
   "source": [
    "## 문제: Vestigium\n",
    "난이도: 하\n",
    "\n",
    "링크: https://codingcompetitions.withgoogle.com/codejam/round/000000000019fd27/000000000020993c"
   ],
   "cell_type": "markdown",
   "metadata": {}
  },
  {
   "cell_type": "code",
   "execution_count": 23,
   "metadata": {},
   "outputs": [
    {
     "output_type": "stream",
     "name": "stdout",
     "text": [
      "Case #1: (4, 4, 0)\n",
      "Case #2: (9, 4, 4)\n",
      "Case #3: (8, 3, 0)\n"
     ]
    }
   ],
   "source": [
    "testcase = int(input())\n",
    "\n",
    "def solution():\n",
    "    # 입력 처리\n",
    "    N = int(input())\n",
    "    matrix = []\n",
    "    for row in range(N):\n",
    "        row = list(map(int, input().split()))\n",
    "        matrix.append(row)\n",
    "    \n",
    "    r = N\n",
    "    k = 0\n",
    "    for i in matrix:\n",
    "        if i == N:\n",
    "            r -=1\n",
    "    \n",
    "    c = N\n",
    "    for i in range(N):\n",
    "        k += matrix[i][i]\n",
    "        for j in range(N):\n",
    "            if matrix[i][j] == N:\n",
    "                c -=1\n",
    "    return k, r, c\n",
    "\n",
    "\n",
    "if __name__ == \"__main__\":\n",
    "    for i in range(1, testcase+1):\n",
    "        print(\"Case #{}: {}\".format(i, solution())) "
   ]
  },
  {
   "cell_type": "code",
   "execution_count": 21,
   "metadata": {},
   "outputs": [
    {
     "output_type": "stream",
     "name": "stdout",
     "text": [
      "(1, 4, 7)\n1\n(2, 5, 8)\n2\n(3, 6, 9)\n3\n(1, 4, 7)\n4\n(2, 5, 8)\n5\n(3, 6, 9)\n6\n"
     ]
    }
   ],
   "source": [
    "sourceList = [[1, 2, 3], [4, 5, 6], [7, 8, 9]]\n",
    "\n",
    "N = 2\n",
    "for i in range(N):\n",
    "    for j in zip(*sourceList):\n",
    "        print(j)\n",
    "        print(j[i])"
   ]
  },
  {
   "cell_type": "code",
   "execution_count": null,
   "metadata": {},
   "outputs": [],
   "source": []
  }
 ]
}