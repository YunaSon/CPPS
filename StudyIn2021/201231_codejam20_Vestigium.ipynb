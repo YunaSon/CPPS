{
 "metadata": {
  "language_info": {
   "codemirror_mode": {
    "name": "ipython",
    "version": 3
   },
   "file_extension": ".py",
   "mimetype": "text/x-python",
   "name": "python",
   "nbconvert_exporter": "python",
   "pygments_lexer": "ipython3",
   "version": "3.7.9-final"
  },
  "orig_nbformat": 2,
  "kernelspec": {
   "name": "python3",
   "display_name": "Python 3",
   "language": "python"
  }
 },
 "nbformat": 4,
 "nbformat_minor": 2,
 "cells": [
  {
   "source": [
    "## 문제: Vestigium\n",
    "점수: 7/100\n",
    "\n",
    "난이도: 하\n",
    "\n",
    "링크: https://codingcompetitions.withgoogle.com/codejam/round/000000000019fd27/000000000020993c"
   ],
   "cell_type": "markdown",
   "metadata": {}
  },
  {
   "source": [
    "## 풀이1) 오답\n",
    "\n",
    "처음에 문제를 잘못 이해했다.\n",
    "\n",
    "2차원 리스트 세로 접근하는법 zip에 공부 했다. "
   ],
   "cell_type": "markdown",
   "metadata": {}
  },
  {
   "cell_type": "code",
   "execution_count": 109,
   "metadata": {},
   "outputs": [
    {
     "output_type": "stream",
     "name": "stdout",
     "text": [
      "result:  (4, 0, 4) (9, 4, 0) (8, 0, 2)\nanswer:  (4, 0, 0) (9, 4, 4) (8, 0, 2)\n"
     ]
    }
   ],
   "source": [
    "def solution(N, matrix):    \n",
    "    r = N\n",
    "    for i in matrix:\n",
    "        if N in i:\n",
    "            r -=1\n",
    "    \n",
    "    c = 0\n",
    "    for i in zip(*matrix):\n",
    "        if N in i:\n",
    "            c +=1 \n",
    "\n",
    "    k = 0\n",
    "    for i in range(N):\n",
    "        k += matrix[i][i]\n",
    "    \n",
    "    return k, r, c\n",
    "\n",
    "if __name__ == \"__main__\":\n",
    "     matrix1, N1 = [[1, 2, 3, 4], \n",
    "                   [2, 1, 4, 3], \n",
    "                   [3, 4, 1, 2], \n",
    "                   [4, 3, 2, 1]], 4\n",
    "     matrix2, N2 = [[2, 2, 2, 2], \n",
    "                    [2, 3, 2, 3], \n",
    "                    [2, 2, 2, 3], \n",
    "                    [2, 2, 2, 2]], 4\n",
    "     matrix3, N3 = [[2, 1, 3], \n",
    "                    [1, 3, 2], \n",
    "                    [1, 2, 3]], 3\n",
    "     E1 = solution(N1, matrix1)\n",
    "     E2 = solution(N2, matrix2)\n",
    "     E3 = solution(N3, matrix3)\n",
    "     A1 = 4, 0, 0\n",
    "     A2 = 9, 4, 4\n",
    "     A3 = 8, 0, 2\n",
    "     print(\"result: \", E1, E2, E3)\n",
    "     print(\"answer: \", A1, A2, A3)"
   ]
  },
  {
   "cell_type": "code",
   "execution_count": 95,
   "metadata": {},
   "outputs": [
    {
     "output_type": "stream",
     "name": "stdout",
     "text": [
      "(1, 4, 7)\n(2, 5, 8)\n(3, 6, 9)\n"
     ]
    }
   ],
   "source": [
    "sourceList = [[1, 2, 3], \n",
    "              [4, 5, 6], \n",
    "              [7, 8, 9]]\n",
    "\n",
    "N = 2\n",
    "for j in zip(*sourceList):\n",
    "    print(j)"
   ]
  },
  {
   "cell_type": "code",
   "execution_count": 96,
   "metadata": {},
   "outputs": [
    {
     "output_type": "stream",
     "name": "stdout",
     "text": [
      "4\n"
     ]
    }
   ],
   "source": [
    "matrix3, N3 = [[2, 1, 3], \n",
    "               [1, 3, 2], \n",
    "               [1, 2, 3]], 3\n",
    "matrix2, N2 = [[2, 2, 2, 2], \n",
    "               [2, 3, 2, 3], \n",
    "               [2, 2, 2, 3], \n",
    "               [2, 2, 2, 2]], 4               \n",
    "matrix1, N1 = [[1, 2, 3, 4], \n",
    "               [2, 1, 4, 3], \n",
    "               [3, 4, 1, 2], \n",
    "               [4, 3, 2, 1]], 4\n",
    "\n",
    "\n",
    "cols = []\n",
    "for i in zip(*matrix1):\n",
    "    if N1 in i:\n",
    "        cols.append(i)\n",
    "    \n",
    "c = len(cols)\n",
    "print(c)"
   ]
  },
  {
   "source": [
    "\n",
    "## 풀이2) 정답!\n",
    "\n",
    "각각의 원소가 다르다는 것은 조합을 이용해서 풀려고 했다. \n",
    "\n",
    "- n개중에 r개를 뽑는경우 : 조합\n",
    "- n개중에 r개를 뽑아 나열하는 경우의 수 : 순열\n",
    "- r개를 나열하는 경우의 수: 팩토리얼\n",
    "\n",
    "순열과 조합은 팩토리얼을 이용해 구하며, python내장 모듈 itertools에 이미 구현 되어있다. \n",
    "\n",
    "\n",
    "그런데 생각해 보니 set을 이용해도 되서 그냥 set을 이용해 풀었다. \n"
   ],
   "cell_type": "markdown",
   "metadata": {}
  },
  {
   "cell_type": "code",
   "execution_count": 106,
   "metadata": {},
   "outputs": [
    {
     "output_type": "stream",
     "name": "stdout",
     "text": [
      "조합, 3C2\n('A', 'B')\n('A', 'C')\n('B', 'C')\n==================\n순열, 3P2\n('A', 'B')\n('A', 'C')\n('B', 'A')\n('B', 'C')\n('C', 'A')\n('C', 'B')\n"
     ]
    }
   ],
   "source": [
    "import itertools\n",
    "\n",
    "combination = itertools.combinations('ABC', 2)\n",
    "print(\"조합, 3C2\")\n",
    "for c in combination:\n",
    "    print(c)\n",
    "print(\"==================\")\n",
    "print(\"순열, 3P2\")\n",
    "permutation = itertools.permutations('ABC', 2)\n",
    "for p in permutation:\n",
    "    print(p)"
   ]
  },
  {
   "cell_type": "code",
   "execution_count": 108,
   "metadata": {},
   "outputs": [
    {
     "output_type": "stream",
     "name": "stdout",
     "text": [
      "result:  (4, 0, 0) (9, 4, 4) (8, 0, 2)\nanswer:  (4, 0, 0) (9, 4, 4) (8, 0, 2)\n"
     ]
    }
   ],
   "source": [
    "def solution(N, matrix):    \n",
    "\n",
    "    rows = len(matrix)\n",
    "    r = 0\n",
    "    for i in matrix:\n",
    "        if len(set(i)) != rows:\n",
    "            r += 1\n",
    "\n",
    "    cows = len(matrix)\n",
    "    c = 0\n",
    "    for i in zip(*matrix):\n",
    "        if len(set(i)) != cows:\n",
    "            c += 1\n",
    "\n",
    "    k = 0\n",
    "    for i in range(N):\n",
    "        k += matrix[i][i]\n",
    "    \n",
    "    return k, r, c\n",
    "\n",
    "if __name__ == \"__main__\":\n",
    "     matrix1, N1 = [[1, 2, 3, 4], \n",
    "                   [2, 1, 4, 3], \n",
    "                   [3, 4, 1, 2], \n",
    "                   [4, 3, 2, 1]], 4\n",
    "     matrix2, N2 = [[2, 2, 2, 2], \n",
    "                    [2, 3, 2, 3], \n",
    "                    [2, 2, 2, 3], \n",
    "                    [2, 2, 2, 2]], 4\n",
    "     matrix3, N3 = [[2, 1, 3], \n",
    "                    [1, 3, 2], \n",
    "                    [1, 2, 3]], 3\n",
    "     E1 = solution(N1, matrix1)\n",
    "     E2 = solution(N2, matrix2)\n",
    "     E3 = solution(N3, matrix3)\n",
    "     A1 = 4, 0, 0\n",
    "     A2 = 9, 4, 4\n",
    "     A3 = 8, 0, 2\n",
    "     print(\"result: \", E1, E2, E3)\n",
    "     print(\"answer: \", A1, A2, A3)\n"
   ]
  },
  {
   "source": [
    "## 풀이3) 구글 코드잼 입출력 스타일"
   ],
   "cell_type": "markdown",
   "metadata": {}
  },
  {
   "cell_type": "code",
   "execution_count": 116,
   "metadata": {},
   "outputs": [
    {
     "output_type": "stream",
     "name": "stdout",
     "text": [
      "Case #1: 4 0 0\n",
      "Case #2: 9 4 4\n",
      "Case #3: 8 0 2\n"
     ]
    }
   ],
   "source": [
    "testcase = int(input())\n",
    "\n",
    "def solution():\n",
    "    # 입력 처리\n",
    "    N = int(input())\n",
    "\n",
    "    # matrix로 만듦\n",
    "    matrix = []\n",
    "    for row in range(N):\n",
    "        row = list(map(int, input().split()))\n",
    "        matrix.append(row)\n",
    "    \n",
    "    rows = len(matrix)\n",
    "    r = 0\n",
    "    for i in matrix:\n",
    "        if len(set(i)) != rows:\n",
    "            r += 1\n",
    "    \n",
    "    cows = len(matrix)\n",
    "    c = 0\n",
    "    for i in zip(*matrix):\n",
    "        if len(set(i)) != cows:\n",
    "            c += 1\n",
    "    \n",
    "    k = 0\n",
    "    for i in range(N):\n",
    "        k += matrix[i][i]\n",
    "    \n",
    "    return k, r, c \n",
    "\n",
    "\n",
    "if __name__ == \"__main__\":\n",
    "    for i in range(1, testcase+1):\n",
    "        k, r, c = solution()\n",
    "        print(\"Case #{}: {} {} {}\".format(i, k, r, c)) "
   ]
  },
  {
   "source": [
    "#구글 코드잼 입력 예제\n",
    "'''\n",
    "3\n",
    "4\n",
    "1 2 3 4\n",
    "2 1 4 3\n",
    "3 4 1 2\n",
    "4 3 2 1\n",
    "4\n",
    "2 2 2 2\n",
    "2 3 2 3\n",
    "2 2 2 3\n",
    "2 2 2 2\n",
    "3\n",
    "2 1 3\n",
    "1 3 2\n",
    "1 2 3\n",
    "'''\n",
    "print()"
   ],
   "cell_type": "code",
   "metadata": {},
   "execution_count": 110,
   "outputs": [
    {
     "output_type": "stream",
     "name": "stdout",
     "text": [
      "\n"
     ]
    }
   ]
  },
  {
   "cell_type": "code",
   "execution_count": null,
   "metadata": {},
   "outputs": [],
   "source": []
  }
 ]
}