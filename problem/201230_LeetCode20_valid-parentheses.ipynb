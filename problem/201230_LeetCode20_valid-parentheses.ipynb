{
 "cells": [
  {
   "cell_type": "markdown",
   "metadata": {},
   "source": [
    "# 문제20 Valid-Parentheses\n",
    "\n",
    "난이도: Easy\n",
    "\n",
    "링크: https://leetcode.com/problems/valid-parentheses/"
   ]
  },
  {
   "cell_type": "markdown",
   "metadata": {},
   "source": [
    "### 풀이1)\n",
    "\n",
    "처음에는 각 괄호의 모양과 갯수를 키와 밸류로 하는 딕셔너리를 이용해 풀려고 했다. \n",
    "\n",
    "그러나 문제를 자세히 보면, 괄호가 닫히는 순서 역시 중요하다. (E4번)\n",
    "\n",
    "따라서 아래 풀이는 Wrong Answer가 나온다. \n",
    "\n",
    "<font color='red'>for문과 while문, 조건문 처리를 잘 해주자!</font>\n",
    "\n",
    "<font color='red'>딕셔너리의 get()메소드</font>"
   ]
  },
  {
   "cell_type": "code",
   "execution_count": 43,
   "metadata": {},
   "outputs": [
    {
     "name": "stdout",
     "output_type": "stream",
     "text": [
      "Output   : True True False True True\n",
      "Answer   : True True False False True\n"
     ]
    },
    {
     "data": {
      "text/plain": [
       "True"
      ]
     },
     "execution_count": 43,
     "metadata": {},
     "output_type": "execute_result"
    }
   ],
   "source": [
    "class Solution:\n",
    "    def isValid(self, s: str) -> bool:\n",
    "        parentheses = {}\n",
    "        left = [\"(\", \"{\", \"[\"]\n",
    "        right = [\")\", \"}\", \"]\"]\n",
    "        \n",
    "        for i in s:\n",
    "            if i not in parentheses.keys():  \n",
    "                parentheses[i] = 1\n",
    "            else:\n",
    "                parentheses[i] += 1\n",
    "       #{\"{\":1, \"[\":1, \"]\":1, \"}\":1}\n",
    " \n",
    "        \n",
    "        for i,j in enumerate(left):\n",
    "            #left의 괄호가 keys에 있는 경우\n",
    "            if j in parentheses.keys():\n",
    "                if parentheses.get(right[i]) is None:\n",
    "                     return False\n",
    "                elif parentheses[left[i]] == parentheses[right[i]]:\n",
    "                    return True\n",
    "            #left의 괄호가 keys에 없는 경우\n",
    "            else:\n",
    "                if parentheses.get(right[i]) is None:\n",
    "                     return True                \n",
    "                else:\n",
    "                    return False\n",
    "            \n",
    "if __name__ == \"__main__\":\n",
    "    E1 = Solution().isValid(\"()\")\n",
    "    E2 = Solution().isValid(\"()[]{}\")\n",
    "    E3 = Solution().isValid(\"(]\")\n",
    "    E4 = Solution().isValid(\"([)]\")\n",
    "    E5 = Solution().isValid(\"{[]}\")\n",
    "    print(\"Output   :\", E1, E2, E3, E4, E5)\n",
    "    print(\"Answer   :\", True, True, False, False, True)\n",
    "\n",
    "Solution().isValid(\"{[]}\")"
   ]
  },
  {
   "cell_type": "code",
   "execution_count": 44,
   "metadata": {},
   "outputs": [
    {
     "data": {
      "text/plain": [
       "False"
      ]
     },
     "execution_count": 44,
     "metadata": {},
     "output_type": "execute_result"
    }
   ],
   "source": [
    "# for문은 if문과 상관없이 계속 동작된다. 원소를 다 방문할때까지 작동!\n",
    "\n",
    "def isValid():\n",
    "    a = 0\n",
    "    for i in [1,2,3,4,5,6,7]:\n",
    "        if i == 4:\n",
    "            a = True\n",
    "        else:\n",
    "            a = False \n",
    "    return a\n",
    "\n",
    "isValid()"
   ]
  },
  {
   "cell_type": "code",
   "execution_count": 48,
   "metadata": {},
   "outputs": [
    {
     "name": "stdout",
     "output_type": "stream",
     "text": [
      "3\n",
      "None\n"
     ]
    }
   ],
   "source": [
    "#dictionary의 get()메소드\n",
    "\n",
    "mydict={\"a\":3, \"b\":88,\"c\":9}\n",
    "\n",
    "print(mydict.get(\"a\"))\n",
    "print(mydict.get('d'))"
   ]
  },
  {
   "cell_type": "markdown",
   "metadata": {},
   "source": [
    "## 풀이2)\n",
    "while문"
   ]
  },
  {
   "cell_type": "code",
   "execution_count": 45,
   "metadata": {},
   "outputs": [
    {
     "name": "stdout",
     "output_type": "stream",
     "text": [
      "Output   : True True False True True\n",
      "Answer   : True True False False True\n"
     ]
    }
   ],
   "source": [
    "class Solution:\n",
    "    def isValid(self, s: str) -> bool:\n",
    "        parentheses = {}\n",
    "        left = [\"(\", \"{\", \"[\"]\n",
    "        right = [\")\", \"}\", \"]\"]\n",
    "        \n",
    "        for i in s:\n",
    "            if i not in parentheses.keys():  \n",
    "                parentheses[i] = 1\n",
    "            else:\n",
    "                parentheses[i] += 1\n",
    "        #{\"{\":1, \"[\":1, \"]\":1, \"}\":1}\n",
    " \n",
    "        cnt = 0\n",
    "        while cnt != 2:\n",
    "            if parentheses.get(left[cnt]):\n",
    "                if parentheses.get(right[cnt]) is None:\n",
    "                    return False\n",
    "                    break\n",
    "                elif parentheses[left[cnt]] == parentheses[right[cnt]]:\n",
    "                    return True\n",
    "                    break\n",
    "                else:\n",
    "                    return False\n",
    "                    break\n",
    "            cnt += 1\n",
    "        \n",
    "        return False\n",
    "            \n",
    "\n",
    "if __name__ == \"__main__\":\n",
    "    E1 = Solution().isValid(\"()\")\n",
    "    E2 = Solution().isValid(\"()[]{}\")\n",
    "    E3 = Solution().isValid(\"(]\")\n",
    "    E4 = Solution().isValid(\"([)]\")\n",
    "    E5 = Solution().isValid(\"{[]}\")\n",
    "    print(\"Output   :\", E1, E2, E3, E4, E5)\n",
    "    print(\"Answer   :\", True, True, False, False, True)"
   ]
  },
  {
   "cell_type": "markdown",
   "metadata": {},
   "source": [
    "### 풀이3)\n",
    "괄호의 쌍과 순서 2가지를 다 판별해야 하므로 Stack을 이용한다. \n",
    "\n",
    "Stack과 Dictionary"
   ]
  },
  {
   "cell_type": "code",
   "execution_count": 51,
   "metadata": {},
   "outputs": [
    {
     "name": "stdout",
     "output_type": "stream",
     "text": [
      "Output   : True True False False True\n",
      "Answer   : True True False False True\n"
     ]
    }
   ],
   "source": [
    "class Solution:\n",
    "    def isValid(self, s: str) -> bool:\n",
    "        pair = {\n",
    "            \"(\":\")\",\n",
    "            \"{\":\"}\",\n",
    "            \"[\":\"]\",\n",
    "            }\n",
    "        stack = []\n",
    "        idx = 0\n",
    "        \n",
    "        while idx < len(s): \n",
    "            parenthese = s[idx] \n",
    "            \n",
    "            # 왼쪽괄호들이면 Stack에 집어 넣고\n",
    "            if parenthese in pair.keys(): \n",
    "                stack.append(parenthese)\n",
    "\n",
    "            # 왼쪽괄호에 없으면  \n",
    "            else: \n",
    "                # 0번이 왼쪽괄호가 없다는건 False, 0번 이후부터 왼쪽괄호가 없다는거 역시 False..\n",
    "                if stack == []:\n",
    "                    return False\n",
    "                # 바로 전 idx와 괄호를 비교해 본다. \n",
    "                else:\n",
    "                    top = stack.pop() \n",
    "                    if parenthese != pair[top]:\n",
    "                        return False\n",
    "            idx += 1\n",
    "            \n",
    "    \n",
    "        #while문의 값들을 잘 비교했다는 것은 stack이 비어있다는 뜻!  \n",
    "        if stack == []:\n",
    "            return True\n",
    "        \n",
    "if __name__ == \"__main__\":\n",
    "    E1 = Solution().isValid(\"()\")\n",
    "    E2 = Solution().isValid(\"()[]{}\")\n",
    "    E3 = Solution().isValid(\"(]\")\n",
    "    E4 = Solution().isValid(\"([)]\")\n",
    "    E5 = Solution().isValid(\"{[]}\")\n",
    "    print(\"Output   :\", E1, E2, E3, E4, E5)\n",
    "    print(\"Answer   :\", True, True, False, False, True)"
   ]
  },
  {
   "cell_type": "markdown",
   "metadata": {},
   "source": [
    "### 풀이4) 정답풀이\n"
   ]
  },
  {
   "cell_type": "code",
   "execution_count": 54,
   "metadata": {},
   "outputs": [],
   "source": [
    "class Solution(object):\n",
    "    def isValid(self, s):\n",
    "        \"\"\"\n",
    "        :type s: str\n",
    "        :rtype: bool\n",
    "        \"\"\"\n",
    "\n",
    "        # The stack to keep track of opening brackets.\n",
    "        stack = []\n",
    "\n",
    "        # Hash map for keeping track of mappings. This keeps the code very clean.\n",
    "        # Also makes adding more types of parenthesis easier\n",
    "        mapping = {\")\": \"(\", \"}\": \"{\", \"]\": \"[\"}\n",
    "\n",
    "        # For every bracket in the expression.\n",
    "        for char in s:\n",
    "\n",
    "            # If the character is an closing bracket\n",
    "            if char in mapping:\n",
    "\n",
    "                # Pop the topmost element from the stack, if it is non empty\n",
    "                # Otherwise assign a dummy value of '#' to the top_element variable\n",
    "                top_element = stack.pop() if stack else '#'\n",
    "\n",
    "                # The mapping for the opening bracket in our hash and the top\n",
    "                # element of the stack don't match, return False\n",
    "                if mapping[char] != top_element:\n",
    "                    return False\n",
    "            else:\n",
    "                # We have an opening bracket, simply push it onto the stack.\n",
    "                stack.append(char)\n",
    "\n",
    "        # In the end, if the stack is empty, then we have a valid expression.\n",
    "        # The stack won't be empty for cases like ((()\n",
    "        return not stack"
   ]
  },
  {
   "cell_type": "code",
   "execution_count": 57,
   "metadata": {},
   "outputs": [
    {
     "name": "stdout",
     "output_type": "stream",
     "text": [
      "\n"
     ]
    }
   ],
   "source": [
    "'''\n",
    "class Solution {\n",
    "\n",
    "  // Hash table that takes care of the mappings.\n",
    "  private HashMap<Character, Character> mappings;\n",
    "\n",
    "  // Initialize hash map with mappings. This simply makes the code easier to read.\n",
    "  public Solution() {\n",
    "    this.mappings = new HashMap<Character, Character>();\n",
    "    this.mappings.put(')', '(');\n",
    "    this.mappings.put('}', '{');\n",
    "    this.mappings.put(']', '[');\n",
    "  }\n",
    "\n",
    "  public boolean isValid(String s) {\n",
    "\n",
    "    // Initialize a stack to be used in the algorithm.\n",
    "    Stack<Character> stack = new Stack<Character>();\n",
    "\n",
    "    for (int i = 0; i < s.length(); i++) {\n",
    "      char c = s.charAt(i);\n",
    "\n",
    "      // If the current character is a closing bracket.\n",
    "      if (this.mappings.containsKey(c)) {\n",
    "\n",
    "        // Get the top element of the stack. If the stack is empty, set a dummy value of '#'\n",
    "        char topElement = stack.empty() ? '#' : stack.pop();\n",
    "\n",
    "        // If the mapping for this bracket doesn't match the stack's top element, return false.\n",
    "        if (topElement != this.mappings.get(c)) {\n",
    "          return false;\n",
    "        }\n",
    "      } else {\n",
    "        // If it was an opening bracket, push to the stack.\n",
    "        stack.push(c);\n",
    "      }\n",
    "    }\n",
    "\n",
    "    // If the stack still contains elements, then it is an invalid expression.\n",
    "    return stack.isEmpty();\n",
    "  }\n",
    "}\n",
    "'''\n",
    "print()"
   ]
  },
  {
   "cell_type": "code",
   "execution_count": null,
   "metadata": {},
   "outputs": [],
   "source": []
  },
  {
   "cell_type": "code",
   "execution_count": null,
   "metadata": {},
   "outputs": [],
   "source": []
  }
 ],
 "metadata": {
  "kernelspec": {
   "display_name": "Python 3",
   "language": "python",
   "name": "python3"
  },
  "language_info": {
   "codemirror_mode": {
    "name": "ipython",
    "version": 3
   },
   "file_extension": ".py",
   "mimetype": "text/x-python",
   "name": "python",
   "nbconvert_exporter": "python",
   "pygments_lexer": "ipython3",
   "version": "3.7.6"
  }
 },
 "nbformat": 4,
 "nbformat_minor": 4
}
