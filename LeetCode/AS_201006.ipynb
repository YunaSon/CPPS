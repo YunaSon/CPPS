{
 "metadata": {
  "language_info": {
   "codemirror_mode": {
    "name": "ipython",
    "version": 3
   },
   "file_extension": ".py",
   "mimetype": "text/x-python",
   "name": "python",
   "nbconvert_exporter": "python",
   "pygments_lexer": "ipython3",
   "version": 3
  },
  "orig_nbformat": 2
 },
 "nbformat": 4,
 "nbformat_minor": 2,
 "cells": [
  {
   "source": [
    "## 문제 list\n",
    "https://leetcode.com/list/5ekjpl1e/"
   ],
   "cell_type": "markdown",
   "metadata": {}
  },
  {
   "source": [
    "### 515 Find Largest Value in Each Tree Row\n",
    "https://leetcode.com/problems/find-largest-value-in-each-tree-row/"
   ],
   "cell_type": "markdown",
   "metadata": {}
  },
  {
   "cell_type": "code",
   "execution_count": null,
   "metadata": {},
   "outputs": [],
   "source": []
  },
  {
   "source": [
    "### 542 matrix\n",
    "https://leetcode.com/problems/01-matrix/"
   ],
   "cell_type": "markdown",
   "metadata": {}
  },
  {
   "source": [
    "### 690 Employee Importance\n",
    "https://leetcode.com/problems/employee-importance/"
   ],
   "cell_type": "markdown",
   "metadata": {}
  },
  {
   "cell_type": "code",
   "execution_count": null,
   "metadata": {},
   "outputs": [],
   "source": []
  }
 ]
}