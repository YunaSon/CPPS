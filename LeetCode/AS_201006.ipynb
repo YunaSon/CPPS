{
 "metadata": {
  "language_info": {
   "codemirror_mode": {
    "name": "ipython",
    "version": 3
   },
   "file_extension": ".py",
   "mimetype": "text/x-python",
   "name": "python",
   "nbconvert_exporter": "python",
   "pygments_lexer": "ipython3",
   "version": "3.7.9-final"
  },
  "orig_nbformat": 2,
  "kernelspec": {
   "name": "Python 3.7.9 64-bit",
   "display_name": "Python 3.7.9 64-bit",
   "metadata": {
    "interpreter": {
     "hash": "aee8b7b246df8f9039afb4144a1f6fd8d2ca17a180786b69acc140d282b71a49"
    }
   }
  }
 },
 "nbformat": 4,
 "nbformat_minor": 2,
 "cells": [
  {
   "source": [
    "## 문제 list\n",
    "https://leetcode.com/list/5ekjpl1e/"
   ],
   "cell_type": "markdown",
   "metadata": {}
  },
  {
   "source": [
    "### 515 Find Largest Value in Each Tree Row\n",
    "https://leetcode.com/problems/find-largest-value-in-each-tree-row/"
   ],
   "cell_type": "markdown",
   "metadata": {}
  },
  {
   "cell_type": "code",
   "execution_count": 2,
   "metadata": {},
   "outputs": [],
   "source": [
    "class Solution:\n",
    "    def largestValues(self, root):\n",
    "        #1, 3, 9\n",
    "        #each row, each largest\n",
    "        #BFS\n",
    "        result = []\n",
    "        if not root:\n",
    "            return result\n",
    "        q = [root]\n",
    "        while q:\n",
    "            #각 row의 max값을 result리스트에 append한다. \n",
    "            result.append(max(node.val for node in q))\n",
    "            # q = next level\n",
    "            next_level_q = []\n",
    "            for node in q:\n",
    "                for child in (node.left, node.right):\n",
    "                    if child:\n",
    "                        next_level_q.append(child)\n",
    "                        \n",
    "            q = next_level_q\n",
    "        return result"
   ]
  },
  {
   "source": [
    "### 542 matrix\n",
    "https://leetcode.com/problems/01-matrix/"
   ],
   "cell_type": "markdown",
   "metadata": {}
  },
  {
   "source": [
    "### 690 Employee Importance\n",
    "https://leetcode.com/problems/employee-importance/"
   ],
   "cell_type": "markdown",
   "metadata": {}
  },
  {
   "cell_type": "code",
   "execution_count": 3,
   "metadata": {},
   "outputs": [],
   "source": [
    "\"\"\"\n",
    "# Definition for Employee.\n",
    "class Employee:\n",
    "    def __init__(self, id: int, importance: int, subordinates: List[int]):\n",
    "        self.id = id\n",
    "        self.importance = importance\n",
    "        self.subordinates = subordinates\n",
    "\"\"\"\n",
    "\n",
    "\n",
    "#BFS\n",
    "class Solution:\n",
    "    def getImportance(self, employees, id):\n",
    "        emps = {employee.id: employee for employee in employees}\n",
    "        stack = [(emps[id])]\n",
    "        result = 0\n",
    "        while stack:\n",
    "            e = stack.pop(0)\n",
    "            result+=e.importance\n",
    "            if e.subordinates:\n",
    "                for i in e.subordinates:\n",
    "                    stack.append((emps[i]))\n",
    "        return result"
   ]
  },
  {
   "cell_type": "code",
   "execution_count": null,
   "metadata": {},
   "outputs": [],
   "source": []
  }
 ]
}