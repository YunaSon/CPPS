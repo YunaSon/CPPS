{
 "cells": [
  {
   "cell_type": "markdown",
   "metadata": {},
   "source": [
    "## 127. Word Ladder"
   ]
  },
  {
   "cell_type": "code",
   "execution_count": 33,
   "metadata": {},
   "outputs": [],
   "source": [
    "## 127. Word Ladder\n",
    "\n",
    "beginWord = \"hit\",\n",
    "endWord = \"cog\",\n",
    "wordList = [\"hot\",\"dot\",\"dog\",\"lot\",\"log\",\"cog\"]\n",
    "\n",
    "'''\n",
    "Explanation: \n",
    "As one shortest transformation is \"hit\" -> \"hot\" -> \"dot\" -> \"dog\" -> \"cog\"\n",
    "return its length 5.\n",
    "'''\n",
    "\n",
    "output = 5"
   ]
  },
  {
   "cell_type": "code",
   "execution_count": 45,
   "metadata": {},
   "outputs": [],
   "source": [
    "class Solution:\n",
    "    def ladderLength(self, beginWord, endWord, wordList):\n",
    "        \n",
    "        # 글자가 없는 경우\n",
    "        if endWord not in wordList:\n",
    "            return 0\n",
    "        \n",
    "        #list인자를 넣어 key-value에 value를 리스트들로 넣어 줍니다.\n",
    "        mapping = defaultdict(list)  \n",
    "        \n",
    "        #h*t, *ot, ho*... 모든 wordList에 대하여 만들어 준다. \n",
    "        for word in wordList:\n",
    "            for i in range(len(word)):\n",
    "                mid = word[:i] + '*' + word[i+1:]\n",
    "                mapping[mid].append(word)\n",
    "        \n",
    "        \n",
    "        #뭔가..queue를 써야 할것 같은데...?\n",
    "        "
   ]
  },
  {
   "cell_type": "code",
   "execution_count": 10,
   "metadata": {},
   "outputs": [],
   "source": [
    "from collections import defaultdict\n",
    "a = defaultdict()"
   ]
  },
  {
   "cell_type": "code",
   "execution_count": 24,
   "metadata": {},
   "outputs": [
    {
     "name": "stdout",
     "output_type": "stream",
     "text": [
      "*ot\n",
      "h*t\n",
      "ho*\n",
      "*ot\n",
      "d*t\n",
      "do*\n",
      "*og\n",
      "d*g\n",
      "do*\n",
      "*ot\n",
      "l*t\n",
      "lo*\n",
      "*og\n",
      "l*g\n",
      "lo*\n",
      "*og\n",
      "c*g\n",
      "co*\n"
     ]
    }
   ],
   "source": [
    "wordList = [\"hot\",\"dot\",\"dog\",\"lot\",\"log\",\"cog\"]\n",
    "\n",
    "mapping = defaultdict(list)\n",
    "for word in wordList:\n",
    "    for i in range(len(word)):\n",
    "        mid = word[:i] + '*' + word[i+1:]\n",
    "        print(mid)"
   ]
  },
  {
   "cell_type": "code",
   "execution_count": 22,
   "metadata": {},
   "outputs": [
    {
     "data": {
      "text/plain": [
       "defaultdict(list, {})"
      ]
     },
     "execution_count": 22,
     "metadata": {},
     "output_type": "execute_result"
    }
   ],
   "source": [
    "mapping"
   ]
  },
  {
   "cell_type": "code",
   "execution_count": 25,
   "metadata": {},
   "outputs": [],
   "source": [
    "for word in wordList:\n",
    "    for i in range(len(word)):\n",
    "        mid = word[:i] + '*' + word[i+1:]\n",
    "        mapping[mid].append(word)"
   ]
  },
  {
   "cell_type": "code",
   "execution_count": 26,
   "metadata": {},
   "outputs": [
    {
     "data": {
      "text/plain": [
       "defaultdict(list,\n",
       "            {'*ot': ['hot', 'dot', 'lot'],\n",
       "             'h*t': ['hot'],\n",
       "             'ho*': ['hot'],\n",
       "             'd*t': ['dot'],\n",
       "             'do*': ['dot', 'dog'],\n",
       "             '*og': ['dog', 'log', 'cog'],\n",
       "             'd*g': ['dog'],\n",
       "             'l*t': ['lot'],\n",
       "             'lo*': ['lot', 'log'],\n",
       "             'l*g': ['log'],\n",
       "             'c*g': ['cog'],\n",
       "             'co*': ['cog']})"
      ]
     },
     "execution_count": 26,
     "metadata": {},
     "output_type": "execute_result"
    }
   ],
   "source": [
    "mapping"
   ]
  },
  {
   "cell_type": "code",
   "execution_count": 34,
   "metadata": {},
   "outputs": [],
   "source": [
    "queue = deque()\n",
    "seen = set()\n",
    "queue.append([beginWord, 1])\n",
    "seen.add(beginWord)\n",
    "\n",
    "#while queue:\n",
    "    "
   ]
  },
  {
   "cell_type": "code",
   "execution_count": 31,
   "metadata": {},
   "outputs": [
    {
     "data": {
      "text/plain": [
       "deque([[('hit',), 1]])"
      ]
     },
     "execution_count": 31,
     "metadata": {},
     "output_type": "execute_result"
    }
   ],
   "source": [
    "queue"
   ]
  },
  {
   "cell_type": "code",
   "execution_count": 32,
   "metadata": {},
   "outputs": [
    {
     "data": {
      "text/plain": [
       "{('hit',)}"
      ]
     },
     "execution_count": 32,
     "metadata": {},
     "output_type": "execute_result"
    }
   ],
   "source": [
    "seen"
   ]
  },
  {
   "cell_type": "markdown",
   "metadata": {},
   "source": [
    "## 733. Flood Fill"
   ]
  },
  {
   "cell_type": "code",
   "execution_count": 36,
   "metadata": {},
   "outputs": [],
   "source": [
    "image = [[1,1,1],[1,1,0],[1,0,1]]\n",
    "sr = 1, \n",
    "sc = 1, \n",
    "newColor = 2\n",
    "'''\n",
    "Explanation: \n",
    "From the center of the image (with position (sr, sc) = (1, 1)), all pixels connected \n",
    "by a path of the same color as the starting pixel are colored with the new color.\n",
    "Note the bottom corner is not colored 2, because it is not 4-directionally connected\n",
    "to the starting pixel.\n",
    "'''\n",
    "Output= [[2,2,2],[2,2,0],[2,0,1]]"
   ]
  },
  {
   "cell_type": "code",
   "execution_count": 41,
   "metadata": {},
   "outputs": [],
   "source": [
    "from collections import deque\n",
    "class Solution:\n",
    "    def floodFill(self, image, sr, sc, newColor):\n",
    "        \n",
    "        oldColor = image[sr][sc]\n",
    "        if newColor == oldColor:\n",
    "            return image\n",
    "        \n",
    "        \n",
    "        rr, cc = len(image), len(image[0])\n",
    "        q = deque([(sr, sc)])\n",
    "        while q:\n",
    "            r, c = q.popleft()\n",
    "            image[r][c] = newColor\n",
    "            for dr, dc in [(1, 0), (0, 1), (-1, 0), (0, -1)]: # 동서남북 방향 추가.\n",
    "                nr, nc = r + dr, c + dc\n",
    "                if 0<=nr<rr and 0<=nc<cc and image[nr][nc] == oldColor: #0이 아닌 경우에 대해서 \n",
    "                    q.append((nr, nc))\n",
    "        \n",
    "        return image        "
   ]
  },
  {
   "cell_type": "code",
   "execution_count": 42,
   "metadata": {},
   "outputs": [
    {
     "data": {
      "text/plain": [
       "deque([((1,), (1,))])"
      ]
     },
     "execution_count": 42,
     "metadata": {},
     "output_type": "execute_result"
    }
   ],
   "source": [
    "rr, cc = len(image), len(image[0])\n",
    "q = deque([(sr, sc)])\n",
    "q"
   ]
  },
  {
   "cell_type": "code",
   "execution_count": 43,
   "metadata": {},
   "outputs": [
    {
     "data": {
      "text/plain": [
       "((1,), (1,))"
      ]
     },
     "execution_count": 43,
     "metadata": {},
     "output_type": "execute_result"
    }
   ],
   "source": [
    "q.popleft()"
   ]
  },
  {
   "cell_type": "code",
   "execution_count": 44,
   "metadata": {},
   "outputs": [
    {
     "data": {
      "text/plain": [
       "deque([])"
      ]
     },
     "execution_count": 44,
     "metadata": {},
     "output_type": "execute_result"
    }
   ],
   "source": [
    "queue"
   ]
  },
  {
   "cell_type": "markdown",
   "metadata": {},
   "source": [
    "## 1396. Design Underground System\n",
    "\n",
    "- CheckIn(customer id, stationName, time)\n",
    "- CheckOut(customer id, stationName, time)\n",
    "- getAVGTime(StartSta, EndSta)\n",
    "\n",
    "\n",
    "1. customer의 check in, check out... traking\n",
    "2. startSta, EndSta사이 고객별 평균 시간..."
   ]
  },
  {
   "cell_type": "code",
   "execution_count": 52,
   "metadata": {},
   "outputs": [],
   "source": [
    "class UndergroundSystem:\n",
    "\n",
    "    def __init__(self):\n",
    "        pass\n",
    "        \n",
    "    def checkIn(self, id, stationName, t) -> None:\n",
    "        pass\n",
    "\n",
    "    def checkOut(self, id, stationName, t) -> None:\n",
    "        pass\n",
    "\n",
    "    def getAverageTime(self, startStation, endStation) -> float:\n",
    "        pass"
   ]
  },
  {
   "cell_type": "code",
   "execution_count": 51,
   "metadata": {},
   "outputs": [],
   "source": [
    "class UndergroundSystem:\n",
    "\n",
    "    def __init__(self):\n",
    "        self.log = {} #{id: (staionName, time)}\n",
    "        self.between = {}\n",
    "        \n",
    "    def checkIn(self, id, stationName, t) -> None:\n",
    "        pass\n",
    "\n",
    "    def checkOut(self, id, stationName, t) -> None:\n",
    "        pass\n",
    "\n",
    "    def getAverageTime(self, startStation, endStation) -> float:\n",
    "        return float(sum(self.between[(startStation, endStation)]))/len(self.between[(startStation, endStation)])"
   ]
  },
  {
   "cell_type": "code",
   "execution_count": 54,
   "metadata": {},
   "outputs": [],
   "source": [
    "#log\n",
    "##(1, A, 3) -> {1:(A, 3)}\n",
    "##(2, A, 5) -> {2:(A, 5)}\n",
    "##(1, B, 10) -> {1: (B, 10)}\n",
    "##(2, B, 30) -> {2: (B, 30)}"
   ]
  },
  {
   "cell_type": "code",
   "execution_count": 57,
   "metadata": {},
   "outputs": [
    {
     "data": {
      "text/plain": [
       "'A'"
      ]
     },
     "execution_count": 57,
     "metadata": {},
     "output_type": "execute_result"
    }
   ],
   "source": [
    "log = {1:('A', 3)}"
   ]
  },
  {
   "cell_type": "code",
   "execution_count": 60,
   "metadata": {},
   "outputs": [
    {
     "data": {
      "text/plain": [
       "{('B', 'A'): []}"
      ]
     },
     "execution_count": 60,
     "metadata": {},
     "output_type": "execute_result"
    }
   ],
   "source": [
    "between = {}\n",
    "between[('B','A')] = []\n",
    "between"
   ]
  },
  {
   "cell_type": "code",
   "execution_count": 61,
   "metadata": {},
   "outputs": [],
   "source": [
    "class UndergroundSystem:\n",
    "\n",
    "    def __init__(self):\n",
    "        self.log = {} #{id: (staionName, time)}\n",
    "        self.between = {}\n",
    "        \n",
    "    def checkIn(self, id, stationName, t) -> None:\n",
    "        if id not in self.log:\n",
    "            self.log[id] = (stationName, t)\n",
    "        else:\n",
    "            self.log[id] = (stationName, t)\n",
    "\n",
    "    # checkout은 어떻게 판별할까? 바로 log dictionary에 기록이 있으면 체크아웃이다!\n",
    "    def checkOut(self, id, stationName, t) -> None:\n",
    "        if (self.log[id][0], stationName) not in self.between:\n",
    "            self.between[(self.log[id][0], stationName)] = []\n",
    "            self.between[(self.log[id][0], stationName)].append(t - self.log[id][1])\n",
    "        else:\n",
    "            self.between[(self.log[id][0], stationName)].append(t - self.log[id][1])\n",
    "        \n",
    "        del self.log[id]\n",
    "\n",
    "    def getAverageTime(self, startStation, endStation) -> float:\n",
    "        return float(sum(self.between[(startStation, endStation)]))/len(self.between[(startStation, endStation)])"
   ]
  },
  {
   "cell_type": "code",
   "execution_count": null,
   "metadata": {},
   "outputs": [],
   "source": [
    "between = {}\n",
    "between[('B','A')] = []\n",
    "between"
   ]
  }
 ],
 "metadata": {
  "kernelspec": {
   "display_name": "Python 3",
   "language": "python",
   "name": "python3"
  },
  "language_info": {
   "codemirror_mode": {
    "name": "ipython",
    "version": 3
   },
   "file_extension": ".py",
   "mimetype": "text/x-python",
   "name": "python",
   "nbconvert_exporter": "python",
   "pygments_lexer": "ipython3",
   "version": "3.7.6"
  }
 },
 "nbformat": 4,
 "nbformat_minor": 4
}
