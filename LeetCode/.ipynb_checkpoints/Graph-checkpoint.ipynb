{
 "cells": [
  {
   "cell_type": "markdown",
   "metadata": {},
   "source": [
    "## Path Sum"
   ]
  },
  {
   "cell_type": "markdown",
   "metadata": {},
   "source": [
    "https://youtu.be/MwLDG-WNOjM"
   ]
  },
  {
   "cell_type": "code",
   "execution_count": 5,
   "metadata": {},
   "outputs": [],
   "source": [
    "class Solution:\n",
    "    def pathSum(self, root, sum):\n",
    "        result = []\n",
    "        path = []\n",
    "        pathofsum = 0\n",
    "        self.dfs(root, pathofsum, sum, path, result)\n",
    "        return result\n",
    "        \n",
    "    def dfs(self, root, pathofsum, sum, path, result):\n",
    "        if root is None:\n",
    "            return None\n",
    "        pathofsum += root.val\n",
    "        if root.left is None and root.right is None and pathofsum == sum:\n",
    "            result.append([*path, root.val])\n",
    "            return None\n",
    "        path.append(root.val)\n",
    "        self.dfs(root.left, pathofsum, sum, path, result)\n",
    "        self.dfs(root.right, pathofsum, sum, path, result)\n",
    "        pathofsum = pathofsum - root.val\n",
    "        path.pop()"
   ]
  },
  {
   "cell_type": "code",
   "execution_count": null,
   "metadata": {},
   "outputs": [],
   "source": []
  }
 ],
 "metadata": {
  "kernelspec": {
   "display_name": "Python 3",
   "language": "python",
   "name": "python3"
  },
  "language_info": {
   "codemirror_mode": {
    "name": "ipython",
    "version": 3
   },
   "file_extension": ".py",
   "mimetype": "text/x-python",
   "name": "python",
   "nbconvert_exporter": "python",
   "pygments_lexer": "ipython3",
   "version": "3.7.6"
  }
 },
 "nbformat": 4,
 "nbformat_minor": 4
}
