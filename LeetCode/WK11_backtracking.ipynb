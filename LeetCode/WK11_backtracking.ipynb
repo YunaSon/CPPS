{
 "metadata": {
  "language_info": {
   "codemirror_mode": {
    "name": "ipython",
    "version": 3
   },
   "file_extension": ".py",
   "mimetype": "text/x-python",
   "name": "python",
   "nbconvert_exporter": "python",
   "pygments_lexer": "ipython3",
   "version": "3.7.9-final"
  },
  "orig_nbformat": 2,
  "kernelspec": {
   "name": "Python 3.7.9 64-bit",
   "display_name": "Python 3.7.9 64-bit",
   "metadata": {
    "interpreter": {
     "hash": "aee8b7b246df8f9039afb4144a1f6fd8d2ca17a180786b69acc140d282b71a49"
    }
   }
  }
 },
 "nbformat": 4,
 "nbformat_minor": 2,
 "cells": [
  {
   "source": [
    "## 37. Sudoku Solver\n",
    "\n",
    "https://leetcode.com/problems/sudoku-solver/"
   ],
   "cell_type": "markdown",
   "metadata": {}
  },
  {
   "source": [
    "### Approach\n",
    "\n",
    "- 빈 셀에 가능한 숫자를 적는다. \n",
    "- 만약 숫자가 틀리면 다시 되돌아 간다. (backtrack)\n",
    "    - isValid(수도쿠가 유효한지 판별)\n",
    "- 적당한 값이 나올때 까지 숫자를 지운다. "
   ],
   "cell_type": "markdown",
   "metadata": {}
  },
  {
   "cell_type": "code",
   "execution_count": 16,
   "metadata": {},
   "outputs": [],
   "source": [
    "def findNextCellToFill(grid):\n",
    "    for x in range(0, 9):\n",
    "        for y in range(0, 9):\n",
    "            if grid[x][y] == 0:\n",
    "                return x, y\n",
    "    return -1, -1\n",
    "\n",
    "\n",
    "def isValid(grid, i, j, e):\n",
    "    row = all([e != grid[i][x] for x in range(9)])\n",
    "    if row:\n",
    "        col = all([e != grid[x][j] for x in range(9)])\n",
    "        if col:\n",
    "            secTopX, secTopY = 3*(i//3), 3*(j//3)\n",
    "            for x in range(secTopX, secTopX+3):\n",
    "                for y in range(secTopY, secTopY+3):\n",
    "                    if grid[x][y] == e:\n",
    "                        return False\n",
    "            return True\n",
    "    return True\n",
    "\n",
    "\n",
    "def printSudoku(grid):\n",
    "    numrow = 0\n",
    "    for row in grid:\n",
    "        if numrow % 3 == 0 and numrow != 0:\n",
    "            print(' ')\n",
    "        print(row[0:3], ' ', row[3:6], ' ', row[6:9])\n",
    "        numrow +=1\n",
    "\n",
    "input_ = [[5,1,7,6,0,0,0,3,4],\n",
    "          [2,8,9,0,0,4,0,0,0],\n",
    "          [3,4,6,2,0,5,0,9,0],\n",
    "          [6,0,2,0,0,0,0,1,0],\n",
    "          [0,3,8,0,0,6,0,4,7],\n",
    "          [0,0,0,0,0,0,0,0,0],\n",
    "          [0,9,0,0,0,0,0,7,8],\n",
    "          [7,0,3,4,0,0,5,6,0],\n",
    "          [0,0,0,0,0,0,0,0,0]]\n",
    "\n",
    "\n",
    "\n",
    "def solveSudoku(grid, i=0, j=0):\n",
    "    i, j = findNextCellToFill(grid)\n",
    "    if i == -1:\n",
    "        return True\n",
    "    for e in range(1, 10):\n",
    "        if isValid(grid, i, j, e):\n",
    "            grid[i][j] = e\n",
    "            if solveSudoku(grid, i, j):\n",
    "                return True\n",
    "            grid[i][j] = 0\n",
    "    return False\n"
   ]
  },
  {
   "cell_type": "code",
   "execution_count": 12,
   "metadata": {
    "tags": []
   },
   "outputs": [
    {
     "output_type": "stream",
     "name": "stdout",
     "text": "[5, 1, 7]   [6, 0, 0]   [0, 3, 4]\n[2, 8, 9]   [0, 0, 4]   [0, 0, 0]\n[3, 4, 6]   [2, 0, 5]   [0, 9, 0]\n \n[6, 0, 2]   [0, 0, 0]   [0, 1, 0]\n[0, 3, 8]   [0, 0, 6]   [0, 4, 7]\n[0, 0, 0]   [0, 0, 0]   [0, 0, 0]\n \n[0, 9, 0]   [0, 0, 0]   [0, 7, 8]\n[7, 0, 3]   [4, 0, 0]   [5, 6, 0]\n[0, 0, 0]   [0, 0, 0]   [0, 0, 0]\n"
    }
   ],
   "source": [
    "printSudoku(input_)"
   ]
  },
  {
   "cell_type": "code",
   "execution_count": 14,
   "metadata": {
    "tags": []
   },
   "outputs": [
    {
     "output_type": "stream",
     "name": "stdout",
     "text": "[5, 1, 7]   [6, 1, 1]   [1, 3, 4]\n[2, 8, 9]   [2, 1, 4]   [1, 1, 1]\n[3, 4, 6]   [2, 1, 5]   [1, 9, 1]\n \n[6, 1, 2]   [1, 1, 1]   [1, 1, 1]\n[2, 3, 8]   [1, 1, 6]   [1, 4, 7]\n[2, 1, 1]   [1, 1, 1]   [1, 1, 1]\n \n[1, 9, 1]   [1, 1, 1]   [1, 7, 8]\n[7, 1, 3]   [4, 1, 1]   [5, 6, 1]\n[1, 1, 1]   [1, 1, 1]   [1, 1, 1]\n"
    }
   ],
   "source": [
    "solveSudoku(input_)\n",
    "printSudoku(input_)"
   ]
  },
  {
   "cell_type": "code",
   "execution_count": 18,
   "metadata": {},
   "outputs": [
    {
     "output_type": "execute_result",
     "data": {
      "text/plain": "(0, 4)"
     },
     "metadata": {},
     "execution_count": 18
    }
   ],
   "source": [
    "findNextCellToFill(input_)"
   ]
  },
  {
   "cell_type": "code",
   "execution_count": null,
   "metadata": {},
   "outputs": [],
   "source": [
    "class Solution:\n",
    "    \n",
    "    def isValid(self, board, x, y, rows, cols, digit):\n",
    "        # Check row\n",
    "        for j in range(cols):\n",
    "            if (board[x][j] == digit):\n",
    "                return False\n",
    "            \n",
    "        # Check col\n",
    "        for i in range(rows):\n",
    "            if (board[i][y] == digit):\n",
    "                return False\n",
    "            \n",
    "        # Check 3x3 square\n",
    "        boundary_x = x - x%3\n",
    "        boundary_y = y - y%3\n",
    "        \n",
    "        for i in range(boundary_x, boundary_x + 3):\n",
    "            for j in range(boundary_y, boundary_y + 3):\n",
    "                if (i == x and j == y):\n",
    "                    continue\n",
    "                    \n",
    "                if (board[i][j] == digit):\n",
    "                    return False\n",
    "                \n",
    "        return True\n",
    "    \n",
    "    def emptySlots(self, board, rows, cols):\n",
    "        empty = []\n",
    "        \n",
    "        for i in range(rows):\n",
    "            for j in range(cols):\n",
    "                if (board[i][j] == '.'):\n",
    "                    empty.append((i,j))\n",
    "                    \n",
    "        return empty\n",
    "    \n",
    "    def DFS(self, board, empty, start, N, rows, cols):\n",
    "        \n",
    "        # N is number of empty slots\n",
    "        \n",
    "        if (start >= N):\n",
    "            return True\n",
    "        \n",
    "        x = empty[start][0]\n",
    "        y = empty[start][1]\n",
    "        for k in range(1,10):\n",
    "            if (self.isValid(board, x, y, rows, cols, str(k))):\n",
    "                board[x][y] = str(k)\n",
    "                if (self.DFS(board, empty, start+1, N, rows, cols)):\n",
    "                    return True\n",
    "                    \n",
    "        board[x][y] = '.'\n",
    "        return False\n",
    "    \n",
    "    def solveSudoku(self, board):\n",
    "        \"\"\"\n",
    "        :type board: List[List[str]]\n",
    "        :rtype: None Do not return anything, modify board in-place instead.\n",
    "        \"\"\"\n",
    "        \n",
    "        rows = len(board)\n",
    "        cols = len(board[0])\n",
    "                    \n",
    "        empty = self.emptySlots(board, rows, cols)\n",
    "        self.DFS(board, empty, 0, len(empty), rows, cols)"
   ]
  },
  {
   "source": [
    "## 78. Subsets\n",
    "\n",
    "https://leetcode.com/problems/subsets/"
   ],
   "cell_type": "markdown",
   "metadata": {}
  },
  {
   "cell_type": "code",
   "execution_count": 12,
   "metadata": {},
   "outputs": [
    {
     "output_type": "execute_result",
     "data": {
      "text/plain": "[[], [1], [2], [3], [1, 2], [1, 3], [2, 3], [1, 2, 3]]"
     },
     "metadata": {},
     "execution_count": 12
    }
   ],
   "source": [
    "from itertools import combinations\n",
    "\n",
    "nums = [1,2,3]\n",
    "answer = []\n",
    "for i in range(len(nums)+1):\n",
    "    ans = combinations(nums, i)\n",
    "    ans = list(map(list, ans))\n",
    "    answer.extend(ans)\n",
    "answer"
   ]
  },
  {
   "cell_type": "code",
   "execution_count": 13,
   "metadata": {},
   "outputs": [],
   "source": [
    "from itertools import combinations\n",
    "\n",
    "class Solution:\n",
    "    answer = []\n",
    "    def subsets(self, nums):\n",
    "        for i in range(len(nums)+1):\n",
    "            ans = combinations(nums, i)\n",
    "            ans = list(map(list, ans))\n",
    "            answer.extend(ans)"
   ]
  },
  {
   "source": [
    "## 201. Bitwise AND of Numbers Range\n",
    "\n",
    "https://leetcode.com/problems/bitwise-and-of-numbers-range/"
   ],
   "cell_type": "markdown",
   "metadata": {}
  },
  {
   "cell_type": "code",
   "execution_count": 20,
   "metadata": {},
   "outputs": [],
   "source": [
    "class Solution:\n",
    "    def rangeBitwiseAnd(self, m: int, n: int) -> int:\n",
    "        import math\n",
    "        if m==0: \n",
    "            return 0    # avoid log2(0)\n",
    "        if math.log2(n)-math.log2(m) < 1:\n",
    "            output = m\n",
    "            for i in range(m+1,n+1):\n",
    "                output = output & i\n",
    "            return output\n",
    "        else:\n",
    "            return 0"
   ]
  },
  {
   "source": [
    "## 207. Course Schedule\n",
    "\n",
    "https://leetcode.com/problems/course-schedule/"
   ],
   "cell_type": "markdown",
   "metadata": {}
  },
  {
   "cell_type": "code",
   "execution_count": 19,
   "metadata": {},
   "outputs": [],
   "source": [
    "class Solution:\n",
    "    def canFinish(self, numCourses, prerequisites):\n",
    "        # build graph and calculate in_degrees\n",
    "        graph = {i:[] for i in range(numCourses)}\n",
    "        in_degrees = [0 for i in range(numCourses)]\n",
    "        \n",
    "        for m, n in prerequisites:\n",
    "            graph[n].append(m)\n",
    "            in_degrees[m] += 1 \n",
    "            \n",
    "        # enqueue if in_degrees equals to 0\n",
    "        queue = collections.deque([])\n",
    "        cnt = 0\n",
    "        \n",
    "        for i in range(numCourses):\n",
    "            if in_degrees[i] == 0:\n",
    "                queue.append(i)\n",
    "                \n",
    "        while queue:\n",
    "            node = queue.popleft()\n",
    "            cnt += 1 \n",
    "            \n",
    "            for next_node in graph[node]:\n",
    "                # remove edges\n",
    "                in_degrees[next_node] -= 1 \n",
    "                if in_degrees[next_node] == 0:\n",
    "                    queue.append(next_node)\n",
    "        \n",
    "        return cnt == numCourses"
   ]
  },
  {
   "source": [
    "## 763. Partition Labels\n",
    "\n",
    "https://leetcode.com/problems/partition-labels/"
   ],
   "cell_type": "markdown",
   "metadata": {}
  },
  {
   "cell_type": "code",
   "execution_count": null,
   "metadata": {},
   "outputs": [],
   "source": []
  }
 ]
}