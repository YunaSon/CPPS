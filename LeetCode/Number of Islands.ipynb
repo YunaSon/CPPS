{
 "cells": [
  {
   "cell_type": "markdown",
   "metadata": {},
   "source": [
    "## Q Number of Islands\n",
    "Given a 2d grid map of '1's (land) and '0's (water), count the number of islands. \n",
    "An island is surrounded by water and is formed by connecting adjacent lands horizontally or vertically. \n",
    "You may assume all four edges of the grid are all surrounded by water.\n",
    "\n",
    " \n",
    "## Example 1:\n",
    "\n",
    "```\n",
    "Input: grid = [\n",
    "  [\"1\",\"1\",\"1\",\"1\",\"0\"],\n",
    "  [\"1\",\"1\",\"0\",\"1\",\"0\"],\n",
    "  [\"1\",\"1\",\"0\",\"0\",\"0\"],\n",
    "  [\"0\",\"0\",\"0\",\"0\",\"0\"]\n",
    "]\n",
    "Output: 1\n",
    "```\n",
    "\n",
    "```\n",
    "Example 2:\n",
    "\n",
    "Input: grid = [\n",
    "  [\"1\",\"1\",\"0\",\"0\",\"0\"],\n",
    "  [\"1\",\"1\",\"0\",\"0\",\"0\"],\n",
    "  [\"0\",\"0\",\"1\",\"0\",\"0\"],\n",
    "  [\"0\",\"0\",\"0\",\"1\",\"1\"]\n",
    "]\n",
    "Output: 3\n",
    "```"
   ]
  },
  {
   "cell_type": "code",
   "execution_count": 74,
   "metadata": {},
   "outputs": [],
   "source": [
    "class Solution:\n",
    "    def numIslands(self, grid):\n",
    "        count = 0\n",
    "        if not grid:\n",
    "            return count\n",
    "        \n",
    "        y_max = len(grid)\n",
    "        x_max = len(grid[0])\n",
    "        \n",
    "        def helper(x, y):\n",
    "            if 0 <= x < x_max and 0 <= y < y_max and grid[y][x] == '1':\n",
    "                grid[y][x] = '0'\n",
    "                helper(x+1, y)\n",
    "                helper(x-1, y)\n",
    "                helper(x, y+1)\n",
    "                helper(x, y-1)\n",
    "        \n",
    "        for y_idx in range(y_max):\n",
    "            for x_idx in range(x_max):\n",
    "                if grid[y_idx][x_idx] == '1':\n",
    "                    count += 1\n",
    "                    helper(x_idx, y_idx)\n",
    "        return count"
   ]
  }
 ],
 "metadata": {
  "kernelspec": {
   "display_name": "Python 3",
   "language": "python",
   "name": "python3"
  },
  "language_info": {
   "codemirror_mode": {
    "name": "ipython",
    "version": 3
   },
   "file_extension": ".py",
   "mimetype": "text/x-python",
   "name": "python",
   "nbconvert_exporter": "python",
   "pygments_lexer": "ipython3",
   "version": "3.7.6"
  }
 },
 "nbformat": 4,
 "nbformat_minor": 4
}
