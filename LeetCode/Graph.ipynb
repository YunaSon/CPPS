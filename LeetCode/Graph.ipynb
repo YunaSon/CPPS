{
 "cells": [
  {
   "cell_type": "markdown",
   "metadata": {},
   "source": [
    "## 1. Path Sum"
   ]
  },
  {
   "cell_type": "markdown",
   "metadata": {},
   "source": [
    "https://youtu.be/MwLDG-WNOjM"
   ]
  },
  {
   "cell_type": "code",
   "execution_count": 5,
   "metadata": {},
   "outputs": [],
   "source": [
    "class Solution:\n",
    "    def pathSum(self, root, sum):\n",
    "        result = []\n",
    "        path = []\n",
    "        pathofsum = 0\n",
    "        self.dfs(root, pathofsum, sum, path, result)\n",
    "        return result\n",
    "        \n",
    "    def dfs(self, root, pathofsum, sum, path, result):\n",
    "        if root is None:\n",
    "            return None\n",
    "        pathofsum += root.val\n",
    "        if root.left is None and root.right is None and pathofsum == sum:\n",
    "            result.append([*path, root.val])\n",
    "            return None\n",
    "        path.append(root.val)\n",
    "        self.dfs(root.left, pathofsum, sum, path, result)\n",
    "        self.dfs(root.right, pathofsum, sum, path, result)\n",
    "        pathofsum = pathofsum - root.val\n",
    "        path.pop()"
   ]
  },
  {
   "cell_type": "markdown",
   "metadata": {},
   "source": [
    "## 2. Maximum Binary Tree"
   ]
  },
  {
   "cell_type": "code",
   "execution_count": null,
   "metadata": {},
   "outputs": [],
   "source": [
    "class Solution:\n",
    "    def constructMaximumBinaryTree(self, nums):\n",
    "        if nums is None:\n",
    "            return None\n",
    "    \n",
    "        new_val=max(nums)\n",
    "        split_index=nums.index(new_val)\n",
    "        node=TreeNode(new_val)\n",
    "        if len(nums[:split_index]):\n",
    "            node.left=self.constructMaximumBinaryTree(nums[:split_index])\n",
    "        if len(nums[split_index+1:]):\n",
    "            node.right=self.constructMaximumBinaryTree(nums[split_index+1:])\n",
    "\n",
    "        return node       "
   ]
  },
  {
   "cell_type": "markdown",
   "metadata": {},
   "source": [
    "## 3. Network Delay Tree"
   ]
  },
  {
   "cell_type": "markdown",
   "metadata": {},
   "source": [
    "**Approach #1: Depth-First Search [Accepted]**\n",
    "\n",
    "Intuition\n",
    "\n",
    "Let's record the time dist[node] when the signal reaches the node. If some signal arrived earlier, we don't need to broadcast it anymore. Otherwise, we should broadcast the signal.\n",
    "\n",
    "Algorithm\n",
    "\n",
    "We'll maintain dist[node], the earliest that we arrived at each node. When visiting a node while elapsed time has elapsed, if this is the currently-fastest signal at this node, let's broadcast signals from this node.\n",
    "\n",
    "To speed things up, at each visited node we'll consider signals exiting the node that are faster first, by sorting the edges."
   ]
  },
  {
   "cell_type": "code",
   "execution_count": 6,
   "metadata": {},
   "outputs": [],
   "source": [
    "class Solution(object):\n",
    "    def networkDelayTime(self, times, N, K):\n",
    "        graph = collections.defaultdict(list)\n",
    "        for u, v, w in times:\n",
    "            graph[u].append((v, w))\n",
    "\n",
    "        dist = {node: float('inf') for node in xrange(1, N+1)}\n",
    "        seen = [False] * (N+1)\n",
    "        dist[K] = 0\n",
    "\n",
    "        while True:\n",
    "            cand_node = -1\n",
    "            cand_dist = float('inf')\n",
    "            for i in xrange(1, N+1):\n",
    "                if not seen[i] and dist[i] < cand_dist:\n",
    "                    cand_dist = dist[i]\n",
    "                    cand_node = i\n",
    "\n",
    "            if cand_node < 0: break\n",
    "            seen[cand_node] = True\n",
    "            for nei, d in graph[cand_node]:\n",
    "                dist[nei] = min(dist[nei], dist[cand_node] + d)\n",
    "\n",
    "        ans = max(dist.values())\n",
    "        return ans if ans < float('inf') else -1"
   ]
  },
  {
   "cell_type": "markdown",
   "metadata": {},
   "source": [
    "Complexity Analysis\n",
    "\n",
    "Time Complexity: O(N^N + E \\log E)O(N \n",
    "N\n",
    " +ElogE) where EE is the length of times. We can only fully visit each node up to N-1N−1 times, one per each other node. Plus, we have to explore every edge and sort them. Sorting each small bucket of outgoing edges is bounded by sorting all of them, because of repeated use of the inequality x \\log x + y \\log y \\leq (x+y) \\log (x+y)xlogx+ylogy≤(x+y)log(x+y).\n",
    "\n",
    "Space Complexity: O(N + E)O(N+E), the size of the graph (O(E)O(E)), plus the size of the implicit call stack in our DFS (O(N)O(N))."
   ]
  },
  {
   "cell_type": "markdown",
   "metadata": {},
   "source": [
    "**Approach #2: Dijkstra's Algorithm [Accepted]**\n",
    "\n",
    "Intuition and Algorithm\n",
    "\n",
    "We use Dijkstra's algorithm to find the shortest path from our source to all targets. This is a textbook algorithm, refer to this link for more details.\n",
    "\n",
    "Dijkstra's algorithm is based on repeatedly making the candidate move that has the least distance travelled.\n",
    "\n",
    "In our implementations below, we showcase both O(N^2)O(N \n",
    "2\n",
    " ) (basic) and O(N \\log N)O(NlogN) (heap) approaches.\n",
    "\n",
    "Basic Implementation"
   ]
  },
  {
   "cell_type": "code",
   "execution_count": 7,
   "metadata": {},
   "outputs": [],
   "source": [
    "class Solution(object):\n",
    "    def networkDelayTime(self, times, N, K):\n",
    "        graph = collections.defaultdict(list)\n",
    "        for u, v, w in times:\n",
    "            graph[u].append((v, w))\n",
    "\n",
    "        pq = [(0, K)]\n",
    "        dist = {}\n",
    "        while pq:\n",
    "            d, node = heapq.heappop(pq)\n",
    "            if node in dist: continue\n",
    "            dist[node] = d\n",
    "            for nei, d2 in graph[node]:\n",
    "                if nei not in dist:\n",
    "                    heapq.heappush(pq, (d+d2, nei))\n",
    "\n",
    "        return max(dist.values()) if len(dist) == N else -1"
   ]
  },
  {
   "cell_type": "markdown",
   "metadata": {},
   "source": [
    "**Complexity Analysis**\n",
    "\n",
    "Time Complexity: O(N^2 + E)O(N \n",
    "2\n",
    " +E)m where EE is the length of times in the basic implementation, and O(E \\log E)O(ElogE) in the heap implementation, as potentially every edge gets added to the heap.\n",
    "\n",
    "Space Complexity: O(N + E)O(N+E), the size of the graph (O(E)O(E)), plus the size of the other objects used (O(N)O(N))."
   ]
  },
  {
   "cell_type": "markdown",
   "metadata": {},
   "source": [
    "## 5. Distribute Coins in Binary Tree"
   ]
  },
  {
   "cell_type": "code",
   "execution_count": null,
   "metadata": {},
   "outputs": [],
   "source": [
    "**Approach 1: Depth First Search\n",
    "Intuition\n",
    "\n",
    "If the leaf of a tree has 0 coins (an excess of -1 from what it needs), then we should push a coin from its parent onto the leaf. If it has say, 4 coins (an excess of 3), then we should push 3 coins off the leaf. In total, the number of moves from that leaf to or from its parent is excess = Math.abs(num_coins - 1). Afterwards, we never have to consider this leaf again in the rest of our calculation.\n",
    "\n",
    "Algorithm\n",
    "\n",
    "We can use the above fact to build our answer. Let dfs(node) be the excess number of coins in the subtree at or below this node: namely, the number of coins in the subtree, minus the number of nodes in the subtree. Then, the number of moves we make from this node to and from its children is abs(dfs(node.left)) + abs(dfs(node.right)). After, we have an excess of node.val + dfs(node.left) + dfs(node.right) - 1 coins at this node."
   ]
  }
 ],
 "metadata": {
  "kernelspec": {
   "display_name": "Python 3",
   "language": "python",
   "name": "python3"
  },
  "language_info": {
   "codemirror_mode": {
    "name": "ipython",
    "version": 3
   },
   "file_extension": ".py",
   "mimetype": "text/x-python",
   "name": "python",
   "nbconvert_exporter": "python",
   "pygments_lexer": "ipython3",
   "version": "3.7.6"
  }
 },
 "nbformat": 4,
 "nbformat_minor": 4
}
