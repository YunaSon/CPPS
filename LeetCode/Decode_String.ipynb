{
 "cells": [
  {
   "cell_type": "markdown",
   "metadata": {},
   "source": [
    "## Q\n",
    "Given an encoded string, return its decoded string.\n",
    "\n",
    "The encoding rule is: k[encoded_string], where the encoded_string inside the square brackets is being repeated exactly k times. Note that k is guaranteed to be a positive integer.\n",
    "\n",
    "You may assume that the input string is always valid; No extra white spaces, square brackets are well-formed, etc.\n",
    "\n",
    "Furthermore, you may assume that the original data does not contain any digits and that digits are only for those repeat numbers, k. For example, there won't be input like 3a or 2[4].\n",
    "\n",
    " \n",
    "\n",
    "## Example\n",
    "\n",
    "Example 1:\n",
    "```\n",
    "Input: s = \"3[a]2[bc]\"\n",
    "Output: \"aaabcbc\"\n",
    "```\n",
    "\n",
    "Example 2:\n",
    "\n",
    "```\n",
    "Input: s = \"3[a2[c]]\"\n",
    "Output: \"accaccacc\"\n",
    "```\n",
    "\n",
    "Example 3:\n",
    "```\n",
    "Input: s = \"2[abc]3[cd]ef\"\n",
    "Output: \"abcabccdcdcdef\"\n",
    "```\n",
    "\n",
    "Example 4:\n",
    "\n",
    "```\n",
    "Input: s = \"abc3[cd]xyz\"\n",
    "Output: \"abccdcdcdxyz\"\n",
    "```"
   ]
  },
  {
   "cell_type": "code",
   "execution_count": 1,
   "metadata": {},
   "outputs": [],
   "source": [
    "class Solution:\n",
    "    def decodeString(self, s: str) -> str:\n",
    "        res, stack = \"\", []\n",
    "        for char in s:\n",
    "            #append any char other than closing bracket to the stack\n",
    "            if char != ']':\n",
    "                stack.append(char)                 \n",
    "            else:\n",
    "                currStr, multiplier = '', ''\n",
    "                # this gives the current string till the last opening bracket\n",
    "                while stack[-1] != '[':                      \n",
    "                    currStr = stack.pop() + currStr\n",
    "                # throw away the opening bracket, not needed\n",
    "                stack.pop()                                       \n",
    "                # this gives the multiplier of the currentString\n",
    "                while len(stack) and stack[-1].isdigit():          \n",
    "                    multiplier = stack.pop() + multiplier\n",
    "                # this generates the whole string\n",
    "                curr = int(multiplier) * currStr                \n",
    "                for c in curr:\n",
    "                    # append the string back to the stack\n",
    "                    stack.append(c)                   \n",
    "        return res + \"\".join(stack)"
   ]
  },
  {
   "cell_type": "code",
   "execution_count": null,
   "metadata": {},
   "outputs": [],
   "source": []
  }
 ],
 "metadata": {
  "kernelspec": {
   "display_name": "Python 3",
   "language": "python",
   "name": "python3"
  },
  "language_info": {
   "codemirror_mode": {
    "name": "ipython",
    "version": 3
   },
   "file_extension": ".py",
   "mimetype": "text/x-python",
   "name": "python",
   "nbconvert_exporter": "python",
   "pygments_lexer": "ipython3",
   "version": "3.7.6"
  }
 },
 "nbformat": 4,
 "nbformat_minor": 4
}
