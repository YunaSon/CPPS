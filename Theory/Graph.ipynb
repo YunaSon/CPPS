{
 "cells": [
  {
   "cell_type": "code",
   "execution_count": 13,
   "metadata": {},
   "outputs": [],
   "source": [
    "graph = {'B':['C'],\n",
    "        'C':['B','D'],\n",
    "        'D':['C', 'E', 'F'],\n",
    "        'E':['D'],\n",
    "        'F':['D', 'G', 'H', 'I'],\n",
    "        'G':['F'],\n",
    "        'H':['F'],\n",
    "        'I':['F']}"
   ]
  },
  {
   "cell_type": "code",
   "execution_count": 10,
   "metadata": {},
   "outputs": [],
   "source": [
    "graph2 = {'F':['D', 'G', 'H', 'I'],\n",
    "         'B':['C'],\n",
    "         'D':['C', 'E', 'F'],\n",
    "         'E':['D'],\n",
    "         'H':['F'],\n",
    "         'C':['B', 'D'],\n",
    "         'G':['F'],\n",
    "         'I':['F']}"
   ]
  },
  {
   "cell_type": "markdown",
   "metadata": {},
   "source": [
    "1. color = Shaded, vertex = 시작 꼭짓점 w\n",
    "2. 만약 w가 아직 색칠되지 않았다면, w를 color로 색칠\n",
    "3. 만약 w가 이미 color와는 다른 색으로 색칠되었다면, 이 그래프는 이분 그래프일 수 없으므로 false를 출력\n",
    "4. 만약 w가 올바른 색으로 색칠되어 있으면 True와 꼭짓점마다의 색 출력\n",
    "5. color를 뒤집기: Shaded(빗살 무늬)에서 Hatched(체크 무늬)또는 Hatched에서 Shaded\n",
    "6. w의 각각의 이웃 v에 대해서 재귀적으로 v와 color를 입력값으로 하는 함수 호출(예를 들어, w를 v로 변경해서 단계 2로부터 다시 시작) 만약 재귀 호출 중 하나라도 False를 출력하면, 현재 함수도 False를 출력\n",
    "7. 이 그래프는 이분 그래프이므로 True와 꼭짓점마다 색 출력"
   ]
  },
  {
   "cell_type": "code",
   "execution_count": 23,
   "metadata": {},
   "outputs": [],
   "source": [
    "def bipartiteGraphColor(graph, start, color, coloring={}):\n",
    "    '''\n",
    "    start: 가장 먼저 색칠할 노드 \n",
    "    coloring: 노드를 어떤 색으로 색칠되었는지 저장할 딕셔너리 \n",
    "    color: start 꼭짓점을 색칠할 색\n",
    "    \n",
    "    '''\n",
    "    if not start in graph:\n",
    "        return False, {}\n",
    "    if not start in coloring:\n",
    "        coloring[start] = color\n",
    "    elif coloring[start] != color:\n",
    "        return False, {}\n",
    "    else:\n",
    "        return True, coloring\n",
    "    if color == 'Sha':\n",
    "        newcolor = 'Hat'\n",
    "    else:\n",
    "        newcolor = 'Sha'\n",
    "    for vertex in graph[start]:\n",
    "        val, coloring = bipartiteGraphColor(graph, vertex, newcolor)\n",
    "        \n",
    "        if val == False:\n",
    "            return False, {}\n",
    "\n",
    "    return True, coloring"
   ]
  },
  {
   "cell_type": "code",
   "execution_count": 24,
   "metadata": {},
   "outputs": [
    {
     "data": {
      "text/plain": [
       "(True,\n",
       " {'B': 'Hat',\n",
       "  'C': 'Sha',\n",
       "  'D': 'Hat',\n",
       "  'E': 'Sha',\n",
       "  'F': 'Sha',\n",
       "  'G': 'Hat',\n",
       "  'H': 'Hat',\n",
       "  'I': 'Hat'})"
      ]
     },
     "execution_count": 24,
     "metadata": {},
     "output_type": "execute_result"
    }
   ],
   "source": [
    "bipartiteGraphColor(graph, 'B', 'Hat')"
   ]
  },
  {
   "cell_type": "code",
   "execution_count": 13,
   "metadata": {
    "tags": []
   },
   "outputs": [
    {
     "output_type": "execute_result",
     "data": {
      "text/plain": "{'0', '1', '2', '3', '4'}"
     },
     "metadata": {},
     "execution_count": 13
    }
   ],
   "source": [
    "# DFS algorithm in Python\n",
    "\n",
    "\n",
    "# DFS algorithm\n",
    "def dfs(graph, start, visited=None):\n",
    "    if visited is None:\n",
    "        visited = set()\n",
    "    visited.add(start)\n",
    "    for next in graph[start] - visited:\n",
    "        dfs(graph, next, visited)\n",
    "    return visited\n",
    "\n",
    "\n",
    "graph = {'0': set(['1', '2']),\n",
    "         '1': set(['0', '3', '4']),\n",
    "         '2': set(['0']),\n",
    "         '3': set(['1']),\n",
    "         '4': set(['2', '3'])}\n",
    "\n",
    "dfs(graph, '0')"
   ]
  },
  {
   "cell_type": "code",
   "execution_count": 9,
   "metadata": {},
   "outputs": [],
   "source": [
    "graph1 = {\n",
    "    'A' : ['B','S'],\n",
    "    'B' : ['A'],\n",
    "    'C' : ['D','E','F','S'],\n",
    "    'D' : ['C'],\n",
    "    'E' : ['C','H'],\n",
    "    'F' : ['C','G'],\n",
    "    'G' : ['F','S'],\n",
    "    'H' : ['E','G'],\n",
    "    'S' : ['A','C','G']\n",
    "}\n",
    "\n",
    "visited = []\n",
    "\n",
    "def dfs(graph,node):\n",
    "    global visited\n",
    "    if node not in visited:\n",
    "        visited.append(node)\n",
    "        for n in graph[node]:\n",
    "            dfs(graph,n)\n",
    "    print(visited)"
   ]
  },
  {
   "cell_type": "code",
   "execution_count": 10,
   "metadata": {
    "tags": []
   },
   "outputs": [
    {
     "output_type": "stream",
     "name": "stdout",
     "text": "['A', 'B']\n['A', 'B']\n['A', 'B', 'S']\n['A', 'B', 'S', 'C', 'D']\n['A', 'B', 'S', 'C', 'D']\n['A', 'B', 'S', 'C', 'D', 'E']\n['A', 'B', 'S', 'C', 'D', 'E', 'H']\n['A', 'B', 'S', 'C', 'D', 'E', 'H', 'G', 'F']\n['A', 'B', 'S', 'C', 'D', 'E', 'H', 'G', 'F']\n['A', 'B', 'S', 'C', 'D', 'E', 'H', 'G', 'F']\n['A', 'B', 'S', 'C', 'D', 'E', 'H', 'G', 'F']\n['A', 'B', 'S', 'C', 'D', 'E', 'H', 'G', 'F']\n['A', 'B', 'S', 'C', 'D', 'E', 'H', 'G', 'F']\n['A', 'B', 'S', 'C', 'D', 'E', 'H', 'G', 'F']\n['A', 'B', 'S', 'C', 'D', 'E', 'H', 'G', 'F']\n['A', 'B', 'S', 'C', 'D', 'E', 'H', 'G', 'F']\n['A', 'B', 'S', 'C', 'D', 'E', 'H', 'G', 'F']\n['A', 'B', 'S', 'C', 'D', 'E', 'H', 'G', 'F']\n['A', 'B', 'S', 'C', 'D', 'E', 'H', 'G', 'F']\n['A', 'B', 'S', 'C', 'D', 'E', 'H', 'G', 'F']\n"
    }
   ],
   "source": [
    "dfs(graph1, node='A')"
   ]
  },
  {
   "cell_type": "code",
   "execution_count": 40,
   "metadata": {},
   "outputs": [],
   "source": [
    "graph = {'A':set(['B']),\n",
    "\t'B':set(['A','B']),\n",
    "\t'C':set(['B','G']),\n",
    "    \t'D':set(['E','F']),\n",
    "    \t'E':set(['D']),\n",
    "    \t'F':set(['D','G','I']),\n",
    "    \t'G':set(['C','F','H']),\n",
    "    \t'H':set(['G','I']),\n",
    "    \t'I':set(['F','H'])}"
   ]
  },
  {
   "cell_type": "code",
   "execution_count": 41,
   "metadata": {},
   "outputs": [],
   "source": [
    "# DFS algorithm\n",
    "def dfs(graph, start, visited=None):\n",
    "    if visited is None:\n",
    "        visited = set()\n",
    "    visited.add(start)\n",
    "\n",
    "    print(start)\n",
    "\n",
    "    for next in graph[start] - visited:\n",
    "        dfs(graph, next, visited)\n",
    "    return visited"
   ]
  },
  {
   "cell_type": "code",
   "execution_count": 42,
   "metadata": {
    "tags": []
   },
   "outputs": [
    {
     "output_type": "stream",
     "name": "stdout",
     "text": "A\nB\n"
    },
    {
     "output_type": "execute_result",
     "data": {
      "text/plain": "{'A', 'B'}"
     },
     "metadata": {},
     "execution_count": 42
    }
   ],
   "source": [
    "dfs(graph, 'A')"
   ]
  },
  {
   "cell_type": "code",
   "execution_count": 51,
   "metadata": {
    "tags": []
   },
   "outputs": [
    {
     "output_type": "stream",
     "name": "stdout",
     "text": "A\nB\nC\nG\nH\nI\nF\nD\nE\nF\n"
    },
    {
     "output_type": "execute_result",
     "data": {
      "text/plain": "{'A', 'B', 'C', 'D', 'E', 'F', 'G', 'H', 'I'}"
     },
     "metadata": {},
     "execution_count": 51
    }
   ],
   "source": [
    "# DFS algorithm\n",
    "def dfs(graph, start, visited=None):\n",
    "    if visited is None:\n",
    "        visited = set()\n",
    "    visited.add(start)\n",
    "    print(start)\n",
    "\n",
    "    for i in graph[start] - visited:\n",
    "        dfs(graph, i, visited)\n",
    "        #visited.add(i)\n",
    "        #print(i)\n",
    "    return visited\n",
    "\n",
    "\n",
    "graph = {'A':set(['B']),\n",
    "\t'B':set(['A','C']),\n",
    "\t'C':set(['B','G']),\n",
    "    \t'D':set(['E','F']),\n",
    "    \t'E':set(['D']),\n",
    "    \t'F':set(['D','G','I']),\n",
    "    \t'G':set(['C','F','H']),\n",
    "    \t'H':set(['G','I']),\n",
    "    \t'I':set(['F','H'])}\n",
    "\n",
    "dfs(graph, 'A')"
   ]
  },
  {
   "cell_type": "code",
   "execution_count": 48,
   "metadata": {},
   "outputs": [],
   "source": [
    "visited = {'A'}"
   ]
  },
  {
   "cell_type": "code",
   "execution_count": 49,
   "metadata": {},
   "outputs": [
    {
     "output_type": "execute_result",
     "data": {
      "text/plain": "{'B', 'G'}"
     },
     "metadata": {},
     "execution_count": 49
    }
   ],
   "source": [
    "graph['C'] - visited"
   ]
  },
  {
   "cell_type": "code",
   "execution_count": 84,
   "metadata": {
    "tags": []
   },
   "outputs": [
    {
     "output_type": "stream",
     "name": "stdout",
     "text": "deque(['C'])\ndeque(['G', 'B'])\ndeque(['B', 'H', 'F'])\ndeque(['H', 'F', 'A'])\ndeque(['F', 'A', 'I'])\ndeque(['A', 'I', 'D'])\ndeque(['I', 'D'])\ndeque(['D'])\ndeque(['E'])\n"
    },
    {
     "output_type": "execute_result",
     "data": {
      "text/plain": "{'A', 'B', 'C', 'D', 'E', 'F', 'G', 'H', 'I'}"
     },
     "metadata": {},
     "execution_count": 84
    }
   ],
   "source": [
    "import collections\n",
    "\n",
    "def bfs(graph, root):\n",
    "    visited = set() \n",
    "    visited.add(root)\n",
    "    queue = collections.deque([root])\n",
    "\n",
    "    while queue:\n",
    "        print(queue)\n",
    "        vertex = queue.popleft()\n",
    "        for neighbour in graph[vertex]:\n",
    "            if neighbour not in visited:\n",
    "                visited.add(neighbour)\n",
    "                queue.append(neighbour)\n",
    "    return visited\n",
    "\n",
    "\n",
    "graph = {'A':set(['B']),\n",
    "\t'B':set(['A','C']),\n",
    "\t'C':set(['B','G']),\n",
    "    \t'D':set(['E','F']),\n",
    "    \t'E':set(['D']),\n",
    "    \t'F':set(['D','G','I']),\n",
    "    \t'G':set(['C','F','H']),\n",
    "    \t'H':set(['G','I']),\n",
    "    \t'I':set(['F','H'])}\n",
    "\n",
    "bfs(graph, 'C')"
   ]
  },
  {
   "cell_type": "code",
   "execution_count": 77,
   "metadata": {
    "tags": []
   },
   "outputs": [
    {
     "output_type": "stream",
     "name": "stdout",
     "text": "('A', ['B'])\n('B', ['A', 'C'])\n('C', ['G', 'B'])\n('D', ['F', 'E'])\n('E', ['D'])\n('F', ['G', 'D', 'I'])\n('G', ['H', 'F', 'C'])\n('H', ['G', 'I'])\n('I', ['H', 'F'])\n"
    }
   ],
   "source": [
    "graph = {'A':set(['B']),\n",
    "\t'B':set(['A','C']),\n",
    "\t'C':set(['B','G']),\n",
    "    \t'D':set(['E','F']),\n",
    "    \t'E':set(['D']),\n",
    "    \t'F':set(['D','G','I']),\n",
    "    \t'G':set(['C','F','H']),\n",
    "    \t'H':set(['G','I']),\n",
    "    \t'I':set(['F','H'])}\n",
    "\n",
    "vertex = graph.keys()\n",
    "vertex\n",
    "edge = list(map(list, graph.values()))\n",
    "\n",
    "for i in zip(vertex, edge):\n",
    "    print(i)"
   ]
  },
  {
   "cell_type": "code",
   "execution_count": 69,
   "metadata": {},
   "outputs": [
    {
     "output_type": "error",
     "ename": "TypeError",
     "evalue": "list indices must be integers or slices, not str",
     "traceback": [
      "\u001b[0;31m---------------------------------------------------------------------------\u001b[0m",
      "\u001b[0;31mTypeError\u001b[0m                                 Traceback (most recent call last)",
      "\u001b[0;32m<ipython-input-69-e39bbb67c79c>\u001b[0m in \u001b[0;36m<module>\u001b[0;34m\u001b[0m\n\u001b[0;32m----> 1\u001b[0;31m \u001b[0mbfs\u001b[0m\u001b[0;34m(\u001b[0m\u001b[0mgraph\u001b[0m\u001b[0;34m,\u001b[0m \u001b[0;34m'B'\u001b[0m\u001b[0;34m)\u001b[0m\u001b[0;34m\u001b[0m\u001b[0;34m\u001b[0m\u001b[0m\n\u001b[0m",
      "\u001b[0;32m<ipython-input-68-f7cfc813cab8>\u001b[0m in \u001b[0;36mbfs\u001b[0;34m(graph, start)\u001b[0m\n\u001b[1;32m     19\u001b[0m     \u001b[0;32mwhile\u001b[0m \u001b[0mqueue\u001b[0m\u001b[0;34m:\u001b[0m\u001b[0;34m\u001b[0m\u001b[0;34m\u001b[0m\u001b[0m\n\u001b[1;32m     20\u001b[0m         \u001b[0mcurrent\u001b[0m \u001b[0;34m=\u001b[0m \u001b[0mqueue\u001b[0m\u001b[0;34m.\u001b[0m\u001b[0mpop\u001b[0m\u001b[0;34m(\u001b[0m\u001b[0;34m)\u001b[0m\u001b[0;34m\u001b[0m\u001b[0;34m\u001b[0m\u001b[0m\n\u001b[0;32m---> 21\u001b[0;31m         \u001b[0;32mfor\u001b[0m \u001b[0mneighbor\u001b[0m \u001b[0;32min\u001b[0m \u001b[0madj\u001b[0m\u001b[0;34m[\u001b[0m\u001b[0mcurrent\u001b[0m\u001b[0;34m]\u001b[0m\u001b[0;34m:\u001b[0m\u001b[0;34m\u001b[0m\u001b[0;34m\u001b[0m\u001b[0m\n\u001b[0m\u001b[1;32m     22\u001b[0m             \u001b[0;32mif\u001b[0m \u001b[0;32mnot\u001b[0m \u001b[0mneighbor\u001b[0m \u001b[0;32min\u001b[0m \u001b[0mvisited\u001b[0m\u001b[0;34m:\u001b[0m\u001b[0;34m\u001b[0m\u001b[0;34m\u001b[0m\u001b[0m\n\u001b[1;32m     23\u001b[0m                 \u001b[0mqueue\u001b[0m\u001b[0;34m.\u001b[0m\u001b[0minsert\u001b[0m\u001b[0;34m(\u001b[0m\u001b[0;36m0\u001b[0m\u001b[0;34m,\u001b[0m\u001b[0mneighbor\u001b[0m\u001b[0;34m)\u001b[0m\u001b[0;34m\u001b[0m\u001b[0;34m\u001b[0m\u001b[0m\n",
      "\u001b[0;31mTypeError\u001b[0m: list indices must be integers or slices, not str"
     ]
    }
   ],
   "source": [
    "def bfs(graph, start):\n",
    "    vertex = graph.keys()\n",
    "    edge = graph.values()\n",
    "    visited = []\n",
    "    queue = [start]\n",
    "    adj = [[_] for _ in graph.values()]\n",
    "\n",
    "    # bfs\n",
    "    while queue:\n",
    "        current = queue.pop()\n",
    "        for neighbor in adj[current]:\n",
    "            if not neighbor in visited:\n",
    "                queue.insert(0,neighbor)\n",
    "        visited.append(current)\n",
    "    return visited"
   ]
  },
  {
   "cell_type": "code",
   "execution_count": null,
   "metadata": {},
   "outputs": [],
   "source": [
    "vertexList = ['A', 'B', 'C', 'D', 'E', 'F', 'G']\n",
    "edgeList = [(0,1), (1,2), (1,3), (3,4), (4,5), (1,6)]\n",
    "graphs = (vertexList, edgeList)\n",
    "\n",
    "def bfs(graph, start):\n",
    "    vertexList, edgeList = graph\n",
    "    visitedList = []\n",
    "    queue = [start]\n",
    "    adjacencyList = [[] for vertex in vertexList]\n",
    "\n",
    "    # fill adjacencyList from graph\n",
    "    for edge in edgeList:\n",
    "        adjacencyList[edge[0]].append(edge[1])\n",
    "\n",
    "    # bfs\n",
    "    while queue:\n",
    "        current = queue.pop()\n",
    "        for neighbor in adjacencyList[current]:\n",
    "            if not neighbor in visitedList:\n",
    "                queue.insert(0,neighbor)\n",
    "        visitedList.append(current)\n",
    "    return visitedList\n",
    "\n",
    "print(bfs(graphs, 0))"
   ]
  },
  {
   "cell_type": "code",
   "execution_count": 78,
   "metadata": {},
   "outputs": [],
   "source": [
    "def dfs(graph, start, visited=None):\n",
    "    if visited is None:\n",
    "        visited = set()\n",
    "    visited.add(start)\n",
    "\n",
    "    for i in graph[start] - visited:\n",
    "        dfs(graph, i, visited)\n",
    "    return visited"
   ]
  },
  {
   "cell_type": "code",
   "execution_count": 79,
   "metadata": {},
   "outputs": [
    {
     "output_type": "execute_result",
     "data": {
      "text/plain": "{'A', 'B', 'C', 'D', 'E', 'F', 'G', 'H', 'I'}"
     },
     "metadata": {},
     "execution_count": 79
    }
   ],
   "source": [
    "dfs(graph, 'C')"
   ]
  },
  {
   "cell_type": "code",
   "execution_count": null,
   "metadata": {},
   "outputs": [],
   "source": []
  }
 ],
 "metadata": {
  "kernelspec": {
   "display_name": "Python 3.7.9 64-bit",
   "language": "python",
   "name": "python_defaultSpec_1600850381085"
  },
  "language_info": {
   "codemirror_mode": {
    "name": "ipython",
    "version": 3
   },
   "file_extension": ".py",
   "mimetype": "text/x-python",
   "name": "python",
   "nbconvert_exporter": "python",
   "pygments_lexer": "ipython3",
   "version": "3.7.9-final"
  }
 },
 "nbformat": 4,
 "nbformat_minor": 4
}