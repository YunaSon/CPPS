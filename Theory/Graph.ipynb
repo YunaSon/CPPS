{
 "cells": [
  {
   "cell_type": "code",
   "execution_count": 13,
   "metadata": {},
   "outputs": [],
   "source": [
    "graph = {'B':['C'],\n",
    "        'C':['B','D'],\n",
    "        'D':['C', 'E', 'F'],\n",
    "        'E':['D'],\n",
    "        'F':['D', 'G', 'H', 'I'],\n",
    "        'G':['F'],\n",
    "        'H':['F'],\n",
    "        'I':['F']}"
   ]
  },
  {
   "cell_type": "code",
   "execution_count": 10,
   "metadata": {},
   "outputs": [],
   "source": [
    "graph2 = {'F':['D', 'G', 'H', 'I'],\n",
    "         'B':['C'],\n",
    "         'D':['C', 'E', 'F'],\n",
    "         'E':['D'],\n",
    "         'H':['F'],\n",
    "         'C':['B', 'D'],\n",
    "         'G':['F'],\n",
    "         'I':['F']}"
   ]
  },
  {
   "cell_type": "markdown",
   "metadata": {},
   "source": [
    "1. color = Shaded, vertex = 시작 꼭짓점 w\n",
    "2. 만약 w가 아직 색칠되지 않았다면, w를 color로 색칠\n",
    "3. 만약 w가 이미 color와는 다른 색으로 색칠되었다면, 이 그래프는 이분 그래프일 수 없으므로 false를 출력\n",
    "4. 만약 w가 올바른 색으로 색칠되어 있으면 True와 꼭짓점마다의 색 출력\n",
    "5. color를 뒤집기: Shaded(빗살 무늬)에서 Hatched(체크 무늬)또는 Hatched에서 Shaded\n",
    "6. w의 각각의 이웃 v에 대해서 재귀적으로 v와 color를 입력값으로 하는 함수 호출(예를 들어, w를 v로 변경해서 단계 2로부터 다시 시작) 만약 재귀 호출 중 하나라도 False를 출력하면, 현재 함수도 False를 출력\n",
    "7. 이 그래프는 이분 그래프이므로 True와 꼭짓점마다 색 출력"
   ]
  },
  {
   "cell_type": "code",
   "execution_count": 23,
   "metadata": {},
   "outputs": [],
   "source": [
    "def bipartiteGraphColor(graph, start, color, coloring={}):\n",
    "    '''\n",
    "    start: 가장 먼저 색칠할 노드 \n",
    "    coloring: 노드를 어떤 색으로 색칠되었는지 저장할 딕셔너리 \n",
    "    color: start 꼭짓점을 색칠할 색\n",
    "    \n",
    "    '''\n",
    "    if not start in graph:\n",
    "        return False, {}\n",
    "    if not start in coloring:\n",
    "        coloring[start] = color\n",
    "    elif coloring[start] != color:\n",
    "        return False, {}\n",
    "    else:\n",
    "        return True, coloring\n",
    "    if color == 'Sha':\n",
    "        newcolor = 'Hat'\n",
    "    else:\n",
    "        newcolor = 'Sha'\n",
    "    for vertex in graph[start]:\n",
    "        val, coloring = bipartiteGraphColor(graph, vertex, newcolor)\n",
    "        \n",
    "        if val == False:\n",
    "            return False, {}\n",
    "\n",
    "    return True, coloring"
   ]
  },
  {
   "cell_type": "code",
   "execution_count": 24,
   "metadata": {},
   "outputs": [
    {
     "data": {
      "text/plain": [
       "(True,\n",
       " {'B': 'Hat',\n",
       "  'C': 'Sha',\n",
       "  'D': 'Hat',\n",
       "  'E': 'Sha',\n",
       "  'F': 'Sha',\n",
       "  'G': 'Hat',\n",
       "  'H': 'Hat',\n",
       "  'I': 'Hat'})"
      ]
     },
     "execution_count": 24,
     "metadata": {},
     "output_type": "execute_result"
    }
   ],
   "source": [
    "bipartiteGraphColor(graph, 'B', 'Hat')"
   ]
  },
  {
   "cell_type": "code",
   "execution_count": null,
   "metadata": {},
   "outputs": [],
   "source": []
  }
 ],
 "metadata": {
  "kernelspec": {
   "display_name": "Python 3",
   "language": "python",
   "name": "python3"
  },
  "language_info": {
   "codemirror_mode": {
    "name": "ipython",
    "version": 3
   },
   "file_extension": ".py",
   "mimetype": "text/x-python",
   "name": "python",
   "nbconvert_exporter": "python",
   "pygments_lexer": "ipython3",
   "version": "3.7.6"
  }
 },
 "nbformat": 4,
 "nbformat_minor": 4
}
